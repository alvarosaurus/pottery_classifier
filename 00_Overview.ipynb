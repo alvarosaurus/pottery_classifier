{
 "cells": [
  {
   "cell_type": "markdown",
   "id": "22fcdce9",
   "metadata": {},
   "source": [
    "# Classification of mass-digitized 3D-models of European archaeological pottery"
   ]
  },
  {
   "cell_type": "markdown",
   "id": "93c1efcd",
   "metadata": {},
   "source": [
    "Digitization of museum collections is currently a major challenge faced by culturage heritage and natural history museums. Museums are expected to digitize the collections to improve not only the documentation of artefacts, but also their availability for research, reconstruction and outreach activities, and to make these digital representations available online.\n",
    "\n",
    "While 2D-digitalization, achieved through high resolution 2D-scans and photographs, e.g. of paintings, is a well understood process, 3D-digitalization of archaeological or natural history artefacts remains costly and time-consuming: at the time of writing, digitizing an artefact can take several hours including post-processing, therefore digitization is currently reserved for the most prestigious items in the collection. Efforts towards enabling a cost-efficient and timely mass-digitalization of _all_ the artefacts in a collection are underway, e.g. at the [Fraunhofer Institute for Computer Graphics Research IGD](https://www.igd.fraunhofer.de/en/competences/technologies/3d-scanning), at the [Forschungs- und Kompetenzzentrum Digitalisierung Berlin](https://www.digis-berlin.de/) and at [Museum für Naturkunde Berlin](https://www.museumfuernaturkunde.berlin/en/museum/exhibitions/live-digitization) (fig. 1). \n",
    "\n",
    "Discussions with the [digitization](https://www.museumfuernaturkunde.berlin/en/museum/exhibitions/live-digitization) manager at Museum für Naturkunde Berlin (MfN) and with the contractor who provides the [3D-scanning technology](https://picturae.com/en/) at MfN show that there is a need for an automated method for extracting information from the scans. The Senate Department for Science, Research and Culture, Berlin, has setup a [funding programme](https://www.berlin.de/sen/kultur/kulturpolitik/kulturelle-teilhabe/digitalisierung/digitalisierung-von-objekten/) to facilitate digitalization of museum collections in Berlin, therefore the funding and employement opportunities in this sector are excellent. \n",
    "\n",
    "<img src=\"fig/fraunhofer_igd.jpg\">\n",
    "\n",
    "_Figure 1: Automated 3D scanning at Museum für Naturkunde Berlin, using the CultLab3D system developed by Fraunhofer institute (Photo: Carola Radke, MfN)_\n",
    "\n",
    "\n",
    "After an artefact has been digitized, it needs to be classified in order to enable the creation of new online services for research, restauration or outreach. Classification of raw, \"point cloud\", data according to a pre-defined typology is an open problem, and I argue that machine learning techniques offer a promising approach to solving it. When scanning a large number of artefacts (the curent target at Museum für Naturkunde Berlin is several thousand each day), it becomes impractical to manually input the metadata for each 3D-model. Therefore, classification software can help to generate metadata according to a pre-defined typology, to enable later retrieval of the digital files."
   ]
  },
  {
   "cell_type": "markdown",
   "id": "3ba7299c",
   "metadata": {},
   "source": [
    "## Data overview\n",
    "\n",
    "In order to train a classifier, a large dataset has to be available, and it has to be labeled or described in sufficient detail. As this problem is at the cutting edge of museum technology, such datasets are scarce. Fortunately, several museums have made 3D-models of their archaeology collections available under a Creative Commons license through the [Sketchfab website](https://sketchfab.com/3d-models/categories/cultural-heritage-history?date=week&features=downloadable&licenses=322a749bcfa841b29dff1e8a1bb74b0b&licenses=b9ddc40b93e34cdca1fc152f39b9f375&licenses=72360ff1740d419791934298b8b6d270&licenses=bbfe3f7dbcdd4122b966b85b9786a989&licenses=2628dbe5140a4e9592126c8df566c0b7&licenses=34b725081a6a4184957efaec2cb84ed3&licenses=7c23a1ba438d4306920229c12afcb5f9&licenses=783b685da9bf457d81e829fa283f3567&licenses=5b54cf13b1a4422ca439696eb152070d&sort_by=-likeCount). These collections include many types of artefacts, but pottery (ceramics) stand out by the number of artefacts available for download.\n",
    "\n",
    "Ceramics are an ubiquituous product of any pre-industrial culture. Ceramics have been used as containers and for transport of goods, as everyday utensils for cooking, drinking and eating, or as decorative objects, and can be found on archaeological sites in sufficient numbers to allow for statistical study (fig. 2). \n",
    "\n",
    "<img src=\"fig/examples.png\">\n",
    "\n",
    "_Figure 2: Various types of pots in the dataset: Neolithic LBK vessel, Neolithic SBK mortar, Bronze Age bowl on foot, Iron Age -Visigoth- bottle, Greek Jug, Roman cup (screenshot from the Sketchfab website)._\n",
    "\n",
    "Using the [Sketchfab API](https://docs.sketchfab.com/data-api/v3/index.html#!/models/get_v3_models_uid_download), I queried the Sketchfab site and downloaded metadata describing more than thousand 3D-models, by querying Sketchfab for existing 3D-model collections and compiling new collections on [my Sketchfab account](https://sketchfab.com/alvarosaurus/collections). The archaeological periods and cultures present in the dataset are (sorted by antiquity):\n",
    "\n",
    "_Neolithic Linear Pottery Culture (LBK)_, 5500–4500 BCE\n",
    "> a major culture widespread in Europe during the Neolithic (new stone age). LBK pottery is characteristically decorated with patterns of incised lines. \n",
    "\n",
    "_Neolithic Stroked Pottery culture (SBK)_, 4600-4400 BCE\n",
    "> The successor of the LBK. SBK pottery is characteristically decorated with patterns of punctures (dots).\n",
    "\n",
    "_Bronze Age_, 3200-600 BCE (in Europe)\n",
    "> Characterized by standardized forms, most of which are still in use today, such as cups, pots, plates etc. Hand-made.\n",
    "\n",
    "_Iron Age_, 1200-100 CE (in Europe excluding nordic countries)\n",
    "> Standardized forms, but made on a potters wheel.\n",
    "\n",
    "_Greek_, 800 BCE- 300 BCE. \n",
    "> Pottery was elevated to an art form in ancient Greece. The Greek culture spans the Bronze Age (\"archaic\" period) and the Iron Age (\"classic\" period). The [typology of Greek pot shapes](https://www.beazley.ox.ac.uk/carc/resources/Introduction-to-Greek-Pottery/Shapes), comprises more than a hundred standardized forms. Pottery was a medium for painting and is often decorated with sophisticated scenes.\n",
    "\n",
    "_Roman_, 500 BCE-500 CE. \n",
    "> Technically, the Roman culture was an Iron Age culture. However, it's common practice to classify Roman artefacts as such, due to their very recognizable forms, decorations and finishing, as well as the determining influence the Roman civilization had on other European cultures. "
   ]
  },
  {
   "cell_type": "markdown",
   "id": "e6cbfe9f",
   "metadata": {},
   "source": [
    "## Machine learning setup\n",
    "\n",
    "I will attempt to classify 3D-models of pots according to the different periods/cultures represented in the dataset. The classifier will be trained (supervised learning) and tested on the dataset described above.\n",
    "\n",
    "Input\n",
    "> A dataset with 3D-models of pots, comprising point clouds, textures and metadata describing the models.\n",
    "\n",
    "Output\n",
    "> A single class for each pot: the culture or period it belongs to, according to the typology defined above.\n",
    "\n",
    "\n",
    "\n",
    "<img src=\"fig/ML.png\">\n",
    "\n",
    "_Figure 3: Machine learning setup_\n",
    "\n",
    "\n",
    "__Notebook 1: Download data__\n",
    "\n",
    " The Sketchfab API provides metadata for each 3D-model in JSON format. The 3D-models as such are available in Graphics Language Transmission Format (glTF).\n",
    "\n",
    "__Notebook 2: Generate views and texture images__\n",
    "\n",
    "A 3D-model cannot be represented by a single 2D view. Therefore, following archaeological practice, each object is be represented by an elevation view (from the side), a plan view (from the top) and a cross-section. I also extracted texture images from the downloaded 3D-models.\n",
    "\n",
    "__Notebook 3: Extract features__\n",
    "\n",
    "This project boils down to an image classification problem. The [Inception v3](https://tfhub.dev/google/imagenet/inception_v3/feature_vector/1) and [MobileNet v2](https://tfhub.dev/google/imagenet/mobilenet_v2_100_224/feature_vector/2) are both up to the task, their TF Hub implementations have been trained on the ILSVRC-2012-CLS \"ImageNet\" data set. The MobileNet v2 is optimized for mobile applications. Since I'm not building a mobile application, I chose the Inception v3 model. Inception v3 has more trainable parameters, and expects slightly larger input images. It is however not obvious at all that the pre-trained classifier can be used on these kind of images, as it was trained on a completely different dataset.\n",
    "\n",
    "__Notebook 4: Classify__\n",
    "\n",
    "A 3D-model cannot be represented by a single 2D view. Therefore, following archaeological practice, each object is represented by an elevation view (from the side), a plan view (from the top), a section and a texture image. Each view will be classified independently, and so will the texture image.\n",
    "\n",
    "__Notebook 5: Combine__\n",
    "\n",
    "The results of this ensemble of 4 classifiers have to be combined into one final classification. I will used logistic regression and/or k-NN for this last step. \n"
   ]
  },
  {
   "cell_type": "code",
   "execution_count": null,
   "id": "9c1cb0e8",
   "metadata": {},
   "outputs": [],
   "source": []
  }
 ],
 "metadata": {
  "kernelspec": {
   "display_name": "Python 3",
   "language": "python",
   "name": "python3"
  },
  "language_info": {
   "codemirror_mode": {
    "name": "ipython",
    "version": 3
   },
   "file_extension": ".py",
   "mimetype": "text/x-python",
   "name": "python",
   "nbconvert_exporter": "python",
   "pygments_lexer": "ipython3",
   "version": "3.6.13"
  }
 },
 "nbformat": 4,
 "nbformat_minor": 5
}
