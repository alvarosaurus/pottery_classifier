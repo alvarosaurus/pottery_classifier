{
 "cells": [
  {
   "cell_type": "markdown",
   "id": "d1375b37",
   "metadata": {},
   "source": [
    "# Evaluation\n",
    "\n",
    "In this notebook I evaluate the classification obtained from the ensemble in notebook 4. \n",
    "\n",
    "## Load predictions\n",
    "\n",
    "Load the labels for the test data, load the predictions for test set computed in previous notebook:"
   ]
  },
  {
   "cell_type": "code",
   "execution_count": 22,
   "id": "fdd0ef85",
   "metadata": {
    "jupyter": {
     "source_hidden": true
    }
   },
   "outputs": [],
   "source": [
    "import numpy as np\n",
    "import os\n",
    "from sklearn.preprocessing import LabelEncoder\n",
    "\n",
    "# load the labels for the test data\n",
    "with np.load(os.path.join('production', 'features_point_clouds_test.npz'), allow_pickle=True) as data:\n",
    "    data_dict = dict(data.items())\n",
    "    metadata_test = data_dict['metadata']\n",
    "# encode labels as ints\n",
    "encoder = LabelEncoder().fit(metadata_test[:, 3])\n",
    "labels_test = encoder.transform(metadata_test[:, 3])\n",
    "\n",
    "# load predictions for test set computed in previous notebook\n",
    "with np.load(os.path.join('production', 'predictions.npz'), allow_pickle=True) as data:\n",
    "    data_dict = dict(data.items())\n",
    "    pred_elevation = data_dict['pred_elevation'],\n",
    "    pred_plan = data_dict['pred_plan'],\n",
    "    pred_section = data_dict['pred_section'],\n",
    "    pred_textures = data_dict['pred_textures'],\n",
    "    pred_knn = data_dict['pred_knn'],\n",
    "    pred_logreg = data_dict['pred_logreg']\n"
   ]
  },
  {
   "cell_type": "markdown",
   "id": "55afc8ef",
   "metadata": {},
   "source": [
    "## Confusion matrices and clssification reports\n",
    "### k-NN"
   ]
  },
  {
   "cell_type": "code",
   "execution_count": 31,
   "id": "5c51460d",
   "metadata": {
    "jupyter": {
     "source_hidden": true
    }
   },
   "outputs": [
    {
     "data": {
      "text/html": [
       "<div>\n",
       "<style scoped>\n",
       "    .dataframe tbody tr th:only-of-type {\n",
       "        vertical-align: middle;\n",
       "    }\n",
       "\n",
       "    .dataframe tbody tr th {\n",
       "        vertical-align: top;\n",
       "    }\n",
       "\n",
       "    .dataframe thead th {\n",
       "        text-align: right;\n",
       "    }\n",
       "</style>\n",
       "<table border=\"1\" class=\"dataframe\">\n",
       "  <thead>\n",
       "    <tr style=\"text-align: right;\">\n",
       "      <th>Predictions</th>\n",
       "      <th>Bronze Age</th>\n",
       "      <th>Greek</th>\n",
       "      <th>Iron Age</th>\n",
       "      <th>Neolithic Linear Pottery Culture (LBK)</th>\n",
       "      <th>Neolithic Stroked Pottery culture (SBK)</th>\n",
       "      <th>Roman</th>\n",
       "    </tr>\n",
       "    <tr>\n",
       "      <th>True class</th>\n",
       "      <th></th>\n",
       "      <th></th>\n",
       "      <th></th>\n",
       "      <th></th>\n",
       "      <th></th>\n",
       "      <th></th>\n",
       "    </tr>\n",
       "  </thead>\n",
       "  <tbody>\n",
       "    <tr>\n",
       "      <th>Bronze Age</th>\n",
       "      <td>34</td>\n",
       "      <td>0</td>\n",
       "      <td>0</td>\n",
       "      <td>0</td>\n",
       "      <td>0</td>\n",
       "      <td>0</td>\n",
       "    </tr>\n",
       "    <tr>\n",
       "      <th>Greek</th>\n",
       "      <td>0</td>\n",
       "      <td>6</td>\n",
       "      <td>1</td>\n",
       "      <td>0</td>\n",
       "      <td>0</td>\n",
       "      <td>1</td>\n",
       "    </tr>\n",
       "    <tr>\n",
       "      <th>Iron Age</th>\n",
       "      <td>1</td>\n",
       "      <td>0</td>\n",
       "      <td>8</td>\n",
       "      <td>0</td>\n",
       "      <td>2</td>\n",
       "      <td>1</td>\n",
       "    </tr>\n",
       "    <tr>\n",
       "      <th>Neolithic Linear Pottery Culture (LBK)</th>\n",
       "      <td>0</td>\n",
       "      <td>0</td>\n",
       "      <td>0</td>\n",
       "      <td>30</td>\n",
       "      <td>0</td>\n",
       "      <td>0</td>\n",
       "    </tr>\n",
       "    <tr>\n",
       "      <th>Neolithic Stroked Pottery culture (SBK)</th>\n",
       "      <td>1</td>\n",
       "      <td>0</td>\n",
       "      <td>0</td>\n",
       "      <td>4</td>\n",
       "      <td>3</td>\n",
       "      <td>0</td>\n",
       "    </tr>\n",
       "    <tr>\n",
       "      <th>Roman</th>\n",
       "      <td>0</td>\n",
       "      <td>1</td>\n",
       "      <td>3</td>\n",
       "      <td>0</td>\n",
       "      <td>0</td>\n",
       "      <td>3</td>\n",
       "    </tr>\n",
       "  </tbody>\n",
       "</table>\n",
       "</div>"
      ],
      "text/plain": [
       "Predictions                              Bronze Age  Greek  Iron Age  \\\n",
       "True class                                                             \n",
       "Bronze Age                                       34      0         0   \n",
       "Greek                                             0      6         1   \n",
       "Iron Age                                          1      0         8   \n",
       "Neolithic Linear Pottery Culture (LBK)            0      0         0   \n",
       "Neolithic Stroked Pottery culture (SBK)           1      0         0   \n",
       "Roman                                             0      1         3   \n",
       "\n",
       "Predictions                              Neolithic Linear Pottery Culture (LBK)  \\\n",
       "True class                                                                        \n",
       "Bronze Age                                                                    0   \n",
       "Greek                                                                         0   \n",
       "Iron Age                                                                      0   \n",
       "Neolithic Linear Pottery Culture (LBK)                                       30   \n",
       "Neolithic Stroked Pottery culture (SBK)                                       4   \n",
       "Roman                                                                         0   \n",
       "\n",
       "Predictions                              Neolithic Stroked Pottery culture (SBK)  \\\n",
       "True class                                                                         \n",
       "Bronze Age                                                                     0   \n",
       "Greek                                                                          0   \n",
       "Iron Age                                                                       2   \n",
       "Neolithic Linear Pottery Culture (LBK)                                         0   \n",
       "Neolithic Stroked Pottery culture (SBK)                                        3   \n",
       "Roman                                                                          0   \n",
       "\n",
       "Predictions                              Roman  \n",
       "True class                                      \n",
       "Bronze Age                                   0  \n",
       "Greek                                        1  \n",
       "Iron Age                                     1  \n",
       "Neolithic Linear Pottery Culture (LBK)       0  \n",
       "Neolithic Stroked Pottery culture (SBK)      0  \n",
       "Roman                                        3  "
      ]
     },
     "execution_count": 31,
     "metadata": {},
     "output_type": "execute_result"
    }
   ],
   "source": [
    "from sklearn.metrics import confusion_matrix\n",
    "import pandas as pd\n",
    "\n",
    "# Compute confusion matrix\n",
    "matrix = confusion_matrix(\n",
    "    y_true=labels_test, # array with true labels\n",
    "    y_pred=pred_knn[0] # array with predicted labels\n",
    ")\n",
    "\n",
    "# Format as a DataFrame\n",
    "class_names = encoder.inverse_transform([0, 1, 2, 3, 4, 5])\n",
    "matrix_df = pd.DataFrame(data=matrix, columns=class_names, index=class_names)\n",
    "matrix_df.columns.name = 'Predictions'\n",
    "matrix_df.index.name = 'True class'\n",
    "matrix_df"
   ]
  },
  {
   "cell_type": "code",
   "execution_count": 43,
   "id": "93a5aae3",
   "metadata": {
    "jupyter": {
     "source_hidden": true
    }
   },
   "outputs": [
    {
     "name": "stdout",
     "output_type": "stream",
     "text": [
      "              precision    recall  f1-score   support\n",
      "\n",
      "           0       0.94      1.00      0.97        34\n",
      "           1       0.86      0.75      0.80         8\n",
      "           2       0.67      0.67      0.67        12\n",
      "           3       0.88      1.00      0.94        30\n",
      "           4       0.60      0.38      0.46         8\n",
      "           5       0.60      0.43      0.50         7\n",
      "\n",
      "   micro avg       0.85      0.85      0.85        99\n",
      "   macro avg       0.76      0.70      0.72        99\n",
      "weighted avg       0.83      0.85      0.84        99\n",
      "\n"
     ]
    }
   ],
   "source": [
    "from sklearn.metrics import classification_report\n",
    "print(classification_report(labels_test, pred_knn[0]))"
   ]
  },
  {
   "cell_type": "markdown",
   "id": "6a001b31",
   "metadata": {},
   "source": [
    "### Logistic regression"
   ]
  },
  {
   "cell_type": "code",
   "execution_count": 38,
   "id": "9b40d600",
   "metadata": {
    "jupyter": {
     "source_hidden": true
    }
   },
   "outputs": [
    {
     "data": {
      "text/html": [
       "<div>\n",
       "<style scoped>\n",
       "    .dataframe tbody tr th:only-of-type {\n",
       "        vertical-align: middle;\n",
       "    }\n",
       "\n",
       "    .dataframe tbody tr th {\n",
       "        vertical-align: top;\n",
       "    }\n",
       "\n",
       "    .dataframe thead th {\n",
       "        text-align: right;\n",
       "    }\n",
       "</style>\n",
       "<table border=\"1\" class=\"dataframe\">\n",
       "  <thead>\n",
       "    <tr style=\"text-align: right;\">\n",
       "      <th>Predictions</th>\n",
       "      <th>Bronze Age</th>\n",
       "      <th>Greek</th>\n",
       "      <th>Iron Age</th>\n",
       "      <th>Neolithic Linear Pottery Culture (LBK)</th>\n",
       "      <th>Neolithic Stroked Pottery culture (SBK)</th>\n",
       "      <th>Roman</th>\n",
       "    </tr>\n",
       "    <tr>\n",
       "      <th>True class</th>\n",
       "      <th></th>\n",
       "      <th></th>\n",
       "      <th></th>\n",
       "      <th></th>\n",
       "      <th></th>\n",
       "      <th></th>\n",
       "    </tr>\n",
       "  </thead>\n",
       "  <tbody>\n",
       "    <tr>\n",
       "      <th>Bronze Age</th>\n",
       "      <td>33</td>\n",
       "      <td>0</td>\n",
       "      <td>0</td>\n",
       "      <td>1</td>\n",
       "      <td>0</td>\n",
       "      <td>0</td>\n",
       "    </tr>\n",
       "    <tr>\n",
       "      <th>Greek</th>\n",
       "      <td>0</td>\n",
       "      <td>7</td>\n",
       "      <td>1</td>\n",
       "      <td>0</td>\n",
       "      <td>0</td>\n",
       "      <td>0</td>\n",
       "    </tr>\n",
       "    <tr>\n",
       "      <th>Iron Age</th>\n",
       "      <td>2</td>\n",
       "      <td>0</td>\n",
       "      <td>10</td>\n",
       "      <td>0</td>\n",
       "      <td>0</td>\n",
       "      <td>0</td>\n",
       "    </tr>\n",
       "    <tr>\n",
       "      <th>Neolithic Linear Pottery Culture (LBK)</th>\n",
       "      <td>0</td>\n",
       "      <td>0</td>\n",
       "      <td>0</td>\n",
       "      <td>30</td>\n",
       "      <td>0</td>\n",
       "      <td>0</td>\n",
       "    </tr>\n",
       "    <tr>\n",
       "      <th>Neolithic Stroked Pottery culture (SBK)</th>\n",
       "      <td>1</td>\n",
       "      <td>0</td>\n",
       "      <td>0</td>\n",
       "      <td>2</td>\n",
       "      <td>5</td>\n",
       "      <td>0</td>\n",
       "    </tr>\n",
       "    <tr>\n",
       "      <th>Roman</th>\n",
       "      <td>0</td>\n",
       "      <td>2</td>\n",
       "      <td>2</td>\n",
       "      <td>0</td>\n",
       "      <td>0</td>\n",
       "      <td>3</td>\n",
       "    </tr>\n",
       "  </tbody>\n",
       "</table>\n",
       "</div>"
      ],
      "text/plain": [
       "Predictions                              Bronze Age  Greek  Iron Age  \\\n",
       "True class                                                             \n",
       "Bronze Age                                       33      0         0   \n",
       "Greek                                             0      7         1   \n",
       "Iron Age                                          2      0        10   \n",
       "Neolithic Linear Pottery Culture (LBK)            0      0         0   \n",
       "Neolithic Stroked Pottery culture (SBK)           1      0         0   \n",
       "Roman                                             0      2         2   \n",
       "\n",
       "Predictions                              Neolithic Linear Pottery Culture (LBK)  \\\n",
       "True class                                                                        \n",
       "Bronze Age                                                                    1   \n",
       "Greek                                                                         0   \n",
       "Iron Age                                                                      0   \n",
       "Neolithic Linear Pottery Culture (LBK)                                       30   \n",
       "Neolithic Stroked Pottery culture (SBK)                                       2   \n",
       "Roman                                                                         0   \n",
       "\n",
       "Predictions                              Neolithic Stroked Pottery culture (SBK)  \\\n",
       "True class                                                                         \n",
       "Bronze Age                                                                     0   \n",
       "Greek                                                                          0   \n",
       "Iron Age                                                                       0   \n",
       "Neolithic Linear Pottery Culture (LBK)                                         0   \n",
       "Neolithic Stroked Pottery culture (SBK)                                        5   \n",
       "Roman                                                                          0   \n",
       "\n",
       "Predictions                              Roman  \n",
       "True class                                      \n",
       "Bronze Age                                   0  \n",
       "Greek                                        0  \n",
       "Iron Age                                     0  \n",
       "Neolithic Linear Pottery Culture (LBK)       0  \n",
       "Neolithic Stroked Pottery culture (SBK)      0  \n",
       "Roman                                        3  "
      ]
     },
     "execution_count": 38,
     "metadata": {},
     "output_type": "execute_result"
    }
   ],
   "source": [
    "# Compute confusion matrix\n",
    "matrix = confusion_matrix(\n",
    "    y_true=labels_test, # array with true labels\n",
    "    y_pred=pred_logreg # array with predicted labels\n",
    ")\n",
    "\n",
    "# Format as a DataFrame\n",
    "class_names = encoder.inverse_transform([0, 1, 2, 3, 4, 5])\n",
    "matrix_df = pd.DataFrame(data=matrix, columns=class_names, index=class_names)\n",
    "matrix_df.columns.name = 'Predictions'\n",
    "matrix_df.index.name = 'True class'\n",
    "matrix_df"
   ]
  },
  {
   "cell_type": "code",
   "execution_count": 44,
   "id": "5bf10e9c",
   "metadata": {},
   "outputs": [
    {
     "name": "stdout",
     "output_type": "stream",
     "text": [
      "              precision    recall  f1-score   support\n",
      "\n",
      "           0       0.92      0.97      0.94        34\n",
      "           1       0.78      0.88      0.82         8\n",
      "           2       0.77      0.83      0.80        12\n",
      "           3       0.91      1.00      0.95        30\n",
      "           4       1.00      0.62      0.77         8\n",
      "           5       1.00      0.43      0.60         7\n",
      "\n",
      "   micro avg       0.89      0.89      0.89        99\n",
      "   macro avg       0.90      0.79      0.81        99\n",
      "weighted avg       0.90      0.89      0.88        99\n",
      "\n"
     ]
    }
   ],
   "source": [
    "print(classification_report(labels_test, pred_logreg))"
   ]
  },
  {
   "cell_type": "code",
   "execution_count": 37,
   "id": "0d91e6f5",
   "metadata": {
    "jupyter": {
     "source_hidden": true
    }
   },
   "outputs": [
    {
     "data": {
      "text/plain": [
       "array([3, 3, 3, 3, 3, 3, 3, 3, 3, 3, 3, 3, 3, 3, 3, 3, 3, 3, 3, 3, 3, 3,\n",
       "       3, 3, 3, 3, 3, 3, 3, 3, 4, 4, 0, 4, 4, 3, 4, 3, 3, 0, 0, 0, 0, 0,\n",
       "       0, 0, 0, 0, 0, 0, 0, 0, 0, 0, 0, 0, 0, 0, 0, 0, 0, 0, 0, 0, 0, 0,\n",
       "       0, 0, 0, 0, 0, 0, 2, 2, 2, 2, 2, 2, 2, 0, 2, 2, 2, 0, 1, 1, 1, 1,\n",
       "       1, 1, 1, 2, 1, 5, 5, 1, 5, 2, 2])"
      ]
     },
     "execution_count": 37,
     "metadata": {},
     "output_type": "execute_result"
    }
   ],
   "source": [
    "pred_logreg"
   ]
  },
  {
   "cell_type": "code",
   "execution_count": 41,
   "id": "7965a555",
   "metadata": {
    "jupyter": {
     "source_hidden": true
    }
   },
   "outputs": [
    {
     "data": {
      "text/plain": [
       "array([3, 3, 3, 3, 3, 3, 3, 3, 3, 3, 3, 3, 3, 3, 3, 3, 3, 3, 3, 3, 3, 3,\n",
       "       3, 3, 3, 3, 3, 3, 3, 3, 3, 3, 0, 4, 4, 3, 4, 3, 0, 0, 0, 0, 0, 0,\n",
       "       0, 0, 0, 0, 0, 0, 0, 0, 0, 0, 0, 0, 0, 0, 0, 0, 0, 0, 0, 0, 0, 0,\n",
       "       0, 0, 0, 0, 0, 0, 2, 2, 2, 2, 2, 2, 4, 4, 5, 2, 2, 0, 1, 1, 1, 1,\n",
       "       1, 1, 1, 5, 2, 5, 5, 2, 5, 2, 2])"
      ]
     },
     "execution_count": 41,
     "metadata": {},
     "output_type": "execute_result"
    }
   ],
   "source": [
    "pred_knn[0]"
   ]
  },
  {
   "cell_type": "code",
   "execution_count": null,
   "id": "b25ded24",
   "metadata": {
    "jupyter": {
     "source_hidden": true
    }
   },
   "outputs": [],
   "source": []
  }
 ],
 "metadata": {
  "kernelspec": {
   "display_name": "Python 3",
   "language": "python",
   "name": "python3"
  },
  "language_info": {
   "codemirror_mode": {
    "name": "ipython",
    "version": 3
   },
   "file_extension": ".py",
   "mimetype": "text/x-python",
   "name": "python",
   "nbconvert_exporter": "python",
   "pygments_lexer": "ipython3",
   "version": "3.6.13"
  }
 },
 "nbformat": 4,
 "nbformat_minor": 5
}
