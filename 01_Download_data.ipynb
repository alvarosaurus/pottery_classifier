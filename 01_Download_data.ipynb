{
 "cells": [
  {
   "cell_type": "markdown",
   "id": "c72936b0",
   "metadata": {},
   "source": [
    "# Download Data"
   ]
  },
  {
   "cell_type": "markdown",
   "id": "6d708fb6",
   "metadata": {},
   "source": [
    "## Metadata\n",
    "Using the [Sketchfab API](https://docs.sketchfab.com/data-api/v3/index.html#!/models/get_v3_models_uid_download), I queried the Sketchfab site and downloaded metadata describing more than thousand 3D-models, by querying Sketchfab for existing 3D-model collections and compiling new collections on [my Sketchfab account](https://sketchfab.com/alvarosaurus/collections). The Sketchfab API provides data in JSON format."
   ]
  },
  {
   "cell_type": "code",
   "execution_count": 1,
   "id": "3476c520",
   "metadata": {
    "jupyter": {
     "source_hidden": true
    }
   },
   "outputs": [],
   "source": [
    "import json\n",
    "import requests\n",
    "from requests.exceptions import RequestException\n",
    "import pandas as pd\n",
    "from pandas.io.json import json_normalize\n",
    "import os\n",
    "\n",
    "#Sketchfab API\n",
    "#https://docs.sketchfab.com/data-api/v3/index.html#!/models/get_v3_models_uid_download\n",
    "#(does not require an API key)\n",
    "SKETCHFAB_API_URL = 'https://api.sketchfab.com/v3' # Sketchfab.com API URL\n",
    "\n",
    "# Neolithic culture, based on the example of the settlement in Bylany near Kutná Hora,\n",
    "# Linear Pottery Culture (LBK)\n",
    "# Archaeological 3D virtual museum, Prague, Czech Republic \n",
    "# https://sketchfab.com/archaeo3d/collections/kultura-s-linearni-keramikou-lbk-nadoby\n",
    "BYLANY_LBK_COLLECTION_URI = 'c122b58e1ed449d4ac032d4b2a434f24' \n",
    "\n",
    "# Neolithic culture, based on the example of the settlement in Bylany near Kutná Hora,\n",
    "# Stroked Pottery culture (SBK)\n",
    "# Archaeological 3D virtual museum, Prague, Czech Republic \n",
    "# https://sketchfab.com/archaeo3d/collections/kultura-s-vypichanou-keramikou-sbk-nadoby\n",
    "BYLANY_SBK_COLLECTION_URI = '62179eea153049c5b63d6b4018a6ac6f' \n",
    "\n",
    "# Prehistory - Collection Siret, Bronze Age\n",
    "# The Royal Museums of Art and History, Brussels\n",
    "# https://sketchfab.com/kmkg-mrah/collections/prehistory-collection-siret\n",
    "SIRET_COLLECTION_URI = 'de9f33f04a4d45bd825a7e2edfc5739a' \n",
    "\n",
    "# Iron Age pottery training set\n",
    "# Personal collection on my Sketchfab account\n",
    "# https://sketchfab.com/alvarosaurus/collections/iron-age-pottery-training-set\n",
    "IRON_AGE_COLLECTION_URI = 'fc4a397de4554544a0ed0f745c0ca849'\n",
    "\n",
    "# Greek pottery training set\n",
    "# Personal collection on my Sketchfab account\n",
    "# https://sketchfab.com/alvarosaurus/collections/greek-pottery-training-set\n",
    "GREEK_COLLECTION_URI = '34ff128d81ce4b90954bffb0b52dfbc3'\n",
    "\n",
    "# Roman pottery training set\n",
    "# Personal collection on my Sketchfab account\n",
    "# https://sketchfab.com/alvarosaurus/collections/roman-pottery-training-set\n",
    "ROMAN_COLLECTION_URI = '1052b6751ddb4fdf942dc0f17aed38ab'\n",
    "\n",
    "\n",
    "def list_models(next_cursor, collection_uri):\n",
    "    \"\"\"Download one page of json list of models.\"\"\"\n",
    "    endpoint = '{}/collections/{}/models?cursor={}'.format(SKETCHFAB_API_URL, collection_uri, next_cursor) # models in collection API endpoint (GET)        \n",
    "    response = requests.get(endpoint)\n",
    "    data = response.json()\n",
    "    return data['results'], data['cursors']['next']\n",
    "\n",
    "def read_collection(collection_uri):\n",
    "    \"\"\"List all models in collection, paginate, store models in data frame\"\"\"\n",
    "    results, next_cursor = list_models(None, collection_uri)\n",
    "    results_df = json_normalize(results)\n",
    "    while(next_cursor):\n",
    "        # get next paginated results, append to data frame\n",
    "        results, next_cursor = list_models(next_cursor, collection_uri)\n",
    "        results_df = results_df.append(json_normalize(results), sort=True) # parse json result\n",
    "    return results_df\n",
    "\n",
    "collections = [BYLANY_LBK_COLLECTION_URI, BYLANY_SBK_COLLECTION_URI, SIRET_COLLECTION_URI, IRON_AGE_COLLECTION_URI, GREEK_COLLECTION_URI, ROMAN_COLLECTION_URI]\n",
    "\n",
    "# List all models in all collections\n",
    "collection_df = None\n",
    "for collection in collections:\n",
    "    result_df = read_collection(collection) # read collection from Sketchfab API\n",
    "    if collection_df is None:\n",
    "        collection_df = result_df\n",
    "    else:\n",
    "        collection_df = collection_df.append(result_df, sort=True)\n",
    "\n",
    "# save the original data to file\n",
    "collection_df.to_csv(os.path.join('data', 'downloaded_metadata.csv'), index=False)"
   ]
  },
  {
   "cell_type": "markdown",
   "id": "1674f3d8",
   "metadata": {},
   "source": [
    "Each 3D-model of an object can be characterized by a number of metadata attributes. I dropped those attributes which are not relevant to the project."
   ]
  },
  {
   "cell_type": "code",
   "execution_count": 2,
   "id": "90852dbb",
   "metadata": {
    "jupyter": {
     "source_hidden": true
    }
   },
   "outputs": [],
   "source": [
    "import pandas as pd\n",
    "import os\n",
    "\n",
    "# reload the original data\n",
    "collection_df = pd.read_csv(os.path.join('data', 'downloaded_metadata.csv'), index_col=False)\n",
    "\n",
    "# drop not relevant columns \n",
    "metadata_df = collection_df.drop(\n",
    "    ['collectedAt', 'uid','publishedAt', 'createdAt', 'isDownloadable', 'isProtected', 'categories',\n",
    "     'staffpickedAt', 'viewCount', 'likeCount', 'animationCount', 'soundCount', 'embedUrl', 'commentCount', 'isAgeRestricted', 'price', \n",
    "     'user.avatar.uid', 'user.avatar.uri', 'user.avatar.images', 'user.account', 'user.username', 'user.uri', 'user.uid', \n",
    "     'license.uri', 'license.requirements', 'license.label', 'license.slug', 'license.url', 'thumbnails.images', 'faceCount'], axis=1)"
   ]
  },
  {
   "cell_type": "markdown",
   "id": "4bbd07ef",
   "metadata": {},
   "source": [
    "The attributes relevant to the project are:\n",
    "* the name of the 3D model\n",
    "* ideally a textual description of the object, written by a museum curator\n",
    "* the API-URI where the 3D-model file can be downloaded\n",
    "* a link to the 3D-model's preview page on Sketchfab\n",
    "* the name of the museum, institution or organization that provided the digitized object\n",
    "* a link to the providers page on Sketchfab\n",
    "* the license of the 3D-model\n",
    "* the number of vertices in the 3D-model\n",
    "* tags added by the provider of the 3D-model describing the object (json)"
   ]
  },
  {
   "cell_type": "markdown",
   "id": "4740c6fc",
   "metadata": {},
   "source": [
    "### Object id's\n",
    "\n",
    "I added a unique identifier to each object, extracted from the 3d-model's URI."
   ]
  },
  {
   "cell_type": "code",
   "execution_count": 3,
   "id": "9cdd580a",
   "metadata": {
    "tags": []
   },
   "outputs": [],
   "source": [
    "# Add a unique ID to each object\n",
    "metadata_df['id'] = [uri.split('/')[-1] for uri in metadata_df.uri]\n",
    "\n",
    "# drop duplicates \n",
    "metadata_df = metadata_df.drop_duplicates(subset='uri', keep='first')"
   ]
  },
  {
   "cell_type": "markdown",
   "id": "888f2237",
   "metadata": {},
   "source": [
    "### Added classes for period / culture\n",
    "\n",
    "I labeled each object according to its archaeological period and/or culture. The archaeological period was extracted from name, description or tags, using regular expressions. \n",
    "Classes are assumed to be non-overlapping (this is not unambiguously true, of course, but it's the working assumption)."
   ]
  },
  {
   "cell_type": "code",
   "execution_count": 4,
   "id": "6989c277",
   "metadata": {},
   "outputs": [],
   "source": [
    "import numpy as np\n",
    "import re\n",
    "\n",
    "metadata_df['period'] = np.empty(len(metadata_df), dtype=object)\n",
    "# make sure descriptions exist, replace by empty string if not\n",
    "idx = metadata_df['description'].isna()\n",
    "metadata_df.loc[idx, 'description'] = ''\n",
    "\n",
    "def parse_period(df, expression, period):\n",
    "    regexp = re.compile(expression, re.IGNORECASE)\n",
    "    id_name = np.array([regexp.search(name) is not None for name in df.name])\n",
    "    id_description = np.array([regexp.search(desc) is not None for desc in df.description])\n",
    "    id_tags = np.array([regexp.search(tag) is not None for tag in df.tags])\n",
    "    idx = id_name | id_description | id_tags\n",
    "    df.loc[idx, 'period'] = period\n",
    "\n",
    "parse_period(metadata_df, 'LBK|starolineární', 'Neolithic Linear Pottery Culture (LBK)') # starolineární = \"old linear\" in Czech\n",
    "parse_period(metadata_df, 'SBK', 'Neolithic Stroked Pottery culture (SBK)')\n",
    "parse_period(metadata_df, 'Bronze Age|Siret', 'Bronze Age') # Siret is a collection of Spanish Bronze Age pots \n",
    "parse_period(metadata_df, 'Iron Age|Iron-age|Ibera|Ibero|Talayotic|Celtic|Dacic|Visigoth|järnåldern', 'Iron Age') # Various Iron Age cultures\n",
    "parse_period(metadata_df, 'Roman|Romein', 'Roman') # Romein = \"Roman\" in Dutch\n",
    "# Athen, Attic and Corinthian are classical-period Greek genres, \n",
    "# Aidone is a city in Sicily of Greek origin, \n",
    "# Apulia is a region in south Italy wich was a Greek colony during antiquity\n",
    "parse_period(metadata_df, 'Greek|Greece|Grèce|Greco|griego|griega|Griekenland|Athen|Attic|Corinth|corintio|Aidone|Apulia|Apulien', 'Greek') "
   ]
  },
  {
   "cell_type": "markdown",
   "id": "00911c13",
   "metadata": {},
   "source": [
    "I cleaned up the dataset and removed: \n",
    "* objects that could not be classified into any of the periods above"
   ]
  },
  {
   "cell_type": "code",
   "execution_count": 5,
   "id": "59606dcf",
   "metadata": {
    "jupyter": {
     "source_hidden": true
    }
   },
   "outputs": [],
   "source": [
    "# drop entries for which no period could be determined\n",
    "idx = metadata_df.period.isna()\n",
    "metadata_df = metadata_df[~idx]"
   ]
  },
  {
   "cell_type": "markdown",
   "id": "d59de8fc",
   "metadata": {},
   "source": [
    "Additionally, I used regular expressions to detect and remove:\n",
    "* objects that are not ceramics, i.e. a piece of bone, stone or a shell, \n",
    "* object fragments or \"sherds\"\n",
    "* reproductions "
   ]
  },
  {
   "cell_type": "code",
   "execution_count": 6,
   "id": "b39b7a3c",
   "metadata": {
    "jupyter": {
     "source_hidden": true
    }
   },
   "outputs": [
    {
     "name": "stdout",
     "output_type": "stream",
     "text": [
      "The cleaned up dataset has 1020 objects.\n"
     ]
    }
   ],
   "source": [
    "import re\n",
    "\n",
    "# Remove objects that are not ceramics, i.e. a piece of bone, stone or a shell\n",
    "\n",
    "# Add a boolean column indication whether something else than pottery\n",
    "regexp = re.compile(r'stone|bone|shell|limpet', re.IGNORECASE)\n",
    "idx = [regexp.search(name) is not None for name in metadata_df.name]\n",
    "metadata_df['other.material'] = idx\n",
    "metadata_df['other.material'] = metadata_df['other.material'].astype('bool')\n",
    "# remove items, based on the column values\n",
    "idx = metadata_df['other.material']\n",
    "metadata_df = metadata_df[~idx]\n",
    "# drop the extra column\n",
    "metadata_df.drop(['other.material'], axis=1, inplace=True)\n",
    "\n",
    "# Is it a piece of a broken object? a reproduction?\n",
    "\n",
    "# Add a boolean column indication whether a piece of a broken object, or a reproduction\n",
    "regexp = re.compile(r'shard|sherd|fragment|Foot of|base of|half|reproduction|scherf', re.IGNORECASE)\n",
    "idx = [regexp.search(name) is not None for name in metadata_df.name]\n",
    "metadata_df['fragment'] = idx\n",
    "metadata_df['fragment'] = metadata_df['fragment'].astype('bool')\n",
    "# remove items, based on the column values\n",
    "idx = metadata_df.fragment\n",
    "metadata_df = metadata_df[~idx]\n",
    "# drop the extra column\n",
    "metadata_df.drop(['fragment'], axis=1, inplace=True)\n",
    "\n",
    "print('The cleaned up dataset has {} objects.'.format(metadata_df.shape[0]))"
   ]
  },
  {
   "cell_type": "markdown",
   "id": "51aa6088",
   "metadata": {},
   "source": [
    "I changed the order of the columns (for readibility)."
   ]
  },
  {
   "cell_type": "markdown",
   "id": "9f37bfbf",
   "metadata": {},
   "source": [
    "_Table 1: Example data_"
   ]
  },
  {
   "cell_type": "code",
   "execution_count": 7,
   "id": "17df1631",
   "metadata": {
    "jupyter": {
     "source_hidden": true
    }
   },
   "outputs": [
    {
     "data": {
      "text/html": [
       "<div>\n",
       "<style scoped>\n",
       "    .dataframe tbody tr th:only-of-type {\n",
       "        vertical-align: middle;\n",
       "    }\n",
       "\n",
       "    .dataframe tbody tr th {\n",
       "        vertical-align: top;\n",
       "    }\n",
       "\n",
       "    .dataframe thead th {\n",
       "        text-align: right;\n",
       "    }\n",
       "</style>\n",
       "<table border=\"1\" class=\"dataframe\">\n",
       "  <thead>\n",
       "    <tr style=\"text-align: right;\">\n",
       "      <th></th>\n",
       "      <th>id</th>\n",
       "      <th>name</th>\n",
       "      <th>description</th>\n",
       "      <th>period</th>\n",
       "      <th>uri</th>\n",
       "      <th>viewerUrl</th>\n",
       "      <th>user.displayName</th>\n",
       "      <th>user.profileUrl</th>\n",
       "      <th>license.fullName</th>\n",
       "      <th>vertexCount</th>\n",
       "      <th>tags</th>\n",
       "    </tr>\n",
       "  </thead>\n",
       "  <tbody>\n",
       "    <tr>\n",
       "      <th>0</th>\n",
       "      <td>a049baa005da476bb7ffe1df5e6b4f78</td>\n",
       "      <td>2000020</td>\n",
       "      <td>Id 2000020. Polokulovitá nádoba s oblou horní ...</td>\n",
       "      <td>Neolithic Linear Pottery Culture (LBK)</td>\n",
       "      <td>https://api.sketchfab.com/v3/models/a049baa005...</td>\n",
       "      <td>https://sketchfab.com/3d-models/2000020-a049ba...</td>\n",
       "      <td>Archaeological 3D virtual museum</td>\n",
       "      <td>https://sketchfab.com/archaeo3d</td>\n",
       "      <td>Creative Commons Attribution</td>\n",
       "      <td>245002</td>\n",
       "      <td>[]</td>\n",
       "    </tr>\n",
       "    <tr>\n",
       "      <th>1</th>\n",
       "      <td>836630c9eb6344878f5b3e72aaa37f8b</td>\n",
       "      <td>2001130</td>\n",
       "      <td>Id 2001130. Miska s rovným okrajem. Kultura LB...</td>\n",
       "      <td>Neolithic Linear Pottery Culture (LBK)</td>\n",
       "      <td>https://api.sketchfab.com/v3/models/836630c9eb...</td>\n",
       "      <td>https://sketchfab.com/3d-models/2001130-836630...</td>\n",
       "      <td>Archaeological 3D virtual museum</td>\n",
       "      <td>https://sketchfab.com/archaeo3d</td>\n",
       "      <td>Creative Commons Attribution</td>\n",
       "      <td>245002</td>\n",
       "      <td>[]</td>\n",
       "    </tr>\n",
       "    <tr>\n",
       "      <th>2</th>\n",
       "      <td>77d11d8ec01e424e829b9914c388b0a1</td>\n",
       "      <td>2002770</td>\n",
       "      <td>Id 2002770. Část láhve. Kultura LBK (2c). Kont...</td>\n",
       "      <td>Neolithic Linear Pottery Culture (LBK)</td>\n",
       "      <td>https://api.sketchfab.com/v3/models/77d11d8ec0...</td>\n",
       "      <td>https://sketchfab.com/3d-models/2002770-77d11d...</td>\n",
       "      <td>Archaeological 3D virtual museum</td>\n",
       "      <td>https://sketchfab.com/archaeo3d</td>\n",
       "      <td>Creative Commons Attribution</td>\n",
       "      <td>249998</td>\n",
       "      <td>[]</td>\n",
       "    </tr>\n",
       "  </tbody>\n",
       "</table>\n",
       "</div>"
      ],
      "text/plain": [
       "                                 id     name  \\\n",
       "0  a049baa005da476bb7ffe1df5e6b4f78  2000020   \n",
       "1  836630c9eb6344878f5b3e72aaa37f8b  2001130   \n",
       "2  77d11d8ec01e424e829b9914c388b0a1  2002770   \n",
       "\n",
       "                                         description  \\\n",
       "0  Id 2000020. Polokulovitá nádoba s oblou horní ...   \n",
       "1  Id 2001130. Miska s rovným okrajem. Kultura LB...   \n",
       "2  Id 2002770. Část láhve. Kultura LBK (2c). Kont...   \n",
       "\n",
       "                                   period  \\\n",
       "0  Neolithic Linear Pottery Culture (LBK)   \n",
       "1  Neolithic Linear Pottery Culture (LBK)   \n",
       "2  Neolithic Linear Pottery Culture (LBK)   \n",
       "\n",
       "                                                 uri  \\\n",
       "0  https://api.sketchfab.com/v3/models/a049baa005...   \n",
       "1  https://api.sketchfab.com/v3/models/836630c9eb...   \n",
       "2  https://api.sketchfab.com/v3/models/77d11d8ec0...   \n",
       "\n",
       "                                           viewerUrl  \\\n",
       "0  https://sketchfab.com/3d-models/2000020-a049ba...   \n",
       "1  https://sketchfab.com/3d-models/2001130-836630...   \n",
       "2  https://sketchfab.com/3d-models/2002770-77d11d...   \n",
       "\n",
       "                   user.displayName                  user.profileUrl  \\\n",
       "0  Archaeological 3D virtual museum  https://sketchfab.com/archaeo3d   \n",
       "1  Archaeological 3D virtual museum  https://sketchfab.com/archaeo3d   \n",
       "2  Archaeological 3D virtual museum  https://sketchfab.com/archaeo3d   \n",
       "\n",
       "               license.fullName  vertexCount tags  \n",
       "0  Creative Commons Attribution       245002   []  \n",
       "1  Creative Commons Attribution       245002   []  \n",
       "2  Creative Commons Attribution       249998   []  "
      ]
     },
     "execution_count": 7,
     "metadata": {},
     "output_type": "execute_result"
    }
   ],
   "source": [
    "# change order of columns\n",
    "metadata_df = metadata_df.loc[:, ['id', 'name', 'description', 'period', 'uri', 'viewerUrl', 'user.displayName', 'user.profileUrl', 'license.fullName', 'vertexCount', 'tags']]\n",
    "metadata_df.head(3)"
   ]
  },
  {
   "cell_type": "markdown",
   "id": "cd4e55ad",
   "metadata": {},
   "source": [
    "## Metadata EDA\n",
    "\n",
    "### Objects by data provider\n",
    "\n",
    "The 3D-models were contributed to Sketchfab by various institutions (tab. 2). "
   ]
  },
  {
   "cell_type": "code",
   "execution_count": 8,
   "id": "71f2af27",
   "metadata": {
    "jupyter": {
     "source_hidden": true
    }
   },
   "outputs": [
    {
     "data": {
      "text/html": [
       "<div>\n",
       "<style scoped>\n",
       "    .dataframe tbody tr th:only-of-type {\n",
       "        vertical-align: middle;\n",
       "    }\n",
       "\n",
       "    .dataframe tbody tr th {\n",
       "        vertical-align: top;\n",
       "    }\n",
       "\n",
       "    .dataframe thead th {\n",
       "        text-align: right;\n",
       "    }\n",
       "</style>\n",
       "<table border=\"1\" class=\"dataframe\">\n",
       "  <thead>\n",
       "    <tr style=\"text-align: right;\">\n",
       "      <th></th>\n",
       "      <th>Provider</th>\n",
       "      <th>Object count in the dataset</th>\n",
       "    </tr>\n",
       "  </thead>\n",
       "  <tbody>\n",
       "    <tr>\n",
       "      <th>0</th>\n",
       "      <td>Archaeological 3D virtual museum</td>\n",
       "      <td>369</td>\n",
       "    </tr>\n",
       "    <tr>\n",
       "      <th>1</th>\n",
       "      <td>The Royal Museums of Art and History</td>\n",
       "      <td>343</td>\n",
       "    </tr>\n",
       "    <tr>\n",
       "      <th>2</th>\n",
       "      <td>Global Digital Heritage</td>\n",
       "      <td>180</td>\n",
       "    </tr>\n",
       "    <tr>\n",
       "      <th>4</th>\n",
       "      <td>Institutul Național al Patrimoniului</td>\n",
       "      <td>22</td>\n",
       "    </tr>\n",
       "    <tr>\n",
       "      <th>5</th>\n",
       "      <td>CMPLab</td>\n",
       "      <td>11</td>\n",
       "    </tr>\n",
       "    <tr>\n",
       "      <th>6</th>\n",
       "      <td>UVA3D</td>\n",
       "      <td>10</td>\n",
       "    </tr>\n",
       "    <tr>\n",
       "      <th>3</th>\n",
       "      <td>Other (less than 10 models each)</td>\n",
       "      <td>85</td>\n",
       "    </tr>\n",
       "  </tbody>\n",
       "</table>\n",
       "</div>"
      ],
      "text/plain": [
       "                               Provider  Object count in the dataset\n",
       "0      Archaeological 3D virtual museum                          369\n",
       "1  The Royal Museums of Art and History                          343\n",
       "2               Global Digital Heritage                          180\n",
       "4  Institutul Național al Patrimoniului                           22\n",
       "5                                CMPLab                           11\n",
       "6                                 UVA3D                           10\n",
       "3      Other (less than 10 models each)                           85"
      ]
     },
     "execution_count": 8,
     "metadata": {},
     "output_type": "execute_result"
    }
   ],
   "source": [
    "counts = metadata_df['user.displayName'].value_counts() # user.displayName are the names of the data providers\n",
    "# data providers with more than 10 objects \n",
    "idx = counts >= 10\n",
    "# data providers with less than 10 objects\n",
    "other_names = counts[~idx].keys()\n",
    "idx_other = [name in other_names for name in metadata_df['user.displayName']]\n",
    "metadata_df.loc[idx_other, 'user.displayName'] = 'Other (less than 10 models each)' # replace name by \"other ...\"\n",
    "counts = metadata_df['user.displayName'].value_counts() # user.displayName are the names of the data providers\n",
    "counts_df = pd.DataFrame(counts).reset_index(level=0).rename(columns={'index':'Provider', 'user.displayName': 'Object count in the dataset'})\n",
    "idx_other = counts_df['Provider'] == 'Other (less than 10 models each)'\n",
    "# put \"other...\" at the end of the data frame\n",
    "other_counts = counts_df[idx_other]\n",
    "counts_df.drop(other_counts.index, inplace=True)\n",
    "counts_df = counts_df.append(other_counts)\n",
    "counts_df"
   ]
  },
  {
   "cell_type": "markdown",
   "id": "78af4851",
   "metadata": {},
   "source": [
    "### Number of items per class\n",
    "\n",
    "The number of items per class is imbalanced, as LBK and Bronze Age items are more numerous than the others."
   ]
  },
  {
   "cell_type": "code",
   "execution_count": 9,
   "id": "794e5739",
   "metadata": {
    "jupyter": {
     "source_hidden": true
    }
   },
   "outputs": [
    {
     "data": {
      "image/png": "[encoded data removed]",
      "text/plain": [
       "<Figure size 432x288 with 1 Axes>"
      ]
     },
     "metadata": {
      "needs_background": "light"
     },
     "output_type": "display_data"
    }
   ],
   "source": [
    "import matplotlib.pyplot as plt\n",
    "\n",
    "# count items by period\n",
    "counts = metadata_df['period'].value_counts()\n",
    "# periods in chronological order\n",
    "antiquity = [\n",
    "    'Neolithic Linear Pottery Culture (LBK)', 'Neolithic Stroked Pottery culture (SBK)', \n",
    "    'Bronze Age', 'Iron Age', 'Greek', 'Roman']\n",
    "counts = counts.reindex(antiquity).iloc[::-1] # reverse order top to bottom\n",
    "# horizontal bar plot\n",
    "plt.barh(counts.index, counts)\n",
    "plt.xlabel('Item count in collection')\n",
    "plt.ylabel('Period')\n",
    "plt.title('Figure 4: Items by period')\n",
    "plt.show();"
   ]
  },
  {
   "cell_type": "markdown",
   "id": "df5ddc76",
   "metadata": {},
   "source": [
    "### Classes per data provider\n",
    "\n",
    "Additionally, each data provider has a different combinations of data classes: \"The Royal Museums of Art and History\" provides only data for the Bronze Age class, while \"Global Digital Heritage\" provides data for the Iron Age, Greek and Roman classes, etc."
   ]
  },
  {
   "cell_type": "code",
   "execution_count": 10,
   "id": "6148e153",
   "metadata": {
    "jupyter": {
     "source_hidden": true
    }
   },
   "outputs": [
    {
     "data": {
      "image/png": "[encoded data removed]",
      "text/plain": [
       "<Figure size 432x288 with 1 Axes>"
      ]
     },
     "metadata": {
      "needs_background": "light"
     },
     "output_type": "display_data"
    }
   ],
   "source": [
    "# for each provider, count items per period (class) \n",
    "classes_provider = []\n",
    "for group in metadata_df.groupby('user.displayName'): # group by data provider (displayName is name of provider)\n",
    "    counts = group[1].groupby('period')['period'].count().reindex(antiquity) # group by period, aggregate, sort by antiquity\n",
    "    counts.name = group[0] \n",
    "    classes_provider.append(counts)\n",
    "classes_provider = pd.DataFrame(classes_provider)\n",
    "\n",
    "# make sure 'Other ...' is at the bottom\n",
    "other = classes_provider.loc['Other (less than 10 models each)']\n",
    "classes_provider.drop('Other (less than 10 models each)', inplace=True)\n",
    "classes_provider = classes_provider.append(other)\n",
    "\n",
    "# reverse order of provider names top to bottom, stack by period\n",
    "classes_provider.iloc[::-1].plot.barh(stacked=True) \n",
    "plt.title('Figure 5: Classes per provider')\n",
    "plt.xlabel('Item counts')\n",
    "plt.ylabel('Provider')\n",
    "plt.legend(title='Period', loc='upper right', bbox_to_anchor=(1.8, 1))\n",
    "plt.show();"
   ]
  },
  {
   "cell_type": "markdown",
   "id": "a95f0725",
   "metadata": {},
   "source": [
    "### Distribution of vertices\n",
    "\n",
    "The metadata includes information on the number of vertices in each 3D-model. "
   ]
  },
  {
   "cell_type": "code",
   "execution_count": 11,
   "id": "03be36b6",
   "metadata": {
    "jupyter": {
     "source_hidden": true
    }
   },
   "outputs": [
    {
     "name": "stdout",
     "output_type": "stream",
     "text": [
      "The number of vertices per 3D-model ranges from 860 to 3211002. \n",
      "The median is 250000, the mean is 281694, the standard deviation is 380816, \n",
      "95% of the 3D-models have more than 37476 vertices.\n"
     ]
    }
   ],
   "source": [
    "# get the data to plot\n",
    "x = metadata_df['vertexCount']\n",
    "\n",
    "print(\n",
    "    'The number of vertices per 3D-model ranges from {} to {}. \\n\\\n",
    "The median is {:.0f}, the mean is {:.0f}, the standard deviation is {:.0f}, \\n\\\n",
    "95% of the 3D-models have more than {:.0f} vertices.'.format(\n",
    "    x.min(), x.max(), x.median(), x.mean(), x.std(),\n",
    "    x.quantile(0.05)\n",
    "))"
   ]
  },
  {
   "cell_type": "markdown",
   "id": "1cd69ec8",
   "metadata": {},
   "source": [
    "The median and the mean are not too far apart from each other, however the standard deviation is larger than the mean, which implies that the data is skewed. The range is a potential problem, because 3D-models with few vertices look different than those with many vertices: \n",
    "* 3D-models with very few vertices are probably not usable (fig. 6A)\n",
    "* A very high vertex count (several million) gives the rendered models a blotched appearance (fig. 6B)\n",
    "* Sub-sampling these 3D-models with very high vertex counts brings up more details (fig. 6C). \n",
    "\n",
    "<img src=\"fig/subsampled.png\">\n",
    "\n",
    "_Figure 6: The 3D-model with the least vertices (A), with the most vertices (B), the model with the most vertices sub-sampled to 37532 vertices (C)_"
   ]
  },
  {
   "cell_type": "markdown",
   "id": "a974bb7d",
   "metadata": {},
   "source": [
    "The frequency plot (fig. 6) shows that the distribution of vertex counts in not normally distributed, and that the median value is very pronounced. "
   ]
  },
  {
   "cell_type": "code",
   "execution_count": 12,
   "id": "58501f61",
   "metadata": {
    "jupyter": {
     "source_hidden": true
    }
   },
   "outputs": [
    {
     "data": {
      "image/png": "[encoded data removed]",
      "text/plain": [
       "<Figure size 432x288 with 1 Axes>"
      ]
     },
     "metadata": {
      "needs_background": "light"
     },
     "output_type": "display_data"
    }
   ],
   "source": [
    "# plot bins\n",
    "plt.hist(x, bins=30, color='lightgray')\n",
    "plt.ticklabel_format(style='sci', axis='x', scilimits=(0,0)) # x axis labels in scientific notation\n",
    "# plot the median\n",
    "median_val = x.median()\n",
    "plt.axvline(median_val, color='red', linewidth=1)\n",
    "plt.annotate('median\\n{:.2e}'.format(median_val), (median_val+1e5, 200), color='red')\n",
    "# title etc.\n",
    "plt.title('Figure 7: Frequency of vertex counts')\n",
    "plt.xlabel('Number of vertices in 3D-model')\n",
    "plt.ylabel('Number of 3D-models')\n",
    "plt.show();"
   ]
  },
  {
   "cell_type": "markdown",
   "id": "e75e3e65",
   "metadata": {},
   "source": [
    "Looking at the distribution of vertex counts __by data provider__ using box plots (fig. 8A) shows that data from the \"Archaeological 3D virtual museum\" - which is the largest data provider (tab. 2) - has very little variance. This is most probably an artifact of the digitization process. Unfortunately, no detailed documentation about the process is available on the Sketchfab website.\n",
    "\n",
    "Looking at the distribution of vertex counts __by period__ (fig. 8B) shows that, as all the data for the Neolithic pots come from the \"Archaeological 3D virtual museum\", these data is affected by the same digitization artifacts, resulting in very little variance."
   ]
  },
  {
   "cell_type": "code",
   "execution_count": 13,
   "id": "51fc1b84",
   "metadata": {
    "jupyter": {
     "source_hidden": true
    }
   },
   "outputs": [
    {
     "data": {
      "image/png": "[encoded data removed]",
      "text/plain": [
       "<Figure size 1296x504 with 2 Axes>"
      ]
     },
     "metadata": {
      "needs_background": "light"
     },
     "output_type": "display_data"
    }
   ],
   "source": [
    "fig, (ax1, ax2) = plt.subplots(1, 2, figsize=(18, 7))\n",
    "\n",
    "# vertices by data provider\n",
    "metadata_df.boxplot(ax=ax1, column='vertexCount', by='user.displayName', grid=False, rot=45, fontsize=10)\n",
    "ax1.set_yscale(\"log\")\n",
    "ax1.set_xlabel('Data provider')\n",
    "ax1.set_ylabel('Vertex count (log scale)')\n",
    "ax1.set_title('A: Vertex counts by data provider')\n",
    "ax1.set_xticklabels(ax1.get_xticklabels(), rotation=45, ha='right')\n",
    "\n",
    "# vertices by period\n",
    "metadata_df.boxplot(ax=ax2, column='vertexCount', by='period', grid=False, rot=45, fontsize=10)\n",
    "ax2.set_yscale(\"log\")\n",
    "ax2.set_xlabel('Period')\n",
    "ax2.set_ylabel('Vertex count (log scale)')\n",
    "ax2.set_title('B: Vertex counts by period')\n",
    "ax2.set_xticklabels(ax2.get_xticklabels(), rotation=45, ha='right')\n",
    "\n",
    "fig.suptitle('Figure 8')\n",
    "plt.show();"
   ]
  },
  {
   "cell_type": "markdown",
   "id": "ebd8ef79",
   "metadata": {},
   "source": [
    "### Handling outliers\n",
    "\n",
    "I examined the distribution of the number of vertices in the 3D-models. 3D-models with few vertices look different than those with more vertices (fig. 6). 95% of the 3D-models have more than 37532 vertices. I propose to discard 3D-models with fewer than 37532 vertices, and to sub sample 37532 vertices from 3D-models that have more vertices."
   ]
  },
  {
   "cell_type": "code",
   "execution_count": 14,
   "id": "1f2257b8",
   "metadata": {
    "jupyter": {
     "source_hidden": true
    }
   },
   "outputs": [
    {
     "name": "stdout",
     "output_type": "stream",
     "text": [
      "This will result in a dataset with 969 objects, with 37476 vertices each.\n"
     ]
    }
   ],
   "source": [
    "q95_vertices = metadata_df['vertexCount'].quantile(0.05)\n",
    "idx = metadata_df['vertexCount'] >= q95_vertices\n",
    "print('This will result in a dataset with {} objects, with {:.0f} vertices each.'.format(len(metadata_df[idx]), q95_vertices))"
   ]
  },
  {
   "cell_type": "markdown",
   "id": "818a326e",
   "metadata": {},
   "source": [
    "Discarding 3D-models with few vertices changes the distribution of the number of 3D-models in each class (classes are Bronze Age, Iron Age etc.). Removing outliers does not affect the imbalance between classes (fig. 9). "
   ]
  },
  {
   "cell_type": "code",
   "execution_count": 15,
   "id": "6dd6e919",
   "metadata": {
    "jupyter": {
     "source_hidden": true
    }
   },
   "outputs": [
    {
     "data": {
      "image/png": "[encoded data removed]",
      "text/plain": [
       "<Figure size 432x288 with 1 Axes>"
      ]
     },
     "metadata": {
      "needs_background": "light"
     },
     "output_type": "display_data"
    }
   ],
   "source": [
    "import numpy as np\n",
    "import matplotlib.pyplot as plt\n",
    "\n",
    "antiquity = [\n",
    "    'Neolithic Linear Pottery Culture (LBK)', 'Neolithic Stroked Pottery culture (SBK)', \n",
    "    'Bronze Age', 'Iron Age', 'Greek', 'Roman']\n",
    "N = len(antiquity)\n",
    "\n",
    "# count 3D-models before outlier removal\n",
    "counts_all = metadata_df['period'].value_counts()\n",
    "counts_all = counts_all.reindex(antiquity).iloc[::-1] # reverse order top to bottom\n",
    "\n",
    "# count 3D-models after outlier removal\n",
    "counts_q95 = metadata_df.loc[idx, 'period'].value_counts()\n",
    "counts_q95 = counts_q95.reindex(antiquity).iloc[::-1] # reverse order top to bottom\n",
    "\n",
    "# draw plot\n",
    "fig, ax = plt.subplots()\n",
    "ind = np.arange(N)    # the x locations for the groups\n",
    "height = 0.35         # the width of the bars\n",
    "ax.barh(ind, counts_all, height, label='With outliers')\n",
    "ax.barh(ind + height, counts_q95, height, label='Without outliers')\n",
    "\n",
    "ax.set_title('Figure 9: Items by period after outlier removal')\n",
    "ax.set_yticks(ind + height / 2)\n",
    "ax.set_yticklabels(antiquity[::-1])\n",
    "ax.legend()\n",
    "plt.show();"
   ]
  },
  {
   "cell_type": "markdown",
   "id": "01bda3e5",
   "metadata": {},
   "source": [
    "After removing outliers, I saved the cleaned dataset to disk in the file `data/metadata.csv`."
   ]
  },
  {
   "cell_type": "code",
   "execution_count": 16,
   "id": "9481e21c",
   "metadata": {
    "jupyter": {
     "source_hidden": true
    }
   },
   "outputs": [],
   "source": [
    "# save the cleaned data to file\n",
    "metadata_df[idx].to_csv(os.path.join('data', 'metadata.csv'), index=False)"
   ]
  },
  {
   "cell_type": "markdown",
   "id": "a6185000",
   "metadata": {},
   "source": [
    "## 3D-models\n",
    "I obtained 3D-models from the [Sketchfab website](https://sketchfab.com/3d-models/categories/cultural-heritage-history?date=week&features=downloadable&licenses=322a749bcfa841b29dff1e8a1bb74b0b&licenses=b9ddc40b93e34cdca1fc152f39b9f375&licenses=72360ff1740d419791934298b8b6d270&licenses=bbfe3f7dbcdd4122b966b85b9786a989&licenses=2628dbe5140a4e9592126c8df566c0b7&licenses=34b725081a6a4184957efaec2cb84ed3&licenses=7c23a1ba438d4306920229c12afcb5f9&licenses=783b685da9bf457d81e829fa283f3567&licenses=5b54cf13b1a4422ca439696eb152070d&sort_by=-likeCount). Sketchfab provides an [API](https://docs.sketchfab.com/data-api/v3/index.html#!/models/get_v3_models_uid_download) for querying and downloading 3D-models. I contacted Sketchfab to check if it would be alright to download a large number of 3D-models. They have been very supportive to my idea and I managed to use the API to download all the metadata and the 3D-models. \n",
    "The API requires a Sketchfab account and a key. The key is stored in the file `client_credentials.json` (not included in the submission). Please note that:\n",
    "* 3D-models are large files. The project should require an estimated 20 GB of data, 17 GB for the downloaded files alone. I setup a virtual storage with 50 GB to hold the data for this project. Github recommends keeping projects under 5 GB. Therefore I will not be able to upload the 3D-models as such to the capstone repository, but only the preprocessed files. \n",
    "* the Sketchfab API has various download rate restrictions (per day, per hour, per minute), so that the download process has to be extended over a period of several days.\n",
    "\n",
    "The downloaded 3D-models are stored as zip-compressed files on an external disk. As explained above, this data is too large for GitHub."
   ]
  },
  {
   "cell_type": "code",
   "execution_count": 17,
   "id": "ce374e09",
   "metadata": {
    "jupyter": {
     "source_hidden": true
    }
   },
   "outputs": [
    {
     "name": "stdout",
     "output_type": "stream",
     "text": [
      "There are 968 3D-models in the dataset.\n"
     ]
    }
   ],
   "source": [
    "import pandas as pd\n",
    "import os\n",
    "\n",
    "# reload the cleaned-up metadata\n",
    "metadata_df = pd.read_csv(os.path.join('data', 'metadata.csv'), index_col=False)\n",
    "\n",
    "# after attempting to download the models, it apperas that some 3D-models are unavailable\n",
    "unavailable = ['90ed2b7744134172bc8a24e37431ad39']\n",
    "available_idx = [uid not in unavailable for uid in metadata_df.id]\n",
    "metadata_df = metadata_df[available_idx]\n",
    "\n",
    "print('There are {} 3D-models in the dataset.'.format(metadata_df.shape[0]))"
   ]
  },
  {
   "cell_type": "code",
   "execution_count": 18,
   "id": "ba4ae2ac",
   "metadata": {
    "jupyter": {
     "source_hidden": true
    }
   },
   "outputs": [],
   "source": [
    "import json\n",
    "import requests\n",
    "import os\n",
    "import time\n",
    "\n",
    "# load credentials stored in local file\n",
    "with open('client_credentials.json') as file:\n",
    "    client_credentials = json.load(file)\n",
    "API_TOKEN = client_credentials['api_token'] # Token from Sketchfab account\n",
    "\n",
    "DOWNLOAD_DIR = '/mnt/Disk2/downloaded_models' # Folder to store the downloaded files\n",
    "DOWNLOAD_DELAY = 20 # seconds, 200 / hour API rate limit\n",
    "DOWNLOAD_ENDPOINT = 'https://api.sketchfab.com/v3/models/{}/download' # API endpoint\n",
    "\n",
    "# HTTP request headers\n",
    "headers = {'Authorization': 'Token {}'.format(API_TOKEN)} # Authorization method used\n",
    "headers.update({'Content-Type': 'application/json'}) # http content type of the request\n",
    "\n",
    "def download_data(uid):\n",
    "    \"\"\"\n",
    "    Downloads a 3D-model from Sketchfab, saves it to a zipped file.\n",
    "    @param: uid unique id of the model\n",
    "    @raises: RequestException, e.g. API limit exceeded\n",
    "    \"\"\"\n",
    "    # get the download url of the model\n",
    "    # this url is only valid for a few minutes\n",
    "    r = requests.get(\n",
    "        DOWNLOAD_ENDPOINT.format(uid),\n",
    "        headers = headers\n",
    "    )\n",
    "    r.raise_for_status() # throw exception if request status is not OK\n",
    "    model_link = json.loads(r.text)\n",
    "    url = model_link['gltf']['url'] # download url of the model\n",
    "\n",
    "    # download the 3D-model, save it to file\n",
    "    r = requests.get(url)\n",
    "    with open(filename,'wb') as output_file:\n",
    "        output_file.write(r.content)\n",
    "            \n",
    "\n",
    "try:\n",
    "    # loop through the metadata table and download each 3D-model\n",
    "    total = len(metadata_df)\n",
    "    counter = 1\n",
    "    verbose = False\n",
    "    for model_uid in metadata_df['id']:\n",
    "        filename = os.path.join(DOWNLOAD_DIR, '{}.zip'.format(model_uid)) # file to save the 3D-model\n",
    "        if os.path.isfile(filename): # check that the file hasn't been downloaded already\n",
    "            if verbose:\n",
    "                print('File {} already exists'.format(filename))\n",
    "        else:\n",
    "            print('Downloading model {} ({}/{})'.format(model_uid, counter, total))\n",
    "            download_data(model_uid) # download and save the 3D-model\n",
    "            time.sleep(DOWNLOAD_DELAY) # don't hit the API too hard\n",
    "        counter += 1\n",
    "\n",
    "# Downloads may fail, typically when API limit exceeded\n",
    "except requests.exceptions.RequestException:\n",
    "    print('Download failed for 3D-model: {}'.format(model_uid))\n"
   ]
  },
  {
   "cell_type": "code",
   "execution_count": 19,
   "id": "17a34439",
   "metadata": {
    "jupyter": {
     "source_hidden": true
    }
   },
   "outputs": [
    {
     "name": "stdout",
     "output_type": "stream",
     "text": [
      "The output of this step is: a folder with 968 compressed files of 3D-models.\n"
     ]
    }
   ],
   "source": [
    "print('The output of this step is: a folder with {} compressed files of 3D-models.'.format(\n",
    "    len([\n",
    "        name for name in os.listdir(DOWNLOAD_DIR) \n",
    "        if os.path.isfile(os.path.join(DOWNLOAD_DIR, name))\n",
    "    ])\n",
    "))"
   ]
  }
 ],
 "metadata": {
  "kernelspec": {
   "display_name": "Python 3",
   "language": "python",
   "name": "python3"
  },
  "language_info": {
   "codemirror_mode": {
    "name": "ipython",
    "version": 3
   },
   "file_extension": ".py",
   "mimetype": "text/x-python",
   "name": "python",
   "nbconvert_exporter": "python",
   "pygments_lexer": "ipython3",
   "version": "3.6.13"
  }
 },
 "nbformat": 4,
 "nbformat_minor": 5
}
