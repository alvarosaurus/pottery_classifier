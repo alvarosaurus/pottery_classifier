{
 "cells": [
  {
   "cell_type": "markdown",
   "id": "51005f26",
   "metadata": {},
   "source": [
    "# Dense networks for 3D images\n",
    "Each object is represented by 3 views (elevation, plan, section) and a texture image. However, not all objects have a texture image. Therefore, in this notebook I will train and evaluate an ensemble of 3 classifiers (fig. 1), one for each 3D-view, using all the data (split in train, validate and test datasets). In the next notebook, I will add a texture classifier and re-train the ensemble using only the objects for which a texture was provided.\n",
    "\n",
    "<img src=\"fig/ML_3D_only.png\">\n",
    "\n",
    "_Figure 1: Overview of the classifier ensemble using only 3D views._\n"
   ]
  },
  {
   "cell_type": "markdown",
   "id": "46e3d3e4",
   "metadata": {},
   "source": [
    "## Load feature data"
   ]
  },
  {
   "cell_type": "code",
   "execution_count": 47,
   "id": "9326f79d",
   "metadata": {},
   "outputs": [],
   "source": [
    "import numpy as np\n",
    "import os\n",
    "from sklearn.preprocessing import LabelEncoder\n",
    "\n",
    "PROD_DIR = 'production' # interim production files\n",
    "\n",
    "# Reload extracted features from train dataset\n",
    "with np.load(os.path.join(PROD_DIR, 'features_point_clouds_train.npz'), allow_pickle=True) as data:\n",
    "    data_dict = dict(data.items())\n",
    "    metadata_train = data_dict['metadata']\n",
    "    elevation_features_train = data_dict['elevation_features']\n",
    "    plan_features_train = data_dict['plan_features']\n",
    "    section_features_train = data_dict['section_features']\n",
    "\n",
    "# encode labels as ints\n",
    "labels_train = LabelEncoder().fit_transform(metadata_train[:, 3]) # 'period' is the 3rd column\n",
    "    \n",
    "# Reload extracted features from validate dataset\n",
    "with np.load(os.path.join(PROD_DIR, 'features_point_clouds_validate.npz'), allow_pickle=True) as data:\n",
    "    data_dict = dict(data.items())\n",
    "    metadata_valid = data_dict['metadata']\n",
    "    elevation_features_valid = data_dict['elevation_features']\n",
    "    plan_features_valid = data_dict['plan_features']\n",
    "    section_features_valid = data_dict['section_features']\n",
    "\n",
    "# encode labels as ints\n",
    "labels_valid = LabelEncoder().fit_transform(metadata_valid[:, 3]) # 'period' is the 3rd column\n",
    "\n",
    "# Reload extracted features from test dataset\n",
    "with np.load(os.path.join(PROD_DIR, 'features_point_clouds_test.npz'), allow_pickle=True) as data:\n",
    "    data_dict = dict(data.items())\n",
    "    metadata_test = data_dict['metadata']\n",
    "    elevation_features_test = data_dict['elevation_features']\n",
    "    plan_features_test = data_dict['plan_features']\n",
    "    section_features_test = data_dict['section_features']\n",
    "\n",
    "# encode labels as ints\n",
    "labels_test = LabelEncoder().fit_transform(metadata_test[:, 3]) # 'period' is the 3rd column\n"
   ]
  },
  {
   "cell_type": "markdown",
   "id": "af920148",
   "metadata": {},
   "source": [
    "## Baseline"
   ]
  },
  {
   "cell_type": "code",
   "execution_count": 2,
   "id": "5ef96d1d",
   "metadata": {},
   "outputs": [
    {
     "data": {
      "text/plain": [
       "0.3385416666666667"
      ]
     },
     "execution_count": 2,
     "metadata": {},
     "output_type": "execute_result"
    }
   ],
   "source": [
    "from sklearn.dummy import DummyClassifier\n",
    "\n",
    "dummy = DummyClassifier(strategy='most_frequent')\n",
    "dummy.fit(elevation_features_train, labels_train)\n",
    "dummy.score(elevation_features_valid, labels_valid)"
   ]
  },
  {
   "cell_type": "markdown",
   "id": "4c6dcaa1",
   "metadata": {},
   "source": [
    "## Define dense networks\n",
    "\n",
    "* The input data for the network are 2048 high-level features exracted from each of the 3d-views in the previous notebook.\n",
    "* This network has a hidden layer. Chosing the number of nodes in the hidden layer is a problem for which [some heristics](https://www.heatonresearch.com/2017/06/01/hidden-layers.html) exist, but no definitive answer. One of these heuristics is that the number on nodes in the hidden layer should be between the number of nodes in the model's input and output layers (i.e. between 6 and 2048). Therefore I tried different configurations.\n",
    "* The images are in 6 classes ('Bronze Age', 'Iron Age', etc.), therefore the 2-layer network requires 6 outputs.\n",
    "\n",
    "I chose to implement the network using Keras."
   ]
  },
  {
   "cell_type": "code",
   "execution_count": 3,
   "id": "9fba8aad",
   "metadata": {},
   "outputs": [],
   "source": [
    "import warnings\n",
    "warnings.simplefilter(action='ignore', category=FutureWarning)\n",
    "import tensorflow as tf\n",
    "import tensorflow.keras as keras\n",
    "from tensorflow.keras import Sequential\n",
    "from tensorflow.keras.layers import Dense\n",
    "from tensorflow.keras import activations\n",
    "from tensorflow.keras import initializers\n",
    "\n",
    "def define_network(outputs=6, hidden_nodes=6):\n",
    "    \"\"\"\n",
    "    Defines a multi-layer dense network with ahidden and a dropout layers.\n",
    "    @param out_nodes: int, number of outputs\n",
    "    @param hidden_nodes: int, number of nodes in the hidden layer\n",
    "    \"\"\"\n",
    "\n",
    "    network = Sequential()\n",
    "    # hidden layer\n",
    "    network.add(\n",
    "        Dense(\n",
    "            hidden_nodes, \n",
    "            activation='relu', \n",
    "            kernel_initializer=initializers.VarianceScaling(scale=2.0, seed=0)\n",
    "        )\n",
    "    )\n",
    "    # dropout layer\n",
    "    network.add(\n",
    "        keras.layers.Dropout(rate=0.5, seed=0)\n",
    "    )\n",
    "    # output layer\n",
    "    network.add(\n",
    "        Dense(\n",
    "            outputs, # number of image classes\n",
    "            activation='softmax', # 'softmax' since output layer\n",
    "            kernel_initializer=initializers.VarianceScaling(scale=1.0, seed=0)\n",
    "        )\n",
    "    )\n",
    "    return network"
   ]
  },
  {
   "cell_type": "code",
   "execution_count": 4,
   "id": "46b2e1b7",
   "metadata": {},
   "outputs": [],
   "source": [
    "# callback\n",
    "early_stopping = keras.callbacks.EarlyStopping(monitor='val_loss', patience=6)"
   ]
  },
  {
   "cell_type": "markdown",
   "id": "2b349111",
   "metadata": {},
   "source": [
    "### Tune the number of nodes in the hidden layer"
   ]
  },
  {
   "cell_type": "code",
   "execution_count": 34,
   "id": "a8fa9937",
   "metadata": {},
   "outputs": [
    {
     "name": "stdout",
     "output_type": "stream",
     "text": [
      "Evaluating 8 nodes\n",
      "Evaluating 16 nodes\n",
      "Evaluating 32 nodes\n",
      "Evaluating 64 nodes\n",
      "Evaluating 128 nodes\n",
      "Evaluating 256 nodes\n",
      "Evaluating 512 nodes\n",
      "Evaluating 1024 nodes\n",
      "Evaluating 2048 nodes\n"
     ]
    }
   ],
   "source": [
    "# NEW VERSION\n",
    "accuracy = []\n",
    "for num_nodes in [2**i for i in range(3, 12)]:  # num nodes between 8 and 2048\n",
    "    print('Evaluating {} nodes'.format(num_nodes))\n",
    "    train_acc = []\n",
    "    val_acc = []\n",
    "    for tries in range(1, 11):\n",
    "        # define and compile the model\n",
    "        network = define_network(num_nodes) \n",
    "        network.compile(optimizer='sgd', loss='sparse_categorical_crossentropy', metrics=['acc']) # using defaults\n",
    "        # train the model\n",
    "        history = network.fit(\n",
    "            x=elevation_features_train, # do not rescale the data\n",
    "            y=labels_train,\n",
    "            validation_data=(elevation_features_valid, labels_valid), # do not use split, feed validation data directly\n",
    "            batch_size=128,\n",
    "            epochs=100, # combine many epochs with early stopping\n",
    "            callbacks=[early_stopping],\n",
    "            shuffle=True,\n",
    "            verbose=0\n",
    "        )\n",
    "        train_acc.append(history.history['acc'][-1]) # the training accuracy of the model, last epoch\n",
    "        val_acc.append(history.history['val_acc'][-1]) # the validation accuracy of the model, last epoch\n",
    "        \n",
    "    accuracy.append({\n",
    "        'num_nodes': num_nodes,\n",
    "        'train_acc_mean': np.mean(train_acc), \n",
    "        'train_acc_std': np.std(train_acc), \n",
    "        'val_acc_mean': np.mean(val_acc),\n",
    "        'val_acc_std': np.std(val_acc)\n",
    "    })"
   ]
  },
  {
   "cell_type": "code",
   "execution_count": 37,
   "id": "fff591fd",
   "metadata": {},
   "outputs": [
    {
     "data": {
      "text/html": [
       "<div>\n",
       "<style scoped>\n",
       "    .dataframe tbody tr th:only-of-type {\n",
       "        vertical-align: middle;\n",
       "    }\n",
       "\n",
       "    .dataframe tbody tr th {\n",
       "        vertical-align: top;\n",
       "    }\n",
       "\n",
       "    .dataframe thead th {\n",
       "        text-align: right;\n",
       "    }\n",
       "</style>\n",
       "<table border=\"1\" class=\"dataframe\">\n",
       "  <thead>\n",
       "    <tr style=\"text-align: right;\">\n",
       "      <th></th>\n",
       "      <th>num_nodes</th>\n",
       "      <th>train_acc_mean</th>\n",
       "      <th>train_acc_std</th>\n",
       "      <th>val_acc_mean</th>\n",
       "      <th>val_acc_std</th>\n",
       "    </tr>\n",
       "  </thead>\n",
       "  <tbody>\n",
       "    <tr>\n",
       "      <th>5</th>\n",
       "      <td>256</td>\n",
       "      <td>0.785672</td>\n",
       "      <td>0.017483</td>\n",
       "      <td>0.660417</td>\n",
       "      <td>0.015415</td>\n",
       "    </tr>\n",
       "    <tr>\n",
       "      <th>1</th>\n",
       "      <td>16</td>\n",
       "      <td>0.828213</td>\n",
       "      <td>0.021345</td>\n",
       "      <td>0.659896</td>\n",
       "      <td>0.016642</td>\n",
       "    </tr>\n",
       "    <tr>\n",
       "      <th>7</th>\n",
       "      <td>1024</td>\n",
       "      <td>0.781241</td>\n",
       "      <td>0.009919</td>\n",
       "      <td>0.657292</td>\n",
       "      <td>0.013937</td>\n",
       "    </tr>\n",
       "    <tr>\n",
       "      <th>8</th>\n",
       "      <td>2048</td>\n",
       "      <td>0.751846</td>\n",
       "      <td>0.004764</td>\n",
       "      <td>0.649479</td>\n",
       "      <td>0.007384</td>\n",
       "    </tr>\n",
       "    <tr>\n",
       "      <th>6</th>\n",
       "      <td>512</td>\n",
       "      <td>0.787297</td>\n",
       "      <td>0.006639</td>\n",
       "      <td>0.646875</td>\n",
       "      <td>0.009547</td>\n",
       "    </tr>\n",
       "    <tr>\n",
       "      <th>0</th>\n",
       "      <td>8</td>\n",
       "      <td>0.744904</td>\n",
       "      <td>0.026374</td>\n",
       "      <td>0.645312</td>\n",
       "      <td>0.024918</td>\n",
       "    </tr>\n",
       "    <tr>\n",
       "      <th>3</th>\n",
       "      <td>64</td>\n",
       "      <td>0.773855</td>\n",
       "      <td>0.007574</td>\n",
       "      <td>0.644792</td>\n",
       "      <td>0.012058</td>\n",
       "    </tr>\n",
       "    <tr>\n",
       "      <th>2</th>\n",
       "      <td>32</td>\n",
       "      <td>0.720532</td>\n",
       "      <td>0.004935</td>\n",
       "      <td>0.622396</td>\n",
       "      <td>0.012811</td>\n",
       "    </tr>\n",
       "    <tr>\n",
       "      <th>4</th>\n",
       "      <td>128</td>\n",
       "      <td>0.694387</td>\n",
       "      <td>0.004043</td>\n",
       "      <td>0.620833</td>\n",
       "      <td>0.015415</td>\n",
       "    </tr>\n",
       "  </tbody>\n",
       "</table>\n",
       "</div>"
      ],
      "text/plain": [
       "   num_nodes  train_acc_mean  train_acc_std  val_acc_mean  val_acc_std\n",
       "5        256        0.785672       0.017483      0.660417     0.015415\n",
       "1         16        0.828213       0.021345      0.659896     0.016642\n",
       "7       1024        0.781241       0.009919      0.657292     0.013937\n",
       "8       2048        0.751846       0.004764      0.649479     0.007384\n",
       "6        512        0.787297       0.006639      0.646875     0.009547\n",
       "0          8        0.744904       0.026374      0.645312     0.024918\n",
       "3         64        0.773855       0.007574      0.644792     0.012058\n",
       "2         32        0.720532       0.004935      0.622396     0.012811\n",
       "4        128        0.694387       0.004043      0.620833     0.015415"
      ]
     },
     "execution_count": 37,
     "metadata": {},
     "output_type": "execute_result"
    }
   ],
   "source": [
    "import pandas as pd\n",
    "\n",
    "accuracy = pd.DataFrame(accuracy)\n",
    "#accuracy = accuracy.set_index('num_nodes')\n",
    "accuracy.sort_values('val_acc_mean', ascending=False, inplace=True)\n",
    "#best_num_nodes = accuracy[0]\n",
    "accuracy"
   ]
  },
  {
   "cell_type": "code",
   "execution_count": 44,
   "id": "64fbcdf0",
   "metadata": {},
   "outputs": [],
   "source": [
    "best_num_nodes = accuracy.loc[accuracy['val_acc_mean'].idxmax(), 'num_nodes']"
   ]
  },
  {
   "cell_type": "markdown",
   "id": "e345ff32",
   "metadata": {},
   "source": [
    "### Train the network"
   ]
  },
  {
   "cell_type": "code",
   "execution_count": 45,
   "id": "25ba5760",
   "metadata": {},
   "outputs": [],
   "source": [
    "# define and compile the model with best number of nodes\n",
    "network = define_network(best_num_nodes) \n",
    "network.compile(optimizer='sgd', loss='sparse_categorical_crossentropy', metrics=['acc']) # using defaults\n",
    "# fit\n",
    "history = network.fit(\n",
    "    x=elevation_features_train,\n",
    "    y=labels_train,\n",
    "    validation_data=(elevation_features_valid, labels_valid), # do not use split, feed validation data directly\n",
    "    batch_size=128,\n",
    "    epochs=100, # combine many epochs with early stopping\n",
    "    callbacks=[early_stopping],\n",
    "    shuffle=True,\n",
    "    verbose=0\n",
    ")"
   ]
  },
  {
   "cell_type": "markdown",
   "id": "2c13609d",
   "metadata": {},
   "source": [
    "### Plot the network's accuracy"
   ]
  },
  {
   "cell_type": "code",
   "execution_count": 46,
   "id": "b6c44f0c",
   "metadata": {},
   "outputs": [
    {
     "data": {
      "image/png": "[encoded data removed]",
      "text/plain": [
       "<Figure size 432x288 with 1 Axes>"
      ]
     },
     "metadata": {
      "needs_background": "light"
     },
     "output_type": "display_data"
    }
   ],
   "source": [
    "%matplotlib inline\n",
    "import matplotlib.pyplot as plt\n",
    "import numpy as np\n",
    "\n",
    "plt.plot(history.history['acc'], label='train acc')\n",
    "plt.plot(history.history['val_acc'], label='val acc')\n",
    "plt.xlabel('epoch')\n",
    "plt.ylabel('accuracy')\n",
    "plt.legend()\n",
    "plt.show();"
   ]
  },
  {
   "cell_type": "markdown",
   "id": "3bb2ab16",
   "metadata": {},
   "source": [
    "### Accuracy on the test set"
   ]
  },
  {
   "cell_type": "code",
   "execution_count": 49,
   "id": "1a6de4cc",
   "metadata": {},
   "outputs": [
    {
     "name": "stdout",
     "output_type": "stream",
     "text": [
      "The accuracy on the test set is 0.74\n"
     ]
    }
   ],
   "source": [
    "score = network.evaluate(elevation_features_test, labels_test, verbose=0)\n",
    "print('The accuracy on the test set is {:.2f}'.format(score[1]))"
   ]
  },
  {
   "cell_type": "code",
   "execution_count": null,
   "id": "a99209c4",
   "metadata": {},
   "outputs": [],
   "source": []
  }
 ],
 "metadata": {
  "kernelspec": {
   "display_name": "Python 3",
   "language": "python",
   "name": "python3"
  },
  "language_info": {
   "codemirror_mode": {
    "name": "ipython",
    "version": 3
   },
   "file_extension": ".py",
   "mimetype": "text/x-python",
   "name": "python",
   "nbconvert_exporter": "python",
   "pygments_lexer": "ipython3",
   "version": "3.6.13"
  }
 },
 "nbformat": 4,
 "nbformat_minor": 5
}
