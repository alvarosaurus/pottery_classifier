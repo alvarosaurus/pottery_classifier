{
 "cells": [
  {
   "cell_type": "markdown",
   "id": "ff7c736c",
   "metadata": {},
   "source": [
    "# Classify\n",
    "\n",
    "In this notebook, I will use 3D images and textures to classify the objects in the data set.\n",
    "\n",
    "I will proceed as follows:\n",
    "* Compute a \"most-common\" baseline for the filtered data\n",
    "* Train and evaluate an ensemble of 4 classifiers (fig. 1), one for each 3D view and one for textures\n",
    "* Combine the results using either k-NN or logistic regression"
   ]
  },
  {
   "cell_type": "markdown",
   "id": "8ced3c3a",
   "metadata": {},
   "source": [
    "## Load feature data\n",
    "Load the feature data extracted from the 3D-views and textures in notebook 3."
   ]
  },
  {
   "cell_type": "code",
   "execution_count": 1,
   "id": "2339d6cc",
   "metadata": {
    "jupyter": {
     "source_hidden": true
    }
   },
   "outputs": [
    {
     "name": "stdout",
     "output_type": "stream",
     "text": [
      "The train dataset has 677 objects, the validation dataset 192, the test dataset 99\n"
     ]
    }
   ],
   "source": [
    "import numpy as np\n",
    "import os\n",
    "from sklearn.preprocessing import LabelEncoder\n",
    "\n",
    "PROD_DIR = 'production' # interim production files\n",
    "\n",
    "metadata_textures = {}\n",
    "# Reload texture metadata and extracted features from train dataset\n",
    "with np.load(os.path.join(PROD_DIR, 'features_textures_train.npz'), allow_pickle=True) as data:\n",
    "    data_dict = dict(data.items())\n",
    "    metadata_textures['train'] = data_dict['metadata']\n",
    "    textures_train = data_dict['textures_features']\n",
    "    \n",
    "# Reload texture metadata and extracted features from validation dataset\n",
    "with np.load(os.path.join(PROD_DIR, 'features_textures_validate.npz'), allow_pickle=True) as data:\n",
    "    data_dict = dict(data.items())\n",
    "    metadata_textures['valid'] = data_dict['metadata']\n",
    "    textures_valid = data_dict['textures_features']\n",
    "\n",
    "# Reload texture metadata and extracted features from test dataset\n",
    "with np.load(os.path.join(PROD_DIR, 'features_textures_test.npz'), allow_pickle=True) as data:\n",
    "    data_dict = dict(data.items())\n",
    "    metadata_textures['test'] = data_dict['metadata']\n",
    "    textures_test = data_dict['textures_features']\n",
    "\n",
    "# Reload extracted 3D features from train dataset\n",
    "with np.load(os.path.join(PROD_DIR, 'features_point_clouds_train.npz'), allow_pickle=True) as data:\n",
    "    data_dict = dict(data.items())\n",
    "    metadata_train = data_dict['metadata']\n",
    "    elevation_features_train = data_dict['elevation_features']\n",
    "    plan_features_train = data_dict['plan_features']\n",
    "    section_features_train = data_dict['section_features']\n",
    "    \n",
    "# encode labels as ints\n",
    "labels_train = LabelEncoder().fit_transform(metadata_train[:, 3])\n",
    "\n",
    "# Reload extracted features from validate dataset\n",
    "with np.load(os.path.join(PROD_DIR, 'features_point_clouds_validate.npz'), allow_pickle=True) as data:\n",
    "    data_dict = dict(data.items())\n",
    "    metadata_valid = data_dict['metadata']\n",
    "    elevation_features_valid = data_dict['elevation_features']\n",
    "    plan_features_valid = data_dict['plan_features']\n",
    "    section_features_valid = data_dict['section_features']\n",
    "\n",
    "# encode labels as ints\n",
    "labels_valid = LabelEncoder().fit_transform(metadata_valid[:, 3])\n",
    "\n",
    "# Reload extracted features from test dataset\n",
    "with np.load(os.path.join(PROD_DIR, 'features_point_clouds_test.npz'), allow_pickle=True) as data:\n",
    "    data_dict = dict(data.items())\n",
    "    metadata_test = data_dict['metadata']\n",
    "    elevation_features_test = data_dict['elevation_features']\n",
    "    plan_features_test = data_dict['plan_features']\n",
    "    section_features_test = data_dict['section_features']\n",
    "\n",
    "# encode labels as ints\n",
    "labels_test = LabelEncoder().fit_transform(metadata_test[:, 3])\n",
    "\n",
    "print('The train dataset has {} objects, the validation dataset {}, the test dataset {}'.format(\n",
    "    len(labels_train), len(labels_valid), len(labels_test)\n",
    "))"
   ]
  },
  {
   "cell_type": "markdown",
   "id": "453f86a1",
   "metadata": {},
   "source": [
    "## Baseline\n",
    "Compute the \"most frequent\" baseline based on validation and the test datasets (as the distribution is the same, these are equal)."
   ]
  },
  {
   "cell_type": "code",
   "execution_count": 2,
   "id": "655bb178",
   "metadata": {
    "jupyter": {
     "source_hidden": true
    }
   },
   "outputs": [
    {
     "name": "stdout",
     "output_type": "stream",
     "text": [
      "The accuracy of the most frequent baseline for the validation dataset is 0.34, for the test dataset 0.34.\n"
     ]
    }
   ],
   "source": [
    "from sklearn.dummy import DummyClassifier\n",
    "\n",
    "dummy = DummyClassifier(strategy='most_frequent')\n",
    "dummy.fit(elevation_features_train, labels_train)\n",
    "baseline_score_valid = dummy.score(elevation_features_valid, labels_valid)\n",
    "baseline_score_test = dummy.score(elevation_features_test, labels_test)\n",
    "print('The accuracy of the most frequent baseline for the validation dataset is {:.2f}, for the test dataset {:.2f}.'.format(baseline_score_valid, baseline_score_test))"
   ]
  },
  {
   "cell_type": "markdown",
   "id": "ec7d40db",
   "metadata": {},
   "source": [
    "## Define dense networks\n",
    "\n",
    "For each of the 3D-views and the texture image, I implemented a separate dense network, so there are 4 separate models to fit. Each network has 1 input and 1 output tensor, there are no branching or merging layers, so the architecture is sequential and similar for each of the 4 models:\n",
    "\n",
    "* The input data for the network are 2048 high-level features extracted from each of the 3d-views and from the textures in the previous notebook.\n",
    "* The data is not linearly separable (notebook 3), therefore this network needs at least one hidden layer. After some experimenting, I added two hidden layers. Choosing the number of nodes in the hidden layer is a problem for which [some heuristics](http://www.faqs.org/faqs/ai-faq/neural-nets/part3/section-10.html) exist, but no definitive answer, therefore I optimize the number of nodes in the hidden layers using grid search. In this network, the second hidden layer has half the nodes of the first hidden layer.\n",
    "* I added dropout layers to prevent overfitting.\n",
    "* The images are in 6 classes ('Bronze Age', 'Iron Age', etc.), therefore the network requires 6 outputs.\n",
    "\n",
    "I chose to implement the network using Keras."
   ]
  },
  {
   "cell_type": "code",
   "execution_count": 3,
   "id": "87f84d46",
   "metadata": {},
   "outputs": [],
   "source": [
    "import warnings\n",
    "warnings.simplefilter(action='ignore', category=FutureWarning)\n",
    "import tensorflow as tf\n",
    "import tensorflow.keras as keras\n",
    "from tensorflow.keras import Sequential\n",
    "from tensorflow.keras.layers import Dense\n",
    "from tensorflow.keras import activations\n",
    "from tensorflow.keras import initializers\n",
    "\n",
    "def define_network(outputs, hidden_nodes, rate):\n",
    "    \"\"\"\n",
    "    Defines a multi-layer dense network with a hidden and a dropout layer.\n",
    "    @param outputs: int, number of outputs\n",
    "    @param hidden_nodes: int, number of nodes in the hidden layer\n",
    "    @param rate: float, rate of the dropout layer\n",
    "    \"\"\"\n",
    "    network = Sequential()\n",
    "    # hidden layer 1\n",
    "    network.add(\n",
    "        Dense(\n",
    "            hidden_nodes, \n",
    "            activation='relu', \n",
    "            kernel_initializer=initializers.VarianceScaling(scale=2.0, seed=0)\n",
    "        )\n",
    "    )\n",
    "    # dropout layer\n",
    "    network.add(\n",
    "        keras.layers.Dropout(rate, seed=0)\n",
    "    )\n",
    "    # hidden layer 2\n",
    "    network.add(\n",
    "        Dense(\n",
    "            np.floor(hidden_nodes/2), # the second hidden layer has half the nodes of the first one\n",
    "            activation='relu', \n",
    "            kernel_initializer=initializers.VarianceScaling(scale=2.0, seed=0)\n",
    "        )\n",
    "    )\n",
    "    # dropout layer 2\n",
    "    network.add(\n",
    "        keras.layers.Dropout(rate, seed=0)\n",
    "    )\n",
    "    # output layer\n",
    "    network.add(\n",
    "        Dense(\n",
    "            outputs, # number of image classes\n",
    "            activation='softmax', # 'softmax' since output layer for classification network\n",
    "            kernel_initializer=initializers.VarianceScaling(scale=1.0, seed=0)\n",
    "        )\n",
    "    )\n",
    "    return network"
   ]
  },
  {
   "cell_type": "markdown",
   "id": "4bf3c693",
   "metadata": {},
   "source": [
    "### Grid search\n",
    "The networks are trained independently from each other. There are 4 networks, one for each 3D view and one for the textures. I used grid search to optimize the accuracy of the model by tuning:\n",
    "* the number of nodes in the hidden layers\n",
    "* the dropout rate \n",
    "* the optimizer used for compiling the model \n",
    "\n",
    "Alternatively, I could have used cross validation for a better estimate of the parameters. However, this would be very computationally demanding, as fitting the model is itself costly, and the grid has many parameter combinations. As the data set is large enough, I did a simple grid search. Additionally, I used early stopping to reduce the computation time (this would not be compatible with cross validation). \n",
    "\n",
    "In order to get a better estimate nonetheless, \n",
    "* the train and validation data as split in notebook 1 is stratified\n",
    "* the parameter class_weight is set to a dictionary of class labels per sample\n",
    "* I used a batch size larger than the default\n",
    "\n",
    "Optimizing the parameters for all 4 classifiers required about 3/4 hour on my machine, using 3 processor threads."
   ]
  },
  {
   "cell_type": "code",
   "execution_count": 4,
   "id": "e9f67c2f",
   "metadata": {},
   "outputs": [],
   "source": [
    "import pandas as pd\n",
    "from sklearn.model_selection import ParameterGrid\n",
    "from sklearn.utils import class_weight\n",
    "\n",
    "# create a grid of tunable parameters\n",
    "# the same grid is used for all networks\n",
    "grid = ParameterGrid({\n",
    "    'nw__num_nodes': [2**i for i in range(8, 12)], # between 256 and 2048\n",
    "    'nw__dropout_rate': [0.5, 0.55, 0.6, 0.65],\n",
    "    'nw__optimizer': ['sgd', 'adam'] # try 2 optimizers: stochastic gradient descent and Adam\n",
    "})\n",
    "\n",
    "# callback for early stopping\n",
    "early_stopping = keras.callbacks.EarlyStopping(monitor='val_loss', patience=6)\n",
    "\n",
    "def fit_network(num_nodes, optimizer, dropout_rate, X_train, y_train, X_valid, y_valid):\n",
    "    \"\"\"\n",
    "    Fit a network as defined in define_network().\n",
    "    @param num_nodes int, number of nodes in the hidden layer\n",
    "    @param optimizer string name of a tf.keras.optimizers.*\n",
    "    @params X_train, y_train, X_valid, y_valid numpy ndarrays\n",
    "    @return fitted tensorflow network ('Sequential' object), tensorflow fit history ('History' object)\n",
    "    \"\"\"\n",
    "    # define and compile the model with given number of nodes, dropout rate and optimizer\n",
    "    outputs = 6\n",
    "    network = define_network(outputs, num_nodes, dropout_rate) \n",
    "    network.compile(optimizer=optimizer, loss='sparse_categorical_crossentropy', metrics=['acc']) # expecting 1 category as output, so use sparse_... as loss function\n",
    "    # compute class weights, as dataset is imbalanced\n",
    "    class_weights = class_weight.compute_class_weight('balanced', np.unique(y_train), y_train)\n",
    "    # fit network on training set, compute accuracy on validation set (from notebook 3)\n",
    "    history = network.fit(\n",
    "        x=X_train,\n",
    "        y=y_train,\n",
    "        class_weight=class_weights,\n",
    "        validation_data=(X_valid, y_valid), # using pre-processed validation data\n",
    "        batch_size=256, # using larger than default batch size for better estimate\n",
    "        epochs=1000, # combine many epochs with early stopping\n",
    "        callbacks=[early_stopping],\n",
    "        shuffle=False, # don't shuffle before each epoch, for repeatability\n",
    "        verbose=0,\n",
    "        workers=3 # multi-threading\n",
    "    )\n",
    "    return network, history\n",
    "\n",
    "def optimize_params(X_train, y_train, X_valid, y_valid):\n",
    "    \"\"\"\n",
    "    Tune the number of nodes in the hidden layer and the dropout rate of the network defined in define_network().\n",
    "    @params X_train, y_train, X_valid, y_valid numpy ndarrays\n",
    "    @return best_num_nodes int, best_rate float, accuracy Pandas DataFrame\n",
    "    \"\"\"\n",
    "    test_scores = []\n",
    "    for params_dict in grid:\n",
    "        network, history = fit_network(\n",
    "            params_dict['nw__num_nodes'], # keras API is not compatible with ParameterGrid, so read grid parameters by hand \n",
    "            params_dict ['nw__optimizer'],\n",
    "            params_dict['nw__dropout_rate'],\n",
    "            X_train, y_train, X_valid, y_valid)\n",
    "        params_dict['accuracy'] = history.history['val_acc'][-1] # the validation accuracy of the model, last epoch\n",
    "        test_scores.append(params_dict)\n",
    "\n",
    "    accuracy_df = pd.DataFrame(test_scores)\n",
    "    accuracy_df.sort_values(by='accuracy', ascending=False, inplace=True)\n",
    "    best_dropout_rate = accuracy_df.loc[accuracy_df['accuracy'].idxmax(), 'nw__dropout_rate']\n",
    "    best_num_nodes = accuracy_df.loc[accuracy_df['accuracy'].idxmax(), 'nw__num_nodes']\n",
    "    best_optimizer = accuracy_df.loc[accuracy_df['accuracy'].idxmax(), 'nw__optimizer']\n",
    "    return best_dropout_rate, best_num_nodes, best_optimizer, accuracy_df"
   ]
  },
  {
   "cell_type": "markdown",
   "id": "2c0aec7f",
   "metadata": {},
   "source": [
    "#### Optimizing parameters for elevation view"
   ]
  },
  {
   "cell_type": "code",
   "execution_count": 5,
   "id": "0c49e919",
   "metadata": {
    "jupyter": {
     "source_hidden": true
    }
   },
   "outputs": [
    {
     "name": "stdout",
     "output_type": "stream",
     "text": [
      "    accuracy  nw__dropout_rate  nw__num_nodes nw__optimizer\n",
      "2   0.713542              0.50            512           sgd\n",
      "18  0.713542              0.60            512           sgd\n",
      "26  0.713542              0.65            512           sgd\n",
      "10  0.713542              0.55            512           sgd\n",
      "11  0.703125              0.55            512          adam\n",
      "3   0.703125              0.50            512          adam\n",
      "27  0.703125              0.65            512          adam\n",
      "13  0.697917              0.55           1024          adam\n",
      "21  0.697917              0.60           1024          adam\n",
      "19  0.697917              0.60            512          adam \n",
      "\n",
      "Best parameters for elevation view: dropout rate 0.5, nodes in hidden layer 512, optimizer \"sgd\"\n",
      "\n"
     ]
    }
   ],
   "source": [
    "best_dropout_rate_elevation, best_num_nodes_elevation, best_optimizer_elevation, elevation_accuracy = optimize_params(elevation_features_train, labels_train, elevation_features_valid, labels_valid)\n",
    "print(elevation_accuracy.head(10), '\\n')\n",
    "print('Best parameters for elevation view: dropout rate {}, nodes in hidden layer {}, optimizer \"{}\"\\n'.format(best_dropout_rate_elevation, best_num_nodes_elevation, best_optimizer_elevation))"
   ]
  },
  {
   "cell_type": "markdown",
   "id": "977c2207",
   "metadata": {},
   "source": [
    "#### Optimizing parameters for plan view"
   ]
  },
  {
   "cell_type": "code",
   "execution_count": 6,
   "id": "a8bbe3fd",
   "metadata": {
    "jupyter": {
     "source_hidden": true
    }
   },
   "outputs": [
    {
     "name": "stdout",
     "output_type": "stream",
     "text": [
      "    accuracy  nw__dropout_rate  nw__num_nodes nw__optimizer\n",
      "26  0.682292              0.65            512           sgd\n",
      "2   0.682292              0.50            512           sgd\n",
      "18  0.682292              0.60            512           sgd\n",
      "10  0.682292              0.55            512           sgd\n",
      "25  0.677083              0.65            256          adam\n",
      "17  0.677083              0.60            256          adam\n",
      "1   0.677083              0.50            256          adam\n",
      "3   0.671875              0.50            512          adam\n",
      "27  0.671875              0.65            512          adam\n",
      "19  0.671875              0.60            512          adam \n",
      "\n",
      "Best parameters for plan view: dropout rate 0.65, nodes in hidden layer 512, optimizer \"sgd\"\n",
      "\n"
     ]
    }
   ],
   "source": [
    "best_dropout_rate_plan, best_num_nodes_plan, best_optimizer_plan, plan_accuracy = optimize_params(plan_features_train, labels_train, plan_features_valid, labels_valid)\n",
    "print(plan_accuracy.head(10), '\\n')\n",
    "print('Best parameters for plan view: dropout rate {}, nodes in hidden layer {}, optimizer \"{}\"\\n'.format(best_dropout_rate_plan, best_num_nodes_plan, best_optimizer_plan))"
   ]
  },
  {
   "cell_type": "markdown",
   "id": "2af11b6e",
   "metadata": {},
   "source": [
    "#### Optimizing parameters for section view"
   ]
  },
  {
   "cell_type": "code",
   "execution_count": 7,
   "id": "88f2f847",
   "metadata": {
    "jupyter": {
     "source_hidden": true
    }
   },
   "outputs": [
    {
     "name": "stdout",
     "output_type": "stream",
     "text": [
      "    accuracy  nw__dropout_rate  nw__num_nodes nw__optimizer\n",
      "11  0.750000              0.55            512          adam\n",
      "3   0.750000              0.50            512          adam\n",
      "27  0.750000              0.65            512          adam\n",
      "19  0.750000              0.60            512          adam\n",
      "5   0.744792              0.50           1024          adam\n",
      "21  0.744792              0.60           1024          adam\n",
      "29  0.744792              0.65           1024          adam\n",
      "13  0.744792              0.55           1024          adam\n",
      "9   0.729167              0.55            256          adam\n",
      "1   0.729167              0.50            256          adam \n",
      "\n",
      "Best parameters for section view: dropout rate 0.55, nodes in hidden layer 512, optimizer \"adam\"\n",
      "\n"
     ]
    }
   ],
   "source": [
    "best_dropout_rate_section, best_num_nodes_section, best_optimizer_section, section_accuracy = optimize_params(section_features_train, labels_train, section_features_valid, labels_valid)\n",
    "print(section_accuracy.head(10), '\\n')\n",
    "print('Best parameters for section view: dropout rate {}, nodes in hidden layer {}, optimizer \"{}\"\\n'.format(best_dropout_rate_section, best_num_nodes_section, best_optimizer_section))"
   ]
  },
  {
   "cell_type": "markdown",
   "id": "8fe7fdb5",
   "metadata": {},
   "source": [
    "#### Optimizing parameters for textures"
   ]
  },
  {
   "cell_type": "code",
   "execution_count": 8,
   "id": "0c953bb4",
   "metadata": {
    "jupyter": {
     "source_hidden": true
    }
   },
   "outputs": [
    {
     "name": "stdout",
     "output_type": "stream",
     "text": [
      "    accuracy  nw__dropout_rate  nw__num_nodes nw__optimizer\n",
      "3   0.807292              0.50            512          adam\n",
      "27  0.807292              0.65            512          adam\n",
      "19  0.807292              0.60            512          adam\n",
      "11  0.807292              0.55            512          adam\n",
      "14  0.802083              0.55           2048           sgd\n",
      "30  0.802083              0.65           2048           sgd\n",
      "6   0.802083              0.50           2048           sgd\n",
      "7   0.802083              0.50           2048          adam\n",
      "22  0.802083              0.60           2048           sgd\n",
      "15  0.802083              0.55           2048          adam \n",
      "\n",
      "Best parameters for textures: dropout rate 0.5, nodes in hidden layer 512, optimizer \"adam\"\n",
      "\n"
     ]
    }
   ],
   "source": [
    "best_dropout_rate_textures, best_num_nodes_textures, best_optimizer_textures, textures_accuracy = optimize_params(textures_train, labels_train, textures_valid, labels_valid)\n",
    "print(textures_accuracy.head(10), '\\n')\n",
    "print('Best parameters for textures: dropout rate {}, nodes in hidden layer {}, optimizer \"{}\"\\n'.format(best_dropout_rate_textures, best_num_nodes_textures, best_optimizer_textures))"
   ]
  },
  {
   "cell_type": "markdown",
   "id": "9aae04b8",
   "metadata": {},
   "source": [
    "### Define and fit each network\n",
    "For each 3D-view, define a network with the optimal number of nodes in the hidden layer as determined in the previous step, fit the network."
   ]
  },
  {
   "cell_type": "code",
   "execution_count": 9,
   "id": "4e67541a",
   "metadata": {},
   "outputs": [],
   "source": [
    "# define and fit a network for each 3D-view and textures\n",
    "elevation_network, elevation_history = fit_network(best_num_nodes_elevation, best_optimizer_elevation, best_dropout_rate_elevation, elevation_features_train, labels_train, elevation_features_valid, labels_valid)\n",
    "plan_network, plan_history = fit_network(best_num_nodes_plan, best_optimizer_plan, best_dropout_rate_plan, plan_features_train, labels_train, plan_features_valid, labels_valid)\n",
    "section_network, section_history = fit_network(best_num_nodes_section, best_optimizer_section, best_dropout_rate_section, section_features_train, labels_train, section_features_valid, labels_valid)\n",
    "textures_network, textures_history = fit_network(best_num_nodes_textures, best_optimizer_textures, best_dropout_rate_textures, textures_train, labels_train, textures_valid, labels_valid)"
   ]
  },
  {
   "cell_type": "markdown",
   "id": "1d51ce1d",
   "metadata": {},
   "source": [
    "### Examine the networks' accuracy and loss\n",
    "I plotted the accuracy and loss curves of each network (separately for each network) to determine if the network is overfitting. \n",
    "* __Accuracy__: The validation curves reach a plateau as the number of epochs increases, so the networks' accuracy is not increasing any more. \n",
    "* __Loss__: The validation curves don't show an increased loss as the number of epochs increases, so the models are not overfitting. "
   ]
  },
  {
   "cell_type": "code",
   "execution_count": 10,
   "id": "fb54d507",
   "metadata": {
    "jupyter": {
     "source_hidden": true
    }
   },
   "outputs": [
    {
     "data": {
      "image/png": "[encoded data removed]",
      "text/plain": [
       "<Figure size 1440x864 with 8 Axes>"
      ]
     },
     "metadata": {
      "needs_background": "light"
     },
     "output_type": "display_data"
    }
   ],
   "source": [
    "%matplotlib inline\n",
    "import matplotlib.pyplot as plt\n",
    "import numpy as np\n",
    "\n",
    "def plot_accuracy(ax, history, title):\n",
    "    ax.plot(history.history['acc'], label='train')\n",
    "    ax.plot(history.history['val_acc'], label='validation')\n",
    "    ax.set_xlabel('epoch')\n",
    "    ax.set_ylabel('accuracy')\n",
    "    ax.set_title(title)\n",
    "\n",
    "def plot_loss(ax, history, title):\n",
    "    ax.plot(history.history['loss'], label='train')\n",
    "    ax.plot(history.history['val_loss'], label='validation')\n",
    "    ax.set_xlabel('epoch')\n",
    "    ax.set_ylabel('accuracy')\n",
    "    ax.set_title(title)\n",
    "\n",
    "fig, ax = plt.subplots(2, 4, figsize=(20, 12))\n",
    "plot_accuracy(ax[0, 0], elevation_history, 'Elevation accuracy')\n",
    "plot_accuracy(ax[0, 1], plan_history, 'Plan accuracy')\n",
    "plot_accuracy(ax[0, 2], section_history, 'Section accuracy')\n",
    "plot_accuracy(ax[0, 3], textures_history, 'Textures accuracy')\n",
    "plot_loss(ax[1, 0], elevation_history, 'Elevation loss')\n",
    "plot_loss(ax[1, 1], plan_history, 'Plan loss')\n",
    "plot_loss(ax[1, 2], section_history, 'Section loss')\n",
    "plot_loss(ax[1, 3], textures_history, 'Textures loss')\n",
    "plt.legend(loc='upper right', bbox_to_anchor=(1.4, 1))\n",
    "plt.show();"
   ]
  },
  {
   "cell_type": "markdown",
   "id": "9b16a220",
   "metadata": {},
   "source": [
    "### Accuracy on the test set for each network"
   ]
  },
  {
   "cell_type": "code",
   "execution_count": 11,
   "id": "dd926349",
   "metadata": {
    "jupyter": {
     "source_hidden": true
    }
   },
   "outputs": [
    {
     "name": "stdout",
     "output_type": "stream",
     "text": [
      "The accuracy for the network trained on the elevation views on the test set is 0.81\n",
      "The accuracy for the network trained on the plan views on the test set is 0.68\n",
      "The accuracy for the network trained on the section views on the test set is 0.77\n",
      "The accuracy for the network trained on the textures on the test set is 0.83\n"
     ]
    }
   ],
   "source": [
    "elevation_score = elevation_network.evaluate(elevation_features_test, labels_test, verbose=0)[1]\n",
    "print('The accuracy for the network trained on the elevation views on the test set is {:.2f}'.format(elevation_score))\n",
    "plan_score = plan_network.evaluate(plan_features_test, labels_test, verbose=0)[1]\n",
    "print('The accuracy for the network trained on the plan views on the test set is {:.2f}'.format(plan_score))\n",
    "section_score = section_network.evaluate(section_features_test, labels_test, verbose=0)[1]\n",
    "print('The accuracy for the network trained on the section views on the test set is {:.2f}'.format(section_score))\n",
    "textures_score = textures_network.evaluate(textures_test, labels_test, verbose=0)[1]\n",
    "print('The accuracy for the network trained on the textures on the test set is {:.2f}'.format(textures_score))"
   ]
  },
  {
   "cell_type": "markdown",
   "id": "5e6201ca",
   "metadata": {},
   "source": [
    "## Combine results\n",
    "The results of the individual classifiers have to be combined into one final result for the ensemble. I tried out 2 methods to achieve this: k-NN and logistic regression.\n",
    "\n",
    "The output of the 3d-views and texture classifiers are numpy arrays of __probabilities__. Each array element contains the probabilities associated with an element in the data set. These probabilities are an array of 6 entries, one for each class.\n",
    "\n",
    "* The input of the final classifier is therefore an array of 24 elements\n",
    "* The output is an array of 6 elements, one for each class"
   ]
  },
  {
   "cell_type": "code",
   "execution_count": 12,
   "id": "90f45bd6",
   "metadata": {
    "jupyter": {
     "source_hidden": true
    }
   },
   "outputs": [],
   "source": [
    "# predictions for train set\n",
    "pred_elevation_train = elevation_network.predict(elevation_features_train)\n",
    "pred_plan_train = plan_network.predict(plan_features_train)\n",
    "pred_section_train = section_network.predict(section_features_train)\n",
    "pred_textures_train = textures_network.predict(textures_train)\n",
    "pred_train = [np.concatenate([pred_elevation_train[i], pred_plan_train[i], pred_section_train[i], pred_textures_train[i]]) for i,_ in enumerate(labels_train)]\n",
    "\n",
    "# predictions for validation set\n",
    "pred_elevation_valid = elevation_network.predict(elevation_features_valid)\n",
    "pred_plan_valid = plan_network.predict(plan_features_valid)\n",
    "pred_section_valid = section_network.predict(section_features_valid)\n",
    "pred_textures_valid = textures_network.predict(textures_valid)\n",
    "pred_valid = [np.concatenate([pred_elevation_valid[i], pred_plan_valid[i], pred_section_valid[i], pred_textures_valid[i]]) for i,_ in enumerate(labels_valid)]\n",
    "\n",
    "# predictions for test set\n",
    "pred_elevation_test = elevation_network.predict(elevation_features_test)\n",
    "pred_plan_test = plan_network.predict(plan_features_test)\n",
    "pred_section_test = section_network.predict(section_features_test)\n",
    "pred_textures_test = textures_network.predict(textures_test)\n",
    "pred_test = [np.concatenate([pred_elevation_test[i], pred_plan_test[i], pred_section_test[i], pred_textures_test[i]]) for i,_ in enumerate(labels_test)]\n"
   ]
  },
  {
   "cell_type": "markdown",
   "id": "1c83ca30",
   "metadata": {},
   "source": [
    "### Combine using k-NN\n",
    "\n",
    "I used grid search to tune the parameters for the k-NN final classifier. Several parameters can be tuned in the scikit-learn implementation of k-NN. According to the [documentation](https://scikit-learn.org/stable/modules/generated/sklearn.neighbors.KNeighborsClassifier.html), these are:\n",
    "* n_neighbors: the number of neighbors\n",
    "* algorithm: the algorithm used to compute the nearest neighbors\n",
    "* metric: the distance metric\n",
    "* p: only used when algorithm is 'minkowski'\n",
    "* weight: the weight of the neighbors according to the distance (not to be confused with class weight)\n",
    "\n",
    "The best parameter values found are:"
   ]
  },
  {
   "cell_type": "code",
   "execution_count": 13,
   "id": "0ac9a8dc",
   "metadata": {},
   "outputs": [
    {
     "data": {
      "text/html": [
       "<div>\n",
       "<style scoped>\n",
       "    .dataframe tbody tr th:only-of-type {\n",
       "        vertical-align: middle;\n",
       "    }\n",
       "\n",
       "    .dataframe tbody tr th {\n",
       "        vertical-align: top;\n",
       "    }\n",
       "\n",
       "    .dataframe thead th {\n",
       "        text-align: right;\n",
       "    }\n",
       "</style>\n",
       "<table border=\"1\" class=\"dataframe\">\n",
       "  <thead>\n",
       "    <tr style=\"text-align: right;\">\n",
       "      <th></th>\n",
       "      <th>algorithm</th>\n",
       "      <th>metric</th>\n",
       "      <th>n_neighbors</th>\n",
       "      <th>p</th>\n",
       "      <th>score</th>\n",
       "      <th>weights</th>\n",
       "    </tr>\n",
       "  </thead>\n",
       "  <tbody>\n",
       "    <tr>\n",
       "      <th>227</th>\n",
       "      <td>kd_tree</td>\n",
       "      <td>minkowski</td>\n",
       "      <td>8</td>\n",
       "      <td>1.0</td>\n",
       "      <td>0.90625</td>\n",
       "      <td>distance</td>\n",
       "    </tr>\n",
       "    <tr>\n",
       "      <th>33</th>\n",
       "      <td>ball_tree</td>\n",
       "      <td>manhattan</td>\n",
       "      <td>8</td>\n",
       "      <td>NaN</td>\n",
       "      <td>0.90625</td>\n",
       "      <td>distance</td>\n",
       "    </tr>\n",
       "    <tr>\n",
       "      <th>141</th>\n",
       "      <td>brute</td>\n",
       "      <td>manhattan</td>\n",
       "      <td>8</td>\n",
       "      <td>NaN</td>\n",
       "      <td>0.90625</td>\n",
       "      <td>distance</td>\n",
       "    </tr>\n",
       "    <tr>\n",
       "      <th>87</th>\n",
       "      <td>kd_tree</td>\n",
       "      <td>manhattan</td>\n",
       "      <td>8</td>\n",
       "      <td>NaN</td>\n",
       "      <td>0.90625</td>\n",
       "      <td>distance</td>\n",
       "    </tr>\n",
       "    <tr>\n",
       "      <th>263</th>\n",
       "      <td>brute</td>\n",
       "      <td>minkowski</td>\n",
       "      <td>8</td>\n",
       "      <td>1.0</td>\n",
       "      <td>0.90625</td>\n",
       "      <td>distance</td>\n",
       "    </tr>\n",
       "  </tbody>\n",
       "</table>\n",
       "</div>"
      ],
      "text/plain": [
       "     algorithm     metric  n_neighbors    p    score   weights\n",
       "227    kd_tree  minkowski            8  1.0  0.90625  distance\n",
       "33   ball_tree  manhattan            8  NaN  0.90625  distance\n",
       "141      brute  manhattan            8  NaN  0.90625  distance\n",
       "87     kd_tree  manhattan            8  NaN  0.90625  distance\n",
       "263      brute  minkowski            8  1.0  0.90625  distance"
      ]
     },
     "execution_count": 13,
     "metadata": {},
     "output_type": "execute_result"
    }
   ],
   "source": [
    "import pandas as pd\n",
    "from sklearn.model_selection import ParameterGrid\n",
    "from sklearn.neighbors import KNeighborsClassifier\n",
    "\n",
    "# create a grid of tunable parameters\n",
    "grid_knn = ParameterGrid([\n",
    "    {\n",
    "        'n_neighbors': range(1, 10),\n",
    "        'weights': ['uniform', 'distance'],\n",
    "        'algorithm': ['ball_tree', 'kd_tree', 'brute'],\n",
    "        'metric': ['euclidean', 'manhattan', 'chebyshev']\n",
    "    },\n",
    "    {\n",
    "        'n_neighbors': range(1, 10),\n",
    "        'weights': ['uniform', 'distance'],\n",
    "        'algorithm': ['ball_tree', 'kd_tree', 'brute'],\n",
    "        'p': [1, 2], # L1 or L2\n",
    "        'metric': ['minkowski']\n",
    "    }\n",
    "])\n",
    "\n",
    "gs_results_knn = []\n",
    "for params_dict in grid_knn:\n",
    "    knn = KNeighborsClassifier().set_params(**params_dict) # sklearn API can set parameters directly from grid object\n",
    "    knn.fit(pred_train, labels_train)\n",
    "    params_dict['score'] = knn.score(pred_valid, labels_valid)\n",
    "    gs_results_knn.append(params_dict)\n",
    "    \n",
    "gs_results_knn = pd.DataFrame(gs_results_knn)\n",
    "gs_results_knn.sort_values(by='score', ascending=False).head()"
   ]
  },
  {
   "cell_type": "markdown",
   "id": "3fc3e253",
   "metadata": {},
   "source": [
    "#### Accuracy on the test set of the complete ensemble using k-NN"
   ]
  },
  {
   "cell_type": "code",
   "execution_count": 14,
   "id": "ff3d762f",
   "metadata": {
    "jupyter": {
     "source_hidden": true
    }
   },
   "outputs": [
    {
     "name": "stdout",
     "output_type": "stream",
     "text": [
      "The score for the ensemble using k-NN: 0.88\n"
     ]
    }
   ],
   "source": [
    "best_params = grid_knn[gs_results_knn['score'].idxmax()]\n",
    "knn = KNeighborsClassifier().set_params(**best_params).fit(pred_train, labels_train)\n",
    "ensemble_score_knn = knn.score(pred_test, labels_test)\n",
    "print('The score for the ensemble using k-NN: {:.2f}'.format(ensemble_score_knn))"
   ]
  },
  {
   "cell_type": "markdown",
   "id": "3c1d09c3",
   "metadata": {},
   "source": [
    "### Combine using logistic regression\n",
    "Inputs and outputs are the same as for k-NN, [tunable parameters](https://scikit-learn.org/stable/modules/generated/sklearn.linear_model.LogisticRegression.html) are \n",
    "* the inverse regularization C\n",
    "* the solver algorithm. I did not use solvers saga and sag, as these were throwing too many convergence warnings\n",
    "* the penalty, depending on the algorithm used\n",
    "\n",
    "Max iterations is set to a high value, to avoid convergence warnings.\n",
    "\n",
    "The class weight is set to 'balanced', which should adjust weights according to the class frequencies in the input data.\n",
    "\n",
    "The best parameter values found are:"
   ]
  },
  {
   "cell_type": "code",
   "execution_count": 15,
   "id": "0bea01cc",
   "metadata": {
    "jupyter": {
     "source_hidden": true
    }
   },
   "outputs": [
    {
     "data": {
      "text/html": [
       "<div>\n",
       "<style scoped>\n",
       "    .dataframe tbody tr th:only-of-type {\n",
       "        vertical-align: middle;\n",
       "    }\n",
       "\n",
       "    .dataframe tbody tr th {\n",
       "        vertical-align: top;\n",
       "    }\n",
       "\n",
       "    .dataframe thead th {\n",
       "        text-align: right;\n",
       "    }\n",
       "</style>\n",
       "<table border=\"1\" class=\"dataframe\">\n",
       "  <thead>\n",
       "    <tr style=\"text-align: right;\">\n",
       "      <th></th>\n",
       "      <th>C</th>\n",
       "      <th>class_weight</th>\n",
       "      <th>max_iter</th>\n",
       "      <th>penalty</th>\n",
       "      <th>score</th>\n",
       "      <th>solver</th>\n",
       "    </tr>\n",
       "  </thead>\n",
       "  <tbody>\n",
       "    <tr>\n",
       "      <th>79</th>\n",
       "      <td>10.000000</td>\n",
       "      <td>balanced</td>\n",
       "      <td>2000</td>\n",
       "      <td>l2</td>\n",
       "      <td>0.895833</td>\n",
       "      <td>liblinear</td>\n",
       "    </tr>\n",
       "    <tr>\n",
       "      <th>77</th>\n",
       "      <td>7.847600</td>\n",
       "      <td>balanced</td>\n",
       "      <td>2000</td>\n",
       "      <td>l2</td>\n",
       "      <td>0.895833</td>\n",
       "      <td>liblinear</td>\n",
       "    </tr>\n",
       "    <tr>\n",
       "      <th>34</th>\n",
       "      <td>6.158482</td>\n",
       "      <td>balanced</td>\n",
       "      <td>2000</td>\n",
       "      <td>l2</td>\n",
       "      <td>0.895833</td>\n",
       "      <td>newton-cg</td>\n",
       "    </tr>\n",
       "    <tr>\n",
       "      <th>35</th>\n",
       "      <td>6.158482</td>\n",
       "      <td>balanced</td>\n",
       "      <td>2000</td>\n",
       "      <td>l2</td>\n",
       "      <td>0.895833</td>\n",
       "      <td>lbfgs</td>\n",
       "    </tr>\n",
       "    <tr>\n",
       "      <th>36</th>\n",
       "      <td>7.847600</td>\n",
       "      <td>balanced</td>\n",
       "      <td>2000</td>\n",
       "      <td>l2</td>\n",
       "      <td>0.895833</td>\n",
       "      <td>newton-cg</td>\n",
       "    </tr>\n",
       "  </tbody>\n",
       "</table>\n",
       "</div>"
      ],
      "text/plain": [
       "            C class_weight  max_iter penalty     score     solver\n",
       "79  10.000000     balanced      2000      l2  0.895833  liblinear\n",
       "77   7.847600     balanced      2000      l2  0.895833  liblinear\n",
       "34   6.158482     balanced      2000      l2  0.895833  newton-cg\n",
       "35   6.158482     balanced      2000      l2  0.895833      lbfgs\n",
       "36   7.847600     balanced      2000      l2  0.895833  newton-cg"
      ]
     },
     "execution_count": 15,
     "metadata": {},
     "output_type": "execute_result"
    }
   ],
   "source": [
    "from sklearn.linear_model import LogisticRegression\n",
    "\n",
    "# create a grid of tunable parameters\n",
    "grid_logreg = ParameterGrid([\n",
    "    {\n",
    "        'C': np.logspace(-1, 1, num=20), # inverse regularization\n",
    "        'solver': ['newton-cg', 'lbfgs'],\n",
    "        'penalty': ['l2'], # these solvers no l1\n",
    "        'max_iter': [2000], # avoid 'coefficient did not converge' warnings\n",
    "        'class_weight': ['balanced'] # adjust weights inversely proportional to class frequencies \n",
    "    },\n",
    "    {\n",
    "        'C': np.logspace(-1, 1, num=20), # inverse regularization\n",
    "        'solver': ['liblinear'],\n",
    "        'penalty': ['l1', 'l2'],\n",
    "        'max_iter': [2000], # avoid 'coefficient did not converge' warnings\n",
    "        'class_weight': ['balanced'] # adjust weights inversely proportional to class frequencies \n",
    "    },\n",
    "])\n",
    "\n",
    "gs_results_logreg = []\n",
    "for params_dict in grid_logreg:\n",
    "    logreg = LogisticRegression().set_params(**params_dict) # sklearn API can set parameters directly from grid object\n",
    "    logreg.fit(pred_train, labels_train)\n",
    "    params_dict['score'] = logreg.score(pred_valid, labels_valid)\n",
    "    gs_results_logreg.append(params_dict)\n",
    "    \n",
    "gs_results_logreg = pd.DataFrame(gs_results_logreg)\n",
    "gs_results_logreg.sort_values(by='score', ascending=False).head()\n"
   ]
  },
  {
   "cell_type": "markdown",
   "id": "0e64ebf2",
   "metadata": {},
   "source": [
    "#### Accuracy on the test set of the complete ensemble using logistic regression"
   ]
  },
  {
   "cell_type": "code",
   "execution_count": 16,
   "id": "b5358bc5",
   "metadata": {
    "jupyter": {
     "source_hidden": true
    }
   },
   "outputs": [
    {
     "name": "stdout",
     "output_type": "stream",
     "text": [
      "The score for the ensemble using logistic regression: 0.85\n"
     ]
    }
   ],
   "source": [
    "best_params = grid_logreg[gs_results_logreg['score'].idxmax()]\n",
    "logreg = LogisticRegression().set_params(**best_params).fit(pred_train, labels_train)\n",
    "ensemble_score_logreg = logreg.score(pred_test, labels_test)\n",
    "print('The score for the ensemble using logistic regression: {:.2f}'.format(ensemble_score_logreg))"
   ]
  },
  {
   "cell_type": "markdown",
   "id": "ccf2179f",
   "metadata": {},
   "source": [
    "## Score comparisons\n",
    "\n",
    "The scores of the individual classifiers were all above the most-common baseline. The scores of the ensemble, whether combined through k-NN or logistic regression, where higher than the scores of the individual classifiers. In the final notebook, I will analyze the predictions of the classifiers in this notebook in depth."
   ]
  },
  {
   "cell_type": "code",
   "execution_count": 17,
   "id": "6c5afc0e",
   "metadata": {
    "jupyter": {
     "source_hidden": true
    }
   },
   "outputs": [
    {
     "data": {
      "image/png": "[encoded data removed]",
      "text/plain": [
       "<Figure size 432x288 with 1 Axes>"
      ]
     },
     "metadata": {
      "needs_background": "light"
     },
     "output_type": "display_data"
    }
   ],
   "source": [
    "%matplotlib inline\n",
    "import matplotlib.pyplot as plt\n",
    "\n",
    "acc_df = pd.DataFrame({\n",
    "    'classifier': ['Baseline', 'Elevation only', 'Plan only', 'Section only', 'Textures only', 'Ensemble k-NN', 'Ensemble logreg'],\n",
    "    'accuracy': [baseline_score_test, elevation_score, plan_score, section_score, textures_score, ensemble_score_knn, ensemble_score_logreg]\n",
    "}).sort_values(by='accuracy')\n",
    "plt.barh(acc_df['classifier'], acc_df['accuracy'])\n",
    "plt.xlabel('Accuracy')\n",
    "plt.ylabel('')\n",
    "plt.title('Classification accuracy')\n",
    "plt.show();"
   ]
  },
  {
   "cell_type": "markdown",
   "id": "84cbc70d",
   "metadata": {},
   "source": [
    "Save the predictions (on the test set) for later analysis"
   ]
  },
  {
   "cell_type": "code",
   "execution_count": 18,
   "id": "fe4485a2",
   "metadata": {
    "jupyter": {
     "source_hidden": true
    }
   },
   "outputs": [],
   "source": [
    "# save predictions for test set\n",
    "pred_knn = knn.predict(pred_test)\n",
    "pred_logreg = logreg.predict(pred_test)\n",
    "\n",
    "np.savez_compressed(os.path.join('production', 'predictions.npz'),\n",
    "    pred_knn = pred_knn,\n",
    "    pred_logreg = pred_logreg\n",
    ")"
   ]
  }
 ],
 "metadata": {
  "kernelspec": {
   "display_name": "Python 3",
   "language": "python",
   "name": "python3"
  },
  "language_info": {
   "codemirror_mode": {
    "name": "ipython",
    "version": 3
   },
   "file_extension": ".py",
   "mimetype": "text/x-python",
   "name": "python",
   "nbconvert_exporter": "python",
   "pygments_lexer": "ipython3",
   "version": "3.6.13"
  }
 },
 "nbformat": 4,
 "nbformat_minor": 5
}
