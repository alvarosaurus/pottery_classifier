{
 "cells": [
  {
   "cell_type": "markdown",
   "id": "84b08bd2",
   "metadata": {},
   "source": [
    "# Evaluation\n",
    "\n",
    "In this notebook I evaluate the classification obtained from the ensemble in notebook 4 and draw final conclusions for the project. \n",
    "\n",
    "## Load predictions\n",
    "\n",
    "Load the labels for the test data, load the predictions for test data set computed in previous notebook:"
   ]
  },
  {
   "cell_type": "code",
   "execution_count": 3,
   "id": "4d298eb3",
   "metadata": {
    "jupyter": {
     "source_hidden": true
    }
   },
   "outputs": [],
   "source": [
    "import numpy as np\n",
    "import os\n",
    "from sklearn.preprocessing import LabelEncoder\n",
    "\n",
    "# load the labels for the test data\n",
    "with np.load(os.path.join('production', 'features_point_clouds_test.npz'), allow_pickle=True) as data:\n",
    "    data_dict = dict(data.items())\n",
    "    metadata_test = data_dict['metadata']\n",
    "# encode labels as ints\n",
    "encoder = LabelEncoder().fit(metadata_test[:, 3])\n",
    "labels_test = encoder.transform(metadata_test[:, 3])\n",
    "\n",
    "# load predictions for test set computed in previous notebook\n",
    "with np.load(os.path.join('production', 'predictions.npz'), allow_pickle=True) as data:\n",
    "    data_dict = dict(data.items())\n",
    "    pred_knn = data_dict['pred_knn']\n",
    "    pred_logreg = data_dict['pred_logreg']\n"
   ]
  },
  {
   "cell_type": "markdown",
   "id": "6b5df8f6",
   "metadata": {},
   "source": [
    "## Confusion matrices\n",
    "\n",
    "Looking a the confusion matrices for the k-NN and for the logistic regression classifiers, it appears that in both classifiers, Bronze age, Greek and Neolithic LBK artifacts where classified mostly correctly, however Roman artifacts where often confounded with Iron Age artifacts and Neolithic SBK with Neolithic LBK. \n",
    "\n",
    "As discussed in the overview notebook, Roman industry is a form of Iron Age industry, so this particular confusion was to be expected. \n",
    "\n",
    "Regarding Neolithic artifacts, these artifacts are mostly characterized by their exterior decorations: lines for LBK, strokes for SBK, hence the abbreviations (notebook 0, fig. 2). As the 3D-models for these two classes had not been provided with textures, this important information was lost, which could explain the low accuracy for these two classes."
   ]
  },
  {
   "cell_type": "markdown",
   "id": "5df63ad3",
   "metadata": {},
   "source": [
    "### Confusion matrix for k-NN"
   ]
  },
  {
   "cell_type": "code",
   "execution_count": 4,
   "id": "c5982965",
   "metadata": {
    "jupyter": {
     "source_hidden": true
    }
   },
   "outputs": [
    {
     "data": {
      "text/html": [
       "<div>\n",
       "<style scoped>\n",
       "    .dataframe tbody tr th:only-of-type {\n",
       "        vertical-align: middle;\n",
       "    }\n",
       "\n",
       "    .dataframe tbody tr th {\n",
       "        vertical-align: top;\n",
       "    }\n",
       "\n",
       "    .dataframe thead th {\n",
       "        text-align: right;\n",
       "    }\n",
       "</style>\n",
       "<table border=\"1\" class=\"dataframe\">\n",
       "  <thead>\n",
       "    <tr style=\"text-align: right;\">\n",
       "      <th>Predictions</th>\n",
       "      <th>Bronze Age</th>\n",
       "      <th>Greek</th>\n",
       "      <th>Iron Age</th>\n",
       "      <th>Neolithic Linear Pottery Culture (LBK)</th>\n",
       "      <th>Neolithic Stroked Pottery culture (SBK)</th>\n",
       "      <th>Roman</th>\n",
       "    </tr>\n",
       "    <tr>\n",
       "      <th>True class</th>\n",
       "      <th></th>\n",
       "      <th></th>\n",
       "      <th></th>\n",
       "      <th></th>\n",
       "      <th></th>\n",
       "      <th></th>\n",
       "    </tr>\n",
       "  </thead>\n",
       "  <tbody>\n",
       "    <tr>\n",
       "      <th>Bronze Age</th>\n",
       "      <td>33</td>\n",
       "      <td>0</td>\n",
       "      <td>0</td>\n",
       "      <td>1</td>\n",
       "      <td>0</td>\n",
       "      <td>0</td>\n",
       "    </tr>\n",
       "    <tr>\n",
       "      <th>Greek</th>\n",
       "      <td>0</td>\n",
       "      <td>7</td>\n",
       "      <td>1</td>\n",
       "      <td>0</td>\n",
       "      <td>0</td>\n",
       "      <td>0</td>\n",
       "    </tr>\n",
       "    <tr>\n",
       "      <th>Iron Age</th>\n",
       "      <td>2</td>\n",
       "      <td>0</td>\n",
       "      <td>10</td>\n",
       "      <td>0</td>\n",
       "      <td>0</td>\n",
       "      <td>0</td>\n",
       "    </tr>\n",
       "    <tr>\n",
       "      <th>Neolithic Linear Pottery Culture (LBK)</th>\n",
       "      <td>0</td>\n",
       "      <td>0</td>\n",
       "      <td>0</td>\n",
       "      <td>30</td>\n",
       "      <td>0</td>\n",
       "      <td>0</td>\n",
       "    </tr>\n",
       "    <tr>\n",
       "      <th>Neolithic Stroked Pottery culture (SBK)</th>\n",
       "      <td>1</td>\n",
       "      <td>0</td>\n",
       "      <td>0</td>\n",
       "      <td>3</td>\n",
       "      <td>4</td>\n",
       "      <td>0</td>\n",
       "    </tr>\n",
       "    <tr>\n",
       "      <th>Roman</th>\n",
       "      <td>0</td>\n",
       "      <td>1</td>\n",
       "      <td>3</td>\n",
       "      <td>0</td>\n",
       "      <td>0</td>\n",
       "      <td>3</td>\n",
       "    </tr>\n",
       "  </tbody>\n",
       "</table>\n",
       "</div>"
      ],
      "text/plain": [
       "Predictions                              Bronze Age  Greek  Iron Age  \\\n",
       "True class                                                             \n",
       "Bronze Age                                       33      0         0   \n",
       "Greek                                             0      7         1   \n",
       "Iron Age                                          2      0        10   \n",
       "Neolithic Linear Pottery Culture (LBK)            0      0         0   \n",
       "Neolithic Stroked Pottery culture (SBK)           1      0         0   \n",
       "Roman                                             0      1         3   \n",
       "\n",
       "Predictions                              Neolithic Linear Pottery Culture (LBK)  \\\n",
       "True class                                                                        \n",
       "Bronze Age                                                                    1   \n",
       "Greek                                                                         0   \n",
       "Iron Age                                                                      0   \n",
       "Neolithic Linear Pottery Culture (LBK)                                       30   \n",
       "Neolithic Stroked Pottery culture (SBK)                                       3   \n",
       "Roman                                                                         0   \n",
       "\n",
       "Predictions                              Neolithic Stroked Pottery culture (SBK)  \\\n",
       "True class                                                                         \n",
       "Bronze Age                                                                     0   \n",
       "Greek                                                                          0   \n",
       "Iron Age                                                                       0   \n",
       "Neolithic Linear Pottery Culture (LBK)                                         0   \n",
       "Neolithic Stroked Pottery culture (SBK)                                        4   \n",
       "Roman                                                                          0   \n",
       "\n",
       "Predictions                              Roman  \n",
       "True class                                      \n",
       "Bronze Age                                   0  \n",
       "Greek                                        0  \n",
       "Iron Age                                     0  \n",
       "Neolithic Linear Pottery Culture (LBK)       0  \n",
       "Neolithic Stroked Pottery culture (SBK)      0  \n",
       "Roman                                        3  "
      ]
     },
     "execution_count": 4,
     "metadata": {},
     "output_type": "execute_result"
    }
   ],
   "source": [
    "from sklearn.metrics import confusion_matrix\n",
    "import pandas as pd\n",
    "\n",
    "# Compute confusion matrix\n",
    "matrix = confusion_matrix(\n",
    "    y_true=labels_test, # array with true labels\n",
    "    y_pred=pred_knn # array with predicted labels\n",
    ")\n",
    "\n",
    "# Format as a DataFrame\n",
    "class_names = encoder.inverse_transform([0, 1, 2, 3, 4, 5])\n",
    "matrix_df = pd.DataFrame(data=matrix, columns=class_names, index=class_names)\n",
    "matrix_df.columns.name = 'Predictions'\n",
    "matrix_df.index.name = 'True class'\n",
    "matrix_df"
   ]
  },
  {
   "cell_type": "markdown",
   "id": "d33b586e",
   "metadata": {},
   "source": [
    "### Confusion matrix for logistic regression"
   ]
  },
  {
   "cell_type": "code",
   "execution_count": 6,
   "id": "c4359543",
   "metadata": {
    "jupyter": {
     "source_hidden": true
    }
   },
   "outputs": [
    {
     "data": {
      "text/html": [
       "<div>\n",
       "<style scoped>\n",
       "    .dataframe tbody tr th:only-of-type {\n",
       "        vertical-align: middle;\n",
       "    }\n",
       "\n",
       "    .dataframe tbody tr th {\n",
       "        vertical-align: top;\n",
       "    }\n",
       "\n",
       "    .dataframe thead th {\n",
       "        text-align: right;\n",
       "    }\n",
       "</style>\n",
       "<table border=\"1\" class=\"dataframe\">\n",
       "  <thead>\n",
       "    <tr style=\"text-align: right;\">\n",
       "      <th>Predictions</th>\n",
       "      <th>Bronze Age</th>\n",
       "      <th>Greek</th>\n",
       "      <th>Iron Age</th>\n",
       "      <th>Neolithic Linear Pottery Culture (LBK)</th>\n",
       "      <th>Neolithic Stroked Pottery culture (SBK)</th>\n",
       "      <th>Roman</th>\n",
       "    </tr>\n",
       "    <tr>\n",
       "      <th>True class</th>\n",
       "      <th></th>\n",
       "      <th></th>\n",
       "      <th></th>\n",
       "      <th></th>\n",
       "      <th></th>\n",
       "      <th></th>\n",
       "    </tr>\n",
       "  </thead>\n",
       "  <tbody>\n",
       "    <tr>\n",
       "      <th>Bronze Age</th>\n",
       "      <td>33</td>\n",
       "      <td>0</td>\n",
       "      <td>0</td>\n",
       "      <td>1</td>\n",
       "      <td>0</td>\n",
       "      <td>0</td>\n",
       "    </tr>\n",
       "    <tr>\n",
       "      <th>Greek</th>\n",
       "      <td>0</td>\n",
       "      <td>7</td>\n",
       "      <td>1</td>\n",
       "      <td>0</td>\n",
       "      <td>0</td>\n",
       "      <td>0</td>\n",
       "    </tr>\n",
       "    <tr>\n",
       "      <th>Iron Age</th>\n",
       "      <td>2</td>\n",
       "      <td>0</td>\n",
       "      <td>9</td>\n",
       "      <td>0</td>\n",
       "      <td>0</td>\n",
       "      <td>1</td>\n",
       "    </tr>\n",
       "    <tr>\n",
       "      <th>Neolithic Linear Pottery Culture (LBK)</th>\n",
       "      <td>0</td>\n",
       "      <td>0</td>\n",
       "      <td>0</td>\n",
       "      <td>29</td>\n",
       "      <td>1</td>\n",
       "      <td>0</td>\n",
       "    </tr>\n",
       "    <tr>\n",
       "      <th>Neolithic Stroked Pottery culture (SBK)</th>\n",
       "      <td>1</td>\n",
       "      <td>0</td>\n",
       "      <td>0</td>\n",
       "      <td>4</td>\n",
       "      <td>3</td>\n",
       "      <td>0</td>\n",
       "    </tr>\n",
       "    <tr>\n",
       "      <th>Roman</th>\n",
       "      <td>0</td>\n",
       "      <td>1</td>\n",
       "      <td>3</td>\n",
       "      <td>0</td>\n",
       "      <td>0</td>\n",
       "      <td>3</td>\n",
       "    </tr>\n",
       "  </tbody>\n",
       "</table>\n",
       "</div>"
      ],
      "text/plain": [
       "Predictions                              Bronze Age  Greek  Iron Age  \\\n",
       "True class                                                             \n",
       "Bronze Age                                       33      0         0   \n",
       "Greek                                             0      7         1   \n",
       "Iron Age                                          2      0         9   \n",
       "Neolithic Linear Pottery Culture (LBK)            0      0         0   \n",
       "Neolithic Stroked Pottery culture (SBK)           1      0         0   \n",
       "Roman                                             0      1         3   \n",
       "\n",
       "Predictions                              Neolithic Linear Pottery Culture (LBK)  \\\n",
       "True class                                                                        \n",
       "Bronze Age                                                                    1   \n",
       "Greek                                                                         0   \n",
       "Iron Age                                                                      0   \n",
       "Neolithic Linear Pottery Culture (LBK)                                       29   \n",
       "Neolithic Stroked Pottery culture (SBK)                                       4   \n",
       "Roman                                                                         0   \n",
       "\n",
       "Predictions                              Neolithic Stroked Pottery culture (SBK)  \\\n",
       "True class                                                                         \n",
       "Bronze Age                                                                     0   \n",
       "Greek                                                                          0   \n",
       "Iron Age                                                                       0   \n",
       "Neolithic Linear Pottery Culture (LBK)                                         1   \n",
       "Neolithic Stroked Pottery culture (SBK)                                        3   \n",
       "Roman                                                                          0   \n",
       "\n",
       "Predictions                              Roman  \n",
       "True class                                      \n",
       "Bronze Age                                   0  \n",
       "Greek                                        0  \n",
       "Iron Age                                     1  \n",
       "Neolithic Linear Pottery Culture (LBK)       0  \n",
       "Neolithic Stroked Pottery culture (SBK)      0  \n",
       "Roman                                        3  "
      ]
     },
     "execution_count": 6,
     "metadata": {},
     "output_type": "execute_result"
    }
   ],
   "source": [
    "# Compute confusion matrix\n",
    "matrix = confusion_matrix(\n",
    "    y_true=labels_test, # array with true labels\n",
    "    y_pred=pred_logreg # array with predicted labels\n",
    ")\n",
    "\n",
    "# Format as a DataFrame\n",
    "class_names = encoder.inverse_transform([0, 1, 2, 3, 4, 5])\n",
    "matrix_df = pd.DataFrame(data=matrix, columns=class_names, index=class_names)\n",
    "matrix_df.columns.name = 'Predictions'\n",
    "matrix_df.index.name = 'True class'\n",
    "matrix_df"
   ]
  },
  {
   "cell_type": "markdown",
   "id": "3e968f42",
   "metadata": {},
   "source": [
    "## Classification reports\n",
    "In the previous notebook, I used only the accuracy and the loss measures to determine the best classification. However, scikit learn offers alternative measures and methods that could give a more realistic evaluation of the classifier's performance.\n",
    "\n",
    "(From [scikit documentation](https://scikit-learn.org/0.20/modules/model_evaluation.html#model-evaluation) and [Datacourses](https://www.datacourses.com/classification-model-evaluation-metrics-in-scikit-learn-924/))\n",
    "\n",
    "**Accuracy**: The ratio of correct vs. all predictions, as used in the previous notebook, is not a particularly good measure when the data set is imbalanced. \n",
    "\n",
    "**Recall**: The ratio of correct positives vs. all positives. Especially interesting when a false negative results in a higher cost than a false positive, which is not the case for a simple image classifier like this one.\n",
    "\n",
    "**Precision**: The ratio of correct positives vs. all positive predictions. Interesting when a false positive results in a higher cost than a false negative. In a way the opposite use case than for the recall measure.\n",
    "\n",
    "**F-score**: The harmonic mean (the average rate) of recall and precision. Useful when a false negative and a false positives have equivalent and low impact, as is the case for a simple image classifier. Therefore a good measure for the present use case.\n",
    "\n"
   ]
  },
  {
   "cell_type": "markdown",
   "id": "27e10f6b",
   "metadata": {},
   "source": [
    "### Report for k-NN\n",
    "\n",
    "Based on the F-score, the the k-NN classifier performed the least well for the Neolithic SBK (class 4) and Roman (class 5) artifacts. The highest precision was achieved by these two classes as well, and so was the lowest recall.\n",
    "\n",
    "Based on the F-score, the most accurate predictions where achieved for the Bronze Age (class 0) and Neolithic LBK (class 3), which are also the classes with the most artifacts."
   ]
  },
  {
   "cell_type": "code",
   "execution_count": 5,
   "id": "cc9836f2",
   "metadata": {
    "jupyter": {
     "source_hidden": true
    }
   },
   "outputs": [
    {
     "name": "stdout",
     "output_type": "stream",
     "text": [
      "              precision    recall  f1-score   support\n",
      "\n",
      "           0       0.92      0.97      0.94        34\n",
      "           1       0.88      0.88      0.88         8\n",
      "           2       0.71      0.83      0.77        12\n",
      "           3       0.88      1.00      0.94        30\n",
      "           4       1.00      0.50      0.67         8\n",
      "           5       1.00      0.43      0.60         7\n",
      "\n",
      "   micro avg       0.88      0.88      0.88        99\n",
      "   macro avg       0.90      0.77      0.80        99\n",
      "weighted avg       0.89      0.88      0.87        99\n",
      "\n"
     ]
    }
   ],
   "source": [
    "from sklearn.metrics import classification_report\n",
    "print(classification_report(labels_test, pred_knn))"
   ]
  },
  {
   "cell_type": "markdown",
   "id": "4db15a8b",
   "metadata": {},
   "source": [
    "### Report for logistic regression\n",
    "As for the k-NN classifier, the logistic regression classifier performed the least well for Neolithic SBK (class 4) and Roman (class 5) artifacts, however it performed even worse. \n",
    "\n",
    "As for the k-NN classifier, the most accurate predictions where achieved for the Bronze Age (class 0) and Neolithic LBK (class 3), however the score is lower for Neolithic LBK."
   ]
  },
  {
   "cell_type": "code",
   "execution_count": 7,
   "id": "289b5337",
   "metadata": {
    "jupyter": {
     "source_hidden": true
    }
   },
   "outputs": [
    {
     "name": "stdout",
     "output_type": "stream",
     "text": [
      "              precision    recall  f1-score   support\n",
      "\n",
      "           0       0.92      0.97      0.94        34\n",
      "           1       0.88      0.88      0.88         8\n",
      "           2       0.69      0.75      0.72        12\n",
      "           3       0.85      0.97      0.91        30\n",
      "           4       0.75      0.38      0.50         8\n",
      "           5       0.75      0.43      0.55         7\n",
      "\n",
      "   micro avg       0.85      0.85      0.85        99\n",
      "   macro avg       0.81      0.73      0.75        99\n",
      "weighted avg       0.84      0.85      0.84        99\n",
      "\n"
     ]
    }
   ],
   "source": [
    "print(classification_report(labels_test, pred_logreg))"
   ]
  },
  {
   "cell_type": "markdown",
   "id": "7f53b4c4",
   "metadata": {},
   "source": [
    "# Conclusions\n",
    "\n",
    "**Downloading data**: suitable data sets for researching this problem are rather scarce. Sketchfab proved to be a useful resource. Downloading the data set took much longer than expected, due to bandwidth limitations of the API. This particular data set has 21 GB of data.\n",
    "\n",
    "**Data processing**: The data could be downloaded and processed using Python libraries, specifically the Graphics Language Transmission Format (glTF) library pygltf, the imaging library PIL and the scipy.spatial library for spatial transformations. Handling this imbalanced data set was done by stratifying the data set splits using scikit learn.\n",
    "\n",
    "**Extracting features**: High-level features could be extracted by applying transfer learning from the Inception V2 model. This model proved capable of extracting useful features from this particular data set, although it has been trained on completely different images. As entire classes had missing texture images, I handled missing data using the imputer object provided by scikit learn. \n",
    "\n",
    "**Classification**: If the F-score can be considered the most reliable metric for this particular use case, then the final scores are:\n",
    "\n",
    "* __0.87__ weighted average F-score for the k-NN classifier ensemble\n",
    "* 0.84 weighted average F-score for the logistic regression classifier ensemble\n",
    "\n",
    "The original research question was whether ML can help in the process of mass-digitization by automatically tagging scanned artifacts. This is possible, however this particular setup put 13% of the artifacts in the wrong class. Improving this score would be necessary in a production environment. Some suggestions:\n",
    "* around 1000 3D-models do not seem to be enough for supervised learning\n",
    "* while point clouds with tens of thousands points have enough resolution, missing textures certainly are a problem. Therefore 3D-scans should have a texture if the scanning process allows for it\n",
    "* newer versions of scikit learn probably offer better imputer objects for missing data\n",
    "* More powerful hardware (or running Keras on the GPU) would allow to run cross validation on top of grid search, which would perhaps optimize the parameters more accurately\n",
    "* Changing the training strategy to training the whole setup in one go instead of each classifier in parallel could potentially improve the results, but would most certainly also require more powerful hardware\n",
    "\n",
    "Sketchfab also has several other data sets (animal skulls, prehistoric stone tools) which could be used to deepen the understanding of this particular research question."
   ]
  },
  {
   "cell_type": "code",
   "execution_count": null,
   "id": "4421debc",
   "metadata": {
    "jupyter": {
     "source_hidden": true
    }
   },
   "outputs": [],
   "source": []
  }
 ],
 "metadata": {
  "kernelspec": {
   "display_name": "Python 3",
   "language": "python",
   "name": "python3"
  },
  "language_info": {
   "codemirror_mode": {
    "name": "ipython",
    "version": 3
   },
   "file_extension": ".py",
   "mimetype": "text/x-python",
   "name": "python",
   "nbconvert_exporter": "python",
   "pygments_lexer": "ipython3",
   "version": "3.6.13"
  }
 },
 "nbformat": 4,
 "nbformat_minor": 5
}
