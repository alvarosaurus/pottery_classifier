{
 "cells": [
  {
   "cell_type": "markdown",
   "id": "eef337f9",
   "metadata": {},
   "source": [
    "# Dense networks for 3D images\n",
    "Each object is represented by 3 views (elevation, plan, section) and a texture image. However, not all objects have a texture image. Therefore, __in this notebook__ I will train and evaluate an ensemble of 3 classifiers (fig. 1), one for each 3D-view, using all the data (split in train, validate and test datasets). In the __next__ notebook, I will add a texture classifier and re-train the ensemble using only the objects for which a texture was provided.\n",
    "\n",
    "<img src=\"fig/ML_3D_only.png\">\n",
    "\n",
    "_Figure 1: Overview of the classifier ensemble using only 3D views._\n"
   ]
  },
  {
   "cell_type": "markdown",
   "id": "1297d311",
   "metadata": {},
   "source": [
    "## Load feature data\n",
    "Load the feature data extracted from the 3D-views in notebook 3."
   ]
  },
  {
   "cell_type": "code",
   "execution_count": 3,
   "id": "de841547",
   "metadata": {
    "jupyter": {
     "source_hidden": true
    }
   },
   "outputs": [],
   "source": [
    "import numpy as np\n",
    "import os\n",
    "from sklearn.preprocessing import LabelEncoder\n",
    "\n",
    "PROD_DIR = 'production' # interim production files\n",
    "\n",
    "# Reload extracted features from train dataset\n",
    "with np.load(os.path.join(PROD_DIR, 'features_point_clouds_train.npz'), allow_pickle=True) as data:\n",
    "    data_dict = dict(data.items())\n",
    "    metadata_train = data_dict['metadata']\n",
    "    elevation_features_train = data_dict['elevation_features']\n",
    "    plan_features_train = data_dict['plan_features']\n",
    "    section_features_train = data_dict['section_features']\n",
    "\n",
    "# encode labels as ints\n",
    "labels_train = LabelEncoder().fit_transform(metadata_train[:, 3]) # 'period' is the 3rd column\n",
    "    \n",
    "# Reload extracted features from validate dataset\n",
    "with np.load(os.path.join(PROD_DIR, 'features_point_clouds_validate.npz'), allow_pickle=True) as data:\n",
    "    data_dict = dict(data.items())\n",
    "    metadata_valid = data_dict['metadata']\n",
    "    elevation_features_valid = data_dict['elevation_features']\n",
    "    plan_features_valid = data_dict['plan_features']\n",
    "    section_features_valid = data_dict['section_features']\n",
    "\n",
    "# encode labels as ints\n",
    "labels_valid = LabelEncoder().fit_transform(metadata_valid[:, 3]) # 'period' is the 3rd column\n",
    "\n",
    "# Reload extracted features from test dataset\n",
    "with np.load(os.path.join(PROD_DIR, 'features_point_clouds_test.npz'), allow_pickle=True) as data:\n",
    "    data_dict = dict(data.items())\n",
    "    metadata_test = data_dict['metadata']\n",
    "    elevation_features_test = data_dict['elevation_features']\n",
    "    plan_features_test = data_dict['plan_features']\n",
    "    section_features_test = data_dict['section_features']\n",
    "\n",
    "# encode labels as ints\n",
    "labels_test = LabelEncoder().fit_transform(metadata_test[:, 3]) # 'period' is the 3rd column\n"
   ]
  },
  {
   "cell_type": "markdown",
   "id": "0dba9374",
   "metadata": {},
   "source": [
    "## Baseline\n",
    "Compute the \"most frequent\" baseline based on validation and the test datasets (as the distribution is the same, these are equal)."
   ]
  },
  {
   "cell_type": "code",
   "execution_count": 4,
   "id": "143f7322",
   "metadata": {
    "jupyter": {
     "source_hidden": true
    }
   },
   "outputs": [
    {
     "name": "stdout",
     "output_type": "stream",
     "text": [
      "The accuracy of the most frequent baseline for the validation dataset is 0.34, for the test dataset 0.34.\n"
     ]
    }
   ],
   "source": [
    "from sklearn.dummy import DummyClassifier\n",
    "\n",
    "dummy = DummyClassifier(strategy='most_frequent')\n",
    "dummy.fit(elevation_features_train, labels_train)\n",
    "baseline_score_valid = dummy.score(elevation_features_valid, labels_valid)\n",
    "baseline_score_test = dummy.score(elevation_features_test, labels_test)\n",
    "print('The accuracy of the most frequent baseline for the validation dataset is {:.2f}, for the test dataset {:.2f}.'.format(baseline_score_valid, baseline_score_test))"
   ]
  },
  {
   "cell_type": "markdown",
   "id": "e749dbe0",
   "metadata": {},
   "source": [
    "## Define dense networks\n",
    "\n",
    "For each of the 3D-views, I implemented a dense network with multiple layers:\n",
    "\n",
    "* The input data for the network are 2048 high-level features extracted from each of the 3d-views in the previous notebook.\n",
    "* The data is not linearly separable (notebook 3), therefore this network needs a hidden layer. Chosing the number of nodes in the hidden layer is a problem for which [some heristics](http://www.faqs.org/faqs/ai-faq/neural-nets/part3/section-10.html) exist, but no definitive answer. \n",
    "* I added a dropout layer with a dropout rate of 0.5, to prevent overfitting.\n",
    "* The images are in 6 classes ('Bronze Age', 'Iron Age', etc.), therefore the network requires 6 outputs.\n",
    "\n",
    "I chose to implement the network using Keras."
   ]
  },
  {
   "cell_type": "code",
   "execution_count": 11,
   "id": "e8bf8167",
   "metadata": {
    "jupyter": {
     "source_hidden": true
    }
   },
   "outputs": [],
   "source": [
    "import warnings\n",
    "warnings.simplefilter(action='ignore', category=FutureWarning)\n",
    "import tensorflow as tf\n",
    "import tensorflow.keras as keras\n",
    "from tensorflow.keras import Sequential\n",
    "from tensorflow.keras.layers import Dense\n",
    "from tensorflow.keras import activations\n",
    "from tensorflow.keras import initializers\n",
    "\n",
    "def define_network(outputs, hidden_nodes, rate):\n",
    "    \"\"\"\n",
    "    Defines a multi-layer dense network with a hidden and a dropout layer.\n",
    "    @param out_nodes: int, number of outputs\n",
    "    @param hidden_nodes: int, number of nodes in the hidden layer\n",
    "    @param rate: float, rate of the dropout layer\n",
    "    \"\"\"\n",
    "    network = Sequential()\n",
    "    # hidden layer\n",
    "    network.add(\n",
    "        Dense(\n",
    "            hidden_nodes, \n",
    "            activation='relu', \n",
    "            kernel_initializer=initializers.VarianceScaling(scale=2.0, seed=0)\n",
    "        )\n",
    "    )\n",
    "    # dropout layer\n",
    "    network.add(\n",
    "        keras.layers.Dropout(rate, seed=0)\n",
    "    )\n",
    "    # output layer\n",
    "    network.add(\n",
    "        Dense(\n",
    "            outputs, # number of image classes\n",
    "            activation='softmax', # 'softmax' since output layer for classification network\n",
    "            kernel_initializer=initializers.VarianceScaling(scale=1.0, seed=0)\n",
    "        )\n",
    "    )\n",
    "    return network"
   ]
  },
  {
   "cell_type": "markdown",
   "id": "9d3dd56c",
   "metadata": {},
   "source": [
    "### Grid search\n",
    "The networks for each 3D-view are trained independently from each other. I used grid search to tune the number of nodes in the hidden layer of each network. I applied class weighting to compensate for imbalanced data."
   ]
  },
  {
   "cell_type": "code",
   "execution_count": 12,
   "id": "56d34231",
   "metadata": {},
   "outputs": [],
   "source": [
    "import pandas as pd\n",
    "from sklearn.model_selection import ParameterGrid\n",
    "from sklearn.utils import class_weight\n",
    "\n",
    "# create a grid of tunable parameters\n",
    "# the same grid is used for all networks\n",
    "grid = ParameterGrid({\n",
    "    'nw__num_nodes': [2**i for i in range(6, 12)], # between 64 and 2048\n",
    "    'nw__dropout_rate': [0.5] #  actually, the dropout rate doesn't change the result in this case\n",
    "})\n",
    "\n",
    "# callback for early stopping\n",
    "early_stopping = keras.callbacks.EarlyStopping(monitor='val_loss', patience=6)\n",
    "\n",
    "def fit_network(num_nodes, dropout_rate, X_train, y_train, X_valid, y_valid):\n",
    "    \"\"\"\n",
    "    Fit a network as defined in define_network().\n",
    "    @param best_num_nodes int, number of nodes in the hidden layer\n",
    "    @params X_train, y_train, X_valid, y_valid numpy ndarrays\n",
    "    @return fitted tensorflow network ('Sequential' object), tensorflow fit history ('History' object)\n",
    "    \"\"\"\n",
    "    # define and compile the model with best number of nodes and rate\n",
    "    outputs = 6\n",
    "    network = define_network(outputs, num_nodes, dropout_rate) \n",
    "    network.compile(optimizer='sgd', loss='sparse_categorical_crossentropy', metrics=['acc']) # using defaults\n",
    "    # compute class weights, as dataset is imbalanced\n",
    "    class_weights = class_weight.compute_class_weight('balanced', np.unique(y_train), y_train)\n",
    "    # fit network on training set, compute accuracy on validation set (from notebook 3)\n",
    "    history = network.fit(\n",
    "        x=X_train,\n",
    "        y=y_train,\n",
    "        class_weight=class_weights,\n",
    "        validation_data=(X_valid, y_valid), # do not use split, feed validation data directly\n",
    "        batch_size=256, # using a batch size larger than the default\n",
    "        epochs=1000, # combine many epochs with early stopping\n",
    "        callbacks=[early_stopping],\n",
    "        shuffle=True,\n",
    "        verbose=0\n",
    "    )\n",
    "    return network, history\n",
    "\n",
    "def optimize_params(X_train, y_train, X_valid, y_valid):\n",
    "    \"\"\"\n",
    "    Optimize the number of nodes in the hidden layer and the dropout rate of the network defined in define_network().\n",
    "    @params X_train, y_train, X_valid, y_valid numpy ndarrays\n",
    "    @return best_num_nodes int, best_rate float, accuracy Pandas DataFrame\n",
    "    \"\"\"\n",
    "    test_scores = []\n",
    "    for params_dict in grid:\n",
    "        network, history = fit_network(\n",
    "            params_dict['nw__num_nodes'], # keras API is not compatible with ParameterGrid, so read grid parameters by hand \n",
    "            params_dict['nw__dropout_rate'], # same as above \n",
    "            X_train, y_train, X_valid, y_valid)\n",
    "        params_dict['accuracy'] = history.history['val_acc'][-1] # the validation accuracy of the model, last epoch\n",
    "        test_scores.append(params_dict)\n",
    "\n",
    "    accuracy_df = pd.DataFrame(test_scores)\n",
    "    accuracy_df.sort_values(by='accuracy', ascending=False, inplace=True)\n",
    "    best_num_nodes = accuracy_df.loc[accuracy_df['accuracy'].idxmax(), 'nw__num_nodes']\n",
    "    best_rate = accuracy_df.loc[accuracy_df['accuracy'].idxmax(), 'nw__dropout_rate']\n",
    "    return best_num_nodes, best_rate, accuracy_df"
   ]
  },
  {
   "cell_type": "markdown",
   "id": "cc49132d",
   "metadata": {},
   "source": [
    "#### Optimizing number of nodes in hidden layer for elevation view"
   ]
  },
  {
   "cell_type": "code",
   "execution_count": 13,
   "id": "09324a00",
   "metadata": {
    "jupyter": {
     "source_hidden": true
    }
   },
   "outputs": [
    {
     "name": "stdout",
     "output_type": "stream",
     "text": [
      "   accuracy  nw__dropout_rate  nw__num_nodes\n",
      "2  0.703125               0.5            256\n",
      "4  0.703125               0.5           1024\n",
      "5  0.703125               0.5           2048\n",
      "3  0.692708               0.5            512\n",
      "0  0.682292               0.5             64\n",
      "1  0.666667               0.5            128 \n",
      "\n",
      "Best parameters for elevation view, nodes in hidden layer 256, dropout rate 0.5\n",
      "\n"
     ]
    }
   ],
   "source": [
    "best_num_nodes_elevation, best_rate_elevation, elevation_accuracy = optimize_params(elevation_features_train, labels_train, elevation_features_valid, labels_valid)\n",
    "print(elevation_accuracy.head(10), '\\n')\n",
    "print('Best parameters for elevation view, nodes in hidden layer {}, dropout rate {}\\n'.format(best_num_nodes_elevation, best_rate_elevation))"
   ]
  },
  {
   "cell_type": "markdown",
   "id": "c17dc92b",
   "metadata": {},
   "source": [
    "#### Optimizing number of nodes in hidden layer for plan view"
   ]
  },
  {
   "cell_type": "code",
   "execution_count": 14,
   "id": "af8efd2f",
   "metadata": {
    "jupyter": {
     "source_hidden": true
    }
   },
   "outputs": [
    {
     "name": "stdout",
     "output_type": "stream",
     "text": [
      "   accuracy  nw__dropout_rate  nw__num_nodes\n",
      "0  0.692708               0.5             64\n",
      "2  0.682292               0.5            256\n",
      "4  0.666667               0.5           1024\n",
      "1  0.656250               0.5            128\n",
      "3  0.651042               0.5            512\n",
      "5  0.645833               0.5           2048 \n",
      "\n",
      "Best parameters for plan view, nodes in hidden layer 64, dropout rate 0.5\n",
      "\n"
     ]
    }
   ],
   "source": [
    "best_num_nodes_plan, best_rate_plan, plan_accuracy = optimize_params(plan_features_train, labels_train, plan_features_valid, labels_valid)\n",
    "print(plan_accuracy.head(10), '\\n')\n",
    "print('Best parameters for plan view, nodes in hidden layer {}, dropout rate {}\\n'.format(best_num_nodes_plan, best_rate_plan))"
   ]
  },
  {
   "cell_type": "markdown",
   "id": "89533129",
   "metadata": {},
   "source": [
    "#### Optimizing number of nodes in hidden layer for section view"
   ]
  },
  {
   "cell_type": "code",
   "execution_count": 15,
   "id": "66e143f7",
   "metadata": {
    "jupyter": {
     "source_hidden": true
    }
   },
   "outputs": [
    {
     "name": "stdout",
     "output_type": "stream",
     "text": [
      "   accuracy  nw__dropout_rate  nw__num_nodes\n",
      "0  0.718750               0.5             64\n",
      "2  0.708333               0.5            256\n",
      "5  0.708333               0.5           2048\n",
      "1  0.703125               0.5            128\n",
      "4  0.703125               0.5           1024\n",
      "3  0.692708               0.5            512 \n",
      "\n",
      "Best parameters for section view, nodes in hidden layer 64, dropout rate 0.5\n",
      "\n"
     ]
    }
   ],
   "source": [
    "best_num_nodes_section, best_rate_section, section_accuracy = optimize_params(section_features_train, labels_train, section_features_valid, labels_valid)\n",
    "print(section_accuracy.head(10), '\\n')\n",
    "print('Best parameters for section view, nodes in hidden layer {}, dropout rate {}\\n'.format(best_num_nodes_section, best_rate_section))"
   ]
  },
  {
   "cell_type": "markdown",
   "id": "30387c8d",
   "metadata": {},
   "source": [
    "### Define and fit each network\n",
    "For each 3D-view, define a network with the optimal number of nodes in the hidden layer as determined in the previous step, fit the network."
   ]
  },
  {
   "cell_type": "code",
   "execution_count": 16,
   "id": "d2ea8db4",
   "metadata": {
    "jupyter": {
     "source_hidden": true
    }
   },
   "outputs": [],
   "source": [
    "# define and fit a network for each 3D-view\n",
    "elevation_network, elevation_history = fit_network(best_num_nodes_elevation, best_rate_elevation, elevation_features_train, labels_train, elevation_features_valid, labels_valid)\n",
    "plan_network, plan_history = fit_network(best_num_nodes_plan, best_rate_plan, plan_features_train, labels_train, plan_features_valid, labels_valid)\n",
    "section_network, section_history = fit_network(best_num_nodes_section, best_rate_section, section_features_train, labels_train, section_features_valid, labels_valid)"
   ]
  },
  {
   "cell_type": "markdown",
   "id": "5b6e8f2b",
   "metadata": {},
   "source": [
    "### Plot the networks' accuracy\n",
    "Plot the accuracy of each network separately."
   ]
  },
  {
   "cell_type": "code",
   "execution_count": 17,
   "id": "e3a7c724",
   "metadata": {
    "jupyter": {
     "source_hidden": true
    }
   },
   "outputs": [
    {
     "data": {
      "image/png": "[encoded data removed]",
      "text/plain": [
       "<Figure size 1440x360 with 3 Axes>"
      ]
     },
     "metadata": {
      "needs_background": "light"
     },
     "output_type": "display_data"
    }
   ],
   "source": [
    "%matplotlib inline\n",
    "import matplotlib.pyplot as plt\n",
    "import numpy as np\n",
    "\n",
    "def plot_accuracy(ax, history, title):\n",
    "    ax.plot(history.history['acc'], label='train')\n",
    "    ax.plot(history.history['val_acc'], label='validation')\n",
    "    ax.set_xlabel('epoch')\n",
    "    ax.set_ylabel('accuracy')\n",
    "    ax.set_title(title)\n",
    "\n",
    "fig, ax = plt.subplots(1, 3, figsize=(20, 5))\n",
    "plot_accuracy(ax[0], elevation_history, 'Elevation')\n",
    "plot_accuracy(ax[1], plan_history, 'Plan')\n",
    "plot_accuracy(ax[2], section_history, 'Section')\n",
    "plt.legend(loc='upper right', bbox_to_anchor=(1.4, 1))\n",
    "plt.show();"
   ]
  },
  {
   "cell_type": "markdown",
   "id": "7b6323c8",
   "metadata": {},
   "source": [
    "### Accuracy on the test set for each network"
   ]
  },
  {
   "cell_type": "code",
   "execution_count": 18,
   "id": "2f45d19f",
   "metadata": {
    "jupyter": {
     "source_hidden": true
    }
   },
   "outputs": [
    {
     "name": "stdout",
     "output_type": "stream",
     "text": [
      "The accuracy for the network trained on the elevation views on the test set is 0.78\n",
      "The accuracy for the network trained on the plan views on the test set is 0.70\n",
      "The accuracy for the network trained on the section views on the test set is 0.72\n"
     ]
    }
   ],
   "source": [
    "elevation_score = elevation_network.evaluate(elevation_features_test, labels_test, verbose=0)[1]\n",
    "print('The accuracy for the network trained on the elevation views on the test set is {:.2f}'.format(elevation_score))\n",
    "plan_score = plan_network.evaluate(plan_features_test, labels_test, verbose=0)[1]\n",
    "print('The accuracy for the network trained on the plan views on the test set is {:.2f}'.format(plan_score))\n",
    "section_score = section_network.evaluate(section_features_test, labels_test, verbose=0)[1]\n",
    "print('The accuracy for the network trained on the section views on the test set is {:.2f}'.format(section_score))"
   ]
  },
  {
   "cell_type": "markdown",
   "id": "87d456f6",
   "metadata": {},
   "source": [
    "## Combine results\n",
    "The results of the individual classifiers have to be combined into one final result for the ensemble. I tried out 2 methods to achieve this: k-nn and logistic regression."
   ]
  },
  {
   "cell_type": "code",
   "execution_count": 20,
   "id": "3e848508",
   "metadata": {
    "jupyter": {
     "source_hidden": true
    }
   },
   "outputs": [],
   "source": [
    "# predictions for train set\n",
    "pred_elevation_train = elevation_network.predict(elevation_features_train)\n",
    "pred_plan_train = plan_network.predict(plan_features_train)\n",
    "pred_section_train = section_network.predict(section_features_train)\n",
    "pred_train = [np.concatenate([pred_elevation_train[i], pred_plan_train[i], pred_section_train[i]]) for i,_ in enumerate(labels_train)]\n",
    "\n",
    "# predictions for validation set\n",
    "pred_elevation_valid = elevation_network.predict(elevation_features_valid)\n",
    "pred_plan_valid = plan_network.predict(plan_features_valid)\n",
    "pred_section_valid = section_network.predict(section_features_valid)\n",
    "pred_valid = [np.concatenate([pred_elevation_valid[i], pred_plan_valid[i], pred_section_valid[i]]) for i,_ in enumerate(labels_valid)]\n",
    "\n",
    "# predictions for test set\n",
    "pred_elevation_test = elevation_network.predict(elevation_features_test)\n",
    "pred_plan_test = plan_network.predict(plan_features_test)\n",
    "pred_section_test = section_network.predict(section_features_test)\n",
    "pred_test = [np.concatenate([pred_elevation_test[i], pred_plan_test[i], pred_section_test[i]]) for i,_ in enumerate(labels_test)]\n"
   ]
  },
  {
   "cell_type": "markdown",
   "id": "8e237b23",
   "metadata": {},
   "source": [
    "### Combine using k-NN\n",
    "The output of the 3d-views classifiers are 3 arrays of probabilities. Each array element contains the probabilities associated with an element in the dataset. These probabilities are an array of 6 entries, one for each class.\n",
    "\n",
    "* The input of the final classifier is therefore an array of 18 elements\n",
    "* when using k-NN, the number of neighbors can be tuned using grid search\n",
    "* The output is an array of 6 elements, one for each class\n",
    "\n",
    "Several parameters can be tuned in the scikit-learn implementation of k-NN. According to the [documentation](https://scikit-learn.org/stable/modules/generated/sklearn.neighbors.KNeighborsClassifier.html), these are:\n",
    "* n_neighbors: the number of neighbors\n",
    "* algorithm: the algorithm used to compute the nearest neighbors\n",
    "* metric: the distance metric\n",
    "* p: only used when algorithm is 'minkowski'\n",
    "* weight: the weight of the neighbors according to the distance (not to be confused with class weight)"
   ]
  },
  {
   "cell_type": "code",
   "execution_count": 21,
   "id": "77590686",
   "metadata": {
    "jupyter": {
     "source_hidden": true
    }
   },
   "outputs": [
    {
     "data": {
      "text/html": [
       "<div>\n",
       "<style scoped>\n",
       "    .dataframe tbody tr th:only-of-type {\n",
       "        vertical-align: middle;\n",
       "    }\n",
       "\n",
       "    .dataframe tbody tr th {\n",
       "        vertical-align: top;\n",
       "    }\n",
       "\n",
       "    .dataframe thead th {\n",
       "        text-align: right;\n",
       "    }\n",
       "</style>\n",
       "<table border=\"1\" class=\"dataframe\">\n",
       "  <thead>\n",
       "    <tr style=\"text-align: right;\">\n",
       "      <th></th>\n",
       "      <th>algorithm</th>\n",
       "      <th>metric</th>\n",
       "      <th>n_neighbors</th>\n",
       "      <th>p</th>\n",
       "      <th>score</th>\n",
       "      <th>weights</th>\n",
       "    </tr>\n",
       "  </thead>\n",
       "  <tbody>\n",
       "    <tr>\n",
       "      <th>471</th>\n",
       "      <td>kd_tree</td>\n",
       "      <td>minkowski</td>\n",
       "      <td>14</td>\n",
       "      <td>1.0</td>\n",
       "      <td>0.817708</td>\n",
       "      <td>distance</td>\n",
       "    </tr>\n",
       "    <tr>\n",
       "      <th>65</th>\n",
       "      <td>ball_tree</td>\n",
       "      <td>manhattan</td>\n",
       "      <td>14</td>\n",
       "      <td>NaN</td>\n",
       "      <td>0.817708</td>\n",
       "      <td>distance</td>\n",
       "    </tr>\n",
       "    <tr>\n",
       "      <th>27</th>\n",
       "      <td>ball_tree</td>\n",
       "      <td>euclidean</td>\n",
       "      <td>14</td>\n",
       "      <td>NaN</td>\n",
       "      <td>0.817708</td>\n",
       "      <td>distance</td>\n",
       "    </tr>\n",
       "    <tr>\n",
       "      <th>547</th>\n",
       "      <td>brute</td>\n",
       "      <td>minkowski</td>\n",
       "      <td>14</td>\n",
       "      <td>1.0</td>\n",
       "      <td>0.817708</td>\n",
       "      <td>distance</td>\n",
       "    </tr>\n",
       "    <tr>\n",
       "      <th>546</th>\n",
       "      <td>brute</td>\n",
       "      <td>minkowski</td>\n",
       "      <td>14</td>\n",
       "      <td>1.0</td>\n",
       "      <td>0.817708</td>\n",
       "      <td>uniform</td>\n",
       "    </tr>\n",
       "  </tbody>\n",
       "</table>\n",
       "</div>"
      ],
      "text/plain": [
       "     algorithm     metric  n_neighbors    p     score   weights\n",
       "471    kd_tree  minkowski           14  1.0  0.817708  distance\n",
       "65   ball_tree  manhattan           14  NaN  0.817708  distance\n",
       "27   ball_tree  euclidean           14  NaN  0.817708  distance\n",
       "547      brute  minkowski           14  1.0  0.817708  distance\n",
       "546      brute  minkowski           14  1.0  0.817708   uniform"
      ]
     },
     "execution_count": 21,
     "metadata": {},
     "output_type": "execute_result"
    }
   ],
   "source": [
    "import pandas as pd\n",
    "from sklearn.model_selection import ParameterGrid\n",
    "from sklearn.neighbors import KNeighborsClassifier\n",
    "\n",
    "# create a grid of tunable parameters\n",
    "grid_knn = ParameterGrid([\n",
    "    {\n",
    "        'n_neighbors': range(1, 20),\n",
    "        'weights': ['uniform', 'distance'],\n",
    "        'algorithm': ['ball_tree', 'kd_tree', 'brute'],\n",
    "        'metric': ['euclidean', 'manhattan', 'chebyshev']\n",
    "    },\n",
    "    {\n",
    "        'n_neighbors': range(1, 20),\n",
    "        'weights': ['uniform', 'distance'],\n",
    "        'algorithm': ['ball_tree', 'kd_tree', 'brute'],\n",
    "        'p': [1, 2], # L1 or L2\n",
    "        'metric': ['minkowski']\n",
    "    }\n",
    "])\n",
    "\n",
    "gs_results_knn = []\n",
    "for params_dict in grid_knn:\n",
    "    knn = KNeighborsClassifier().set_params(**params_dict) # sklearn API can set parameters directly from grid object\n",
    "    knn.fit(pred_train, labels_train)\n",
    "    params_dict['score'] = knn.score(pred_valid, labels_valid)\n",
    "    gs_results_knn.append(params_dict)\n",
    "    \n",
    "gs_results_knn = pd.DataFrame(gs_results_knn)\n",
    "gs_results_knn.sort_values(by='score', ascending=False).head()"
   ]
  },
  {
   "cell_type": "markdown",
   "id": "dbe78b56",
   "metadata": {},
   "source": [
    "#### Accuracy on the test set of the complete ensemble using k-NN"
   ]
  },
  {
   "cell_type": "code",
   "execution_count": 22,
   "id": "6cc10500",
   "metadata": {
    "jupyter": {
     "source_hidden": true
    }
   },
   "outputs": [
    {
     "name": "stdout",
     "output_type": "stream",
     "text": [
      "The score for the ensemble using k-NN: 0.85\n"
     ]
    }
   ],
   "source": [
    "best_params = grid_knn[gs_results_knn['score'].idxmax()]\n",
    "knn = KNeighborsClassifier().set_params(**best_params).fit(pred_train, labels_train)\n",
    "ensemble_score_knn = knn.score(pred_test, labels_test)\n",
    "print('The score for the ensemble using k-NN: {:.2f}'.format(ensemble_score_knn))"
   ]
  },
  {
   "cell_type": "markdown",
   "id": "bea8155f",
   "metadata": {},
   "source": [
    "### Combine using logistic regression\n",
    "Inputs and outputs are the same as for k-NN, [tunable parameters](https://scikit-learn.org/stable/modules/generated/sklearn.linear_model.LogisticRegression.html) are \n",
    "* the inverse regularization C\n",
    "* the solver algorithm. I did not use solvers saga and sag, as these were throwing too many convergence warnings\n",
    "* the penalty, depending on the algorithm used\n",
    "\n",
    "Max iterations is set to a high value, to avoid convergence warnings.\n",
    "\n",
    "The class weight is set to 'balanced', which should adjust weights according to the class frequencies in the input data."
   ]
  },
  {
   "cell_type": "code",
   "execution_count": 23,
   "id": "640e58d7",
   "metadata": {
    "jupyter": {
     "source_hidden": true
    }
   },
   "outputs": [
    {
     "data": {
      "text/html": [
       "<div>\n",
       "<style scoped>\n",
       "    .dataframe tbody tr th:only-of-type {\n",
       "        vertical-align: middle;\n",
       "    }\n",
       "\n",
       "    .dataframe tbody tr th {\n",
       "        vertical-align: top;\n",
       "    }\n",
       "\n",
       "    .dataframe thead th {\n",
       "        text-align: right;\n",
       "    }\n",
       "</style>\n",
       "<table border=\"1\" class=\"dataframe\">\n",
       "  <thead>\n",
       "    <tr style=\"text-align: right;\">\n",
       "      <th></th>\n",
       "      <th>C</th>\n",
       "      <th>class_weight</th>\n",
       "      <th>max_iter</th>\n",
       "      <th>penalty</th>\n",
       "      <th>score</th>\n",
       "      <th>solver</th>\n",
       "    </tr>\n",
       "  </thead>\n",
       "  <tbody>\n",
       "    <tr>\n",
       "      <th>58</th>\n",
       "      <td>0.784760</td>\n",
       "      <td>balanced</td>\n",
       "      <td>2000</td>\n",
       "      <td>l1</td>\n",
       "      <td>0.807292</td>\n",
       "      <td>liblinear</td>\n",
       "    </tr>\n",
       "    <tr>\n",
       "      <th>61</th>\n",
       "      <td>1.274275</td>\n",
       "      <td>balanced</td>\n",
       "      <td>2000</td>\n",
       "      <td>l2</td>\n",
       "      <td>0.807292</td>\n",
       "      <td>liblinear</td>\n",
       "    </tr>\n",
       "    <tr>\n",
       "      <th>63</th>\n",
       "      <td>2.069138</td>\n",
       "      <td>balanced</td>\n",
       "      <td>2000</td>\n",
       "      <td>l2</td>\n",
       "      <td>0.802083</td>\n",
       "      <td>liblinear</td>\n",
       "    </tr>\n",
       "    <tr>\n",
       "      <th>65</th>\n",
       "      <td>3.359818</td>\n",
       "      <td>balanced</td>\n",
       "      <td>2000</td>\n",
       "      <td>l2</td>\n",
       "      <td>0.802083</td>\n",
       "      <td>liblinear</td>\n",
       "    </tr>\n",
       "    <tr>\n",
       "      <th>67</th>\n",
       "      <td>5.455595</td>\n",
       "      <td>balanced</td>\n",
       "      <td>2000</td>\n",
       "      <td>l2</td>\n",
       "      <td>0.802083</td>\n",
       "      <td>liblinear</td>\n",
       "    </tr>\n",
       "  </tbody>\n",
       "</table>\n",
       "</div>"
      ],
      "text/plain": [
       "           C class_weight  max_iter penalty     score     solver\n",
       "58  0.784760     balanced      2000      l1  0.807292  liblinear\n",
       "61  1.274275     balanced      2000      l2  0.807292  liblinear\n",
       "63  2.069138     balanced      2000      l2  0.802083  liblinear\n",
       "65  3.359818     balanced      2000      l2  0.802083  liblinear\n",
       "67  5.455595     balanced      2000      l2  0.802083  liblinear"
      ]
     },
     "execution_count": 23,
     "metadata": {},
     "output_type": "execute_result"
    }
   ],
   "source": [
    "from sklearn.linear_model import LogisticRegression\n",
    "\n",
    "# create a grid of tunable parameters\n",
    "grid_logreg = ParameterGrid([\n",
    "    {\n",
    "        'C': np.logspace(-2, 2, num=20), # inverse regularization\n",
    "        'solver': ['newton-cg', 'lbfgs'],\n",
    "        'penalty': ['l2'], # these solvers no l1\n",
    "        'max_iter': [2000], # avoid 'coefficient did not converge' warnings\n",
    "        'class_weight': ['balanced'] # adjust weights inversely proportional to class frequencies \n",
    "    },\n",
    "    {\n",
    "        'C': np.logspace(-2, 2, num=20), # inverse regularization\n",
    "        'solver': ['liblinear'],\n",
    "        'penalty': ['l1', 'l2'],\n",
    "        'max_iter': [2000], # avoid 'coefficient did not converge' warnings\n",
    "        'class_weight': ['balanced'] # adjust weights inversely proportional to class frequencies \n",
    "    },\n",
    "])\n",
    "\n",
    "gs_results_logreg = []\n",
    "for params_dict in grid_logreg:\n",
    "    logreg = LogisticRegression().set_params(**params_dict) # sklearn API can set parameters directly from grid object\n",
    "    logreg.fit(pred_train, labels_train)\n",
    "    params_dict['score'] = logreg.score(pred_valid, labels_valid)\n",
    "    gs_results_logreg.append(params_dict)\n",
    "    \n",
    "gs_results_logreg = pd.DataFrame(gs_results_logreg)\n",
    "gs_results_logreg.sort_values(by='score', ascending=False).head()\n"
   ]
  },
  {
   "cell_type": "markdown",
   "id": "ca0f1e18",
   "metadata": {},
   "source": [
    "#### Accuracy on the test set of the complete ensemble using "
   ]
  },
  {
   "cell_type": "code",
   "execution_count": 24,
   "id": "a6a6c246",
   "metadata": {
    "jupyter": {
     "source_hidden": true
    }
   },
   "outputs": [
    {
     "name": "stdout",
     "output_type": "stream",
     "text": [
      "The score for the ensemble using logistic regression: 0.85\n"
     ]
    }
   ],
   "source": [
    "best_params = grid_logreg[gs_results_logreg['score'].idxmax()]\n",
    "logreg = LogisticRegression().set_params(**best_params).fit(pred_train, labels_train)\n",
    "ensemble_score_logreg = logreg.score(pred_test, labels_test)\n",
    "print('The score for the ensemble using logistic regression: {:.2f}'.format(ensemble_score_logreg))"
   ]
  },
  {
   "cell_type": "markdown",
   "id": "a6c78e98",
   "metadata": {},
   "source": [
    "## Score comparisons"
   ]
  },
  {
   "cell_type": "code",
   "execution_count": 26,
   "id": "bd342363",
   "metadata": {
    "jupyter": {
     "source_hidden": true
    }
   },
   "outputs": [
    {
     "data": {
      "image/png": "[encoded data removed]",
      "text/plain": [
       "<Figure size 432x288 with 1 Axes>"
      ]
     },
     "metadata": {
      "needs_background": "light"
     },
     "output_type": "display_data"
    }
   ],
   "source": [
    "%matplotlib inline\n",
    "import matplotlib.pyplot as plt\n",
    "\n",
    "plt.barh(['Baseline', 'Elevation only', 'Plan only', 'Section only', 'Ensemble k-NN', 'Ensemble logreg'], \n",
    "         width=[baseline_score_test, elevation_score, plan_score, section_score, ensemble_score_knn, ensemble_score_logreg])\n",
    "plt.xlabel('Accuracy')\n",
    "plt.ylabel('')\n",
    "plt.title('Classification accuracy')\n",
    "plt.show();"
   ]
  },
  {
   "cell_type": "markdown",
   "id": "0279402f",
   "metadata": {},
   "source": [
    "#### Preliminary conclusion\n",
    "The classifier ensemble using 3D-views data only and 6 output classes could classify the test dataset with 85% accuracy. Using k-NN or LogisticRegression as the final classifier for the ensemble did not affect the classification accuracy.\n"
   ]
  },
  {
   "cell_type": "code",
   "execution_count": null,
   "id": "7b7e0807",
   "metadata": {},
   "outputs": [],
   "source": []
  }
 ],
 "metadata": {
  "kernelspec": {
   "display_name": "Python 3",
   "language": "python",
   "name": "python3"
  },
  "language_info": {
   "codemirror_mode": {
    "name": "ipython",
    "version": 3
   },
   "file_extension": ".py",
   "mimetype": "text/x-python",
   "name": "python",
   "nbconvert_exporter": "python",
   "pygments_lexer": "ipython3",
   "version": "3.6.13"
  }
 },
 "nbformat": 4,
 "nbformat_minor": 5
}
