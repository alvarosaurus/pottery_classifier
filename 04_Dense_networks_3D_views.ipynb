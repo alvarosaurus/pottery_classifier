{
 "cells": [
  {
   "cell_type": "markdown",
   "id": "02b04983",
   "metadata": {},
   "source": [
    "# Dense networks for 3D images\n",
    "Each object is represented by 3 views (elevation, plan, section) and a texture image. However, not all objects have a texture image. Therefore, in this notebook I will train and evaluate an ensemble of 3 classifiers (fig. 1), one for each 3D-view, using all the data (split in train, validate and test datasets). In the next notebook, I will add a texture classifier and re-train the ensemble using only the objects for which a texture was provided.\n",
    "\n",
    "<img src=\"fig/ML_3D_only.png\">\n",
    "\n",
    "_Figure 1: Overview of the classifier ensemble using only 3D views._\n"
   ]
  },
  {
   "cell_type": "markdown",
   "id": "8ab612b2",
   "metadata": {},
   "source": [
    "## Load feature data"
   ]
  },
  {
   "cell_type": "code",
   "execution_count": 1,
   "id": "325f8824",
   "metadata": {},
   "outputs": [],
   "source": [
    "import numpy as np\n",
    "import os\n",
    "from sklearn.preprocessing import LabelEncoder\n",
    "\n",
    "PROD_DIR = 'production' # interim production files\n",
    "\n",
    "# Reload extracted features from train dataset\n",
    "with np.load(os.path.join(PROD_DIR, 'features_point_clouds_train.npz'), allow_pickle=True) as data:\n",
    "    data_dict = dict(data.items())\n",
    "    metadata_train = data_dict['metadata']\n",
    "    elevation_features_train = data_dict['elevation_features']\n",
    "    plan_features_train = data_dict['plan_features']\n",
    "    section_features_train = data_dict['section_features']\n",
    "\n",
    "# encode labels as ints\n",
    "labels_train = LabelEncoder().fit_transform(metadata_train[:, 3]) # 'period' is the 3rd column\n",
    "    \n",
    "# Reload extracted features from validate dataset\n",
    "with np.load(os.path.join(PROD_DIR, 'features_point_clouds_validate.npz'), allow_pickle=True) as data:\n",
    "    data_dict = dict(data.items())\n",
    "    metadata_valid = data_dict['metadata']\n",
    "    elevation_features_valid = data_dict['elevation_features']\n",
    "    plan_features_valid = data_dict['plan_features']\n",
    "    section_features_valid = data_dict['section_features']\n",
    "\n",
    "# encode labels as ints\n",
    "labels_valid = LabelEncoder().fit_transform(metadata_valid[:, 3]) # 'period' is the 3rd column\n",
    "\n",
    "# Reload extracted features from test dataset\n",
    "with np.load(os.path.join(PROD_DIR, 'features_point_clouds_test.npz'), allow_pickle=True) as data:\n",
    "    data_dict = dict(data.items())\n",
    "    metadata_test = data_dict['metadata']\n",
    "    elevation_features_test = data_dict['elevation_features']\n",
    "    plan_features_test = data_dict['plan_features']\n",
    "    section_features_test = data_dict['section_features']\n",
    "\n",
    "# encode labels as ints\n",
    "labels_test = LabelEncoder().fit_transform(metadata_test[:, 3]) # 'period' is the 3rd column\n"
   ]
  },
  {
   "cell_type": "markdown",
   "id": "955013ad",
   "metadata": {},
   "source": [
    "## Baseline"
   ]
  },
  {
   "cell_type": "code",
   "execution_count": 2,
   "id": "ae0457be",
   "metadata": {},
   "outputs": [
    {
     "name": "stdout",
     "output_type": "stream",
     "text": [
      "The accuracy of the most frequent baseline is 0.34.\n"
     ]
    }
   ],
   "source": [
    "from sklearn.dummy import DummyClassifier\n",
    "\n",
    "dummy = DummyClassifier(strategy='most_frequent')\n",
    "dummy.fit(elevation_features_train, labels_train)\n",
    "baseline_score = dummy.score(elevation_features_valid, labels_valid)\n",
    "print('The accuracy of the most frequent baseline is {:.2f}.'.format(baseline_score))"
   ]
  },
  {
   "cell_type": "markdown",
   "id": "a5be9126",
   "metadata": {},
   "source": [
    "## Define dense networks\n",
    "\n",
    "For each of the 3D-views, I implemented a dense network with multiple layers:\n",
    "\n",
    "* The input data for the network are 2048 high-level features extracted from each of the 3d-views in the previous notebook.\n",
    "* This network has a hidden layer. The number of nodes in the hidden layer has to be optimized.\n",
    "* I added a dropout layer with a dropout rate of 0.5, to prevent overfitting.\n",
    "* The images are in 6 classes ('Bronze Age', 'Iron Age', etc.), therefore the network requires 6 outputs.\n",
    "\n",
    "I chose to implement the network using Keras."
   ]
  },
  {
   "cell_type": "code",
   "execution_count": 3,
   "id": "b0cc400a",
   "metadata": {},
   "outputs": [],
   "source": [
    "import warnings\n",
    "warnings.simplefilter(action='ignore', category=FutureWarning)\n",
    "import tensorflow as tf\n",
    "import tensorflow.keras as keras\n",
    "from tensorflow.keras import Sequential\n",
    "from tensorflow.keras.layers import Dense\n",
    "from tensorflow.keras import activations\n",
    "from tensorflow.keras import initializers\n",
    "\n",
    "def define_network(outputs=6, hidden_nodes=6):\n",
    "    \"\"\"\n",
    "    Defines a multi-layer dense network with ahidden and a dropout layers.\n",
    "    @param out_nodes: int, number of outputs\n",
    "    @param hidden_nodes: int, number of nodes in the hidden layer\n",
    "    \"\"\"\n",
    "\n",
    "    network = Sequential()\n",
    "    # hidden layer\n",
    "    network.add(\n",
    "        Dense(\n",
    "            hidden_nodes, \n",
    "            activation='relu', \n",
    "            kernel_initializer=initializers.VarianceScaling(scale=2.0, seed=0)\n",
    "        )\n",
    "    )\n",
    "    # dropout layer\n",
    "    network.add(\n",
    "        keras.layers.Dropout(rate=0.5, seed=0)\n",
    "    )\n",
    "    # output layer\n",
    "    network.add(\n",
    "        Dense(\n",
    "            outputs, # number of image classes\n",
    "            activation='softmax', # 'softmax' since output layer\n",
    "            kernel_initializer=initializers.VarianceScaling(scale=1.0, seed=0)\n",
    "        )\n",
    "    )\n",
    "    return network"
   ]
  },
  {
   "cell_type": "markdown",
   "id": "42014daf",
   "metadata": {},
   "source": [
    "### Tune the number of nodes in the hidden layer\n",
    "The networks for each 3D-view are trained independently from each other. I optimized a single parameter: the number of nodes in the hidden layer. Chosing the number of nodes in the hidden layer is a problem for which [some heristics](https://www.heatonresearch.com/2017/06/01/hidden-layers.html) exist, but no definitive answer. One of these heuristics is that the number on nodes in the hidden layer should be between the number of nodes in the model's input and output layers (i.e. between 6 and 2048)."
   ]
  },
  {
   "cell_type": "code",
   "execution_count": 4,
   "id": "ee2bdac7",
   "metadata": {},
   "outputs": [
    {
     "name": "stdout",
     "output_type": "stream",
     "text": [
      "Optimizing number of nodes in hidden layer for elevation view:\n",
      "Evaluating 6 nodes\n",
      "Evaluating 14 nodes\n",
      "Evaluating 30 nodes\n",
      "Evaluating 62 nodes\n",
      "Evaluating 126 nodes\n",
      "Evaluating 254 nodes\n",
      "Evaluating 510 nodes\n",
      "Evaluating 1022 nodes\n",
      "Evaluating 2046 nodes\n",
      "   num_nodes  train_acc_mean  train_acc_std  val_acc_mean  val_acc_std\n",
      "7       1022        0.871196       0.018775      0.680208     0.034485\n",
      "5        254        0.850222       0.038326      0.669271     0.045955\n",
      "1         14        0.819941       0.028797      0.668750     0.015131\n",
      "8       2046        0.806204       0.039352      0.667188     0.027308\n",
      "3         62        0.871787       0.019426      0.656250     0.038556\n",
      "0          6        0.836337       0.039919      0.652083     0.065127\n",
      "2         30        0.839143       0.035225      0.623437     0.063150\n",
      "6        510        0.780502       0.032323      0.621354     0.050499\n",
      "4        126        0.775332       0.032270      0.614063     0.025669 \n",
      "\n",
      "Best number of nodes for elevation view: 1022\n",
      "\n",
      "Optimizing number of nodes in hidden layer for plan view:\n",
      "Evaluating 6 nodes\n",
      "Evaluating 14 nodes\n",
      "Evaluating 30 nodes\n",
      "Evaluating 62 nodes\n",
      "Evaluating 126 nodes\n",
      "Evaluating 254 nodes\n",
      "Evaluating 510 nodes\n",
      "Evaluating 1022 nodes\n",
      "Evaluating 2046 nodes\n",
      "   num_nodes  train_acc_mean  train_acc_std  val_acc_mean  val_acc_std\n",
      "0          6        0.753767       0.016920      0.628125     0.024340\n",
      "1         14        0.768095       0.028749      0.613542     0.029811\n",
      "3         62        0.733678       0.018271      0.610417     0.056327\n",
      "7       1022        0.736337       0.029351      0.608333     0.029719\n",
      "8       2046        0.718907       0.022275      0.601042     0.027580\n",
      "5        254        0.729838       0.018300      0.596354     0.038503\n",
      "6        510        0.735894       0.028694      0.595313     0.076655\n",
      "4        126        0.735007       0.017641      0.593229     0.038021\n",
      "2         30        0.716839       0.039486      0.583333     0.060605 \n",
      "\n",
      "Best number of nodes for plan view: 6\n",
      "\n",
      "Optimizing number of nodes in hidden layer for section view:\n",
      "Evaluating 6 nodes\n",
      "Evaluating 14 nodes\n",
      "Evaluating 30 nodes\n",
      "Evaluating 62 nodes\n",
      "Evaluating 126 nodes\n",
      "Evaluating 254 nodes\n",
      "Evaluating 510 nodes\n",
      "Evaluating 1022 nodes\n",
      "Evaluating 2046 nodes\n",
      "   num_nodes  train_acc_mean  train_acc_std  val_acc_mean  val_acc_std\n",
      "1         14        0.798523       0.030724      0.644271     0.037271\n",
      "3         62        0.738552       0.032510      0.639583     0.059830\n",
      "8       2046        0.741359       0.028138      0.597396     0.043329\n",
      "6        510        0.708124       0.022423      0.583333     0.056864\n",
      "4        126        0.752290       0.048281      0.581250     0.084182\n",
      "2         30        0.721270       0.054817      0.576042     0.062073\n",
      "0          6        0.737666       0.050758      0.548438     0.046413\n",
      "5        254        0.682866       0.054725      0.542188     0.069114\n",
      "7       1022        0.744609       0.026893      0.535937     0.068957 \n",
      "\n",
      "Best number of nodes for section view: 14\n",
      "\n"
     ]
    }
   ],
   "source": [
    "import pandas as pd\n",
    "\n",
    "# callback for early stopping\n",
    "early_stopping = keras.callbacks.EarlyStopping(monitor='val_loss', patience=6)\n",
    "# repeat the evaluation num_tries times\n",
    "num_tries = 10\n",
    "\n",
    "def optimize_hidden_layer(X_train, y_train, X_valid, y_valid):\n",
    "    \"\"\"\n",
    "    Optimize the number of nodes in the hidden layer of the network defined in define_network().\n",
    "    @params X_train, y_train, X_valid, y_valid numpy ndarrays\n",
    "    @return best_num_nodes int, accuracy Pandas DataFrame\n",
    "    \"\"\"\n",
    "    accuracy = []\n",
    "    for num_nodes in [2**i-2 for i in range(3, 12)]:  # num nodes between 6 and 2046\n",
    "        print('Evaluating {} nodes'.format(num_nodes))\n",
    "        train_acc = []\n",
    "        val_acc = []\n",
    "        for tries in range(0, num_tries):\n",
    "            # define and compile the model\n",
    "            network = define_network(num_nodes) \n",
    "            network.compile(optimizer='sgd', loss='sparse_categorical_crossentropy', metrics=['acc']) # using defaults\n",
    "            # train the model\n",
    "            # Train and validation data prepared in notebook 2 has already been stratified, therefore, validation data is fed directly to the fit() function\n",
    "            history = network.fit(\n",
    "                x=X_train, # do not rescale the data\n",
    "                y=y_train,\n",
    "                validation_data=(X_valid, y_valid), # do not use split, feed validation data directly\n",
    "                batch_size=32, # using default batch size\n",
    "                epochs=100, # combine many epochs with early stopping\n",
    "                callbacks=[early_stopping],\n",
    "                shuffle=True,\n",
    "                verbose=0\n",
    "            )\n",
    "            train_acc.append(history.history['acc'][-1]) # the training accuracy of the model, last epoch\n",
    "            val_acc.append(history.history['val_acc'][-1]) # the validation accuracy of the model, last epoch\n",
    "\n",
    "        accuracy.append({\n",
    "            'num_nodes': num_nodes,\n",
    "            'train_acc_mean': np.mean(train_acc), \n",
    "            'train_acc_std': np.std(train_acc), \n",
    "            'val_acc_mean': np.mean(val_acc),\n",
    "            'val_acc_std': np.std(val_acc)\n",
    "        })\n",
    "    accuracy = pd.DataFrame(accuracy)\n",
    "    accuracy.sort_values('val_acc_mean', ascending=False, inplace=True)\n",
    "    best_num_nodes = accuracy.loc[accuracy['val_acc_mean'].idxmax(), 'num_nodes']\n",
    "    return best_num_nodes, accuracy\n",
    "\n",
    "print('Optimizing number of nodes in hidden layer for elevation view:')\n",
    "best_elevation, elevation_accuracy = optimize_hidden_layer(elevation_features_train, labels_train, elevation_features_valid, labels_valid)\n",
    "print(elevation_accuracy, '\\n')\n",
    "print('Best number of nodes for elevation view: {}\\n'.format(best_elevation))\n",
    "\n",
    "print('Optimizing number of nodes in hidden layer for plan view:')\n",
    "best_plan, plan_accuracy = optimize_hidden_layer(plan_features_train, labels_train, plan_features_valid, labels_valid)\n",
    "print(plan_accuracy, '\\n')\n",
    "print('Best number of nodes for plan view: {}\\n'.format(best_plan))\n",
    "\n",
    "print('Optimizing number of nodes in hidden layer for section view:')\n",
    "best_section, section_accuracy = optimize_hidden_layer(section_features_train, labels_train, section_features_valid, labels_valid)\n",
    "print(section_accuracy, '\\n')\n",
    "print('Best number of nodes for section view: {}\\n'.format(best_section))"
   ]
  },
  {
   "cell_type": "markdown",
   "id": "de10d571",
   "metadata": {},
   "source": [
    "### Define and fit each network\n",
    "For each 3D-view, define a network with the optimal number of nodes in the hidden layer as determined in the previous step, fit the network."
   ]
  },
  {
   "cell_type": "code",
   "execution_count": 5,
   "id": "fac29a58",
   "metadata": {},
   "outputs": [],
   "source": [
    "def fit_network(best_num_nodes, X_train, y_train, X_valid, y_valid):\n",
    "    \"\"\"\n",
    "    Fit a network as defined in define_network().\n",
    "    @param best_num_nodes int, number of nodes in the hidden layer\n",
    "    @params X_train, y_train, X_valid, y_valid numpy ndarrays\n",
    "    @return fitted tensorflow network ('Sequential' object), tensorflow fit history ('History' object)\n",
    "    \"\"\"\n",
    "    # define and compile the model with best number of nodes\n",
    "    network = define_network(best_num_nodes) \n",
    "    network.compile(optimizer='sgd', loss='sparse_categorical_crossentropy', metrics=['acc']) # using defaults\n",
    "    # fit\n",
    "    history = network.fit(\n",
    "        x=X_train,\n",
    "        y=y_train,\n",
    "        validation_data=(X_valid, y_valid), # do not use split, feed validation data directly\n",
    "        batch_size=128, # using a batch size larger than the default\n",
    "        epochs=200, # combine many epochs with early stopping\n",
    "        callbacks=[early_stopping],\n",
    "        shuffle=True,\n",
    "        verbose=0\n",
    "    )\n",
    "    return network, history\n",
    "\n",
    "# define and fit a network for each 3D-view\n",
    "elevation_network, elevation_history = fit_network(best_elevation, elevation_features_train, labels_train, elevation_features_valid, labels_valid)\n",
    "plan_network, plan_history = fit_network(best_plan, plan_features_train, labels_train, plan_features_valid, labels_valid)\n",
    "section_network, section_history = fit_network(best_section, section_features_train, labels_train, section_features_valid, labels_valid)"
   ]
  },
  {
   "cell_type": "markdown",
   "id": "a3542f74",
   "metadata": {},
   "source": [
    "### Plot the networks' accuracy\n",
    "Plot the accuracy of each network separately."
   ]
  },
  {
   "cell_type": "code",
   "execution_count": 6,
   "id": "92edbdbb",
   "metadata": {},
   "outputs": [
    {
     "data": {
      "image/png": "[encoded data removed]",
      "text/plain": [
       "<Figure size 1440x360 with 3 Axes>"
      ]
     },
     "metadata": {
      "needs_background": "light"
     },
     "output_type": "display_data"
    }
   ],
   "source": [
    "%matplotlib inline\n",
    "import matplotlib.pyplot as plt\n",
    "import numpy as np\n",
    "\n",
    "def plot_accuracy(ax, history, title):\n",
    "    ax.plot(history.history['acc'], label='train acc')\n",
    "    ax.plot(history.history['val_acc'], label='val acc')\n",
    "    ax.set_xlabel('epoch')\n",
    "    ax.set_ylabel('accuracy')\n",
    "    ax.set_title(title)\n",
    "\n",
    "fig, ax = plt.subplots(1, 3, figsize=(20, 5))\n",
    "plot_accuracy(ax[0], elevation_history, 'Elevation')\n",
    "plot_accuracy(ax[1], plan_history, 'Plan')\n",
    "plot_accuracy(ax[2], section_history, 'Section')\n",
    "plt.legend(loc='upper right', bbox_to_anchor=(1.3, 1))\n",
    "plt.show();"
   ]
  },
  {
   "cell_type": "markdown",
   "id": "6722f7ab",
   "metadata": {},
   "source": [
    "### Accuracy on the test set for each network"
   ]
  },
  {
   "cell_type": "code",
   "execution_count": 7,
   "id": "6651e7ce",
   "metadata": {},
   "outputs": [
    {
     "name": "stdout",
     "output_type": "stream",
     "text": [
      "The accuracy for the network trained on the elevation views on the test set is 0.77\n",
      "The accuracy for the network trained on the plan views on the test set is 0.66\n",
      "The accuracy for the network trained on the section views on the test set is 0.69\n"
     ]
    }
   ],
   "source": [
    "elevation_score = elevation_network.evaluate(elevation_features_test, labels_test, verbose=0)[1]\n",
    "print('The accuracy for the network trained on the elevation views on the test set is {:.2f}'.format(elevation_score))\n",
    "plan_score = plan_network.evaluate(plan_features_test, labels_test, verbose=0)[1]\n",
    "print('The accuracy for the network trained on the plan views on the test set is {:.2f}'.format(plan_score))\n",
    "section_score = section_network.evaluate(section_features_test, labels_test, verbose=0)[1]\n",
    "print('The accuracy for the network trained on the section views on the test set is {:.2f}'.format(section_score))"
   ]
  },
  {
   "cell_type": "markdown",
   "id": "88ac4fb6",
   "metadata": {},
   "source": [
    "Save the fitted networks for later use"
   ]
  },
  {
   "cell_type": "code",
   "execution_count": 18,
   "id": "b5369a71",
   "metadata": {},
   "outputs": [
    {
     "name": "stdout",
     "output_type": "stream",
     "text": [
      "WARNING:tensorflow:This model was compiled with a Keras optimizer (<tensorflow.python.keras.optimizers.SGD object at 0x7f7334389860>) but is being saved in TensorFlow format with `save_weights`. The model's weights will be saved, but unlike with TensorFlow optimizers in the TensorFlow format the optimizer's state will not be saved.\n",
      "\n",
      "Consider using a TensorFlow optimizer from `tf.train`.\n",
      "WARNING:tensorflow:This model was compiled with a Keras optimizer (<tensorflow.python.keras.optimizers.SGD object at 0x7f72a2e03828>) but is being saved in TensorFlow format with `save_weights`. The model's weights will be saved, but unlike with TensorFlow optimizers in the TensorFlow format the optimizer's state will not be saved.\n",
      "\n",
      "Consider using a TensorFlow optimizer from `tf.train`.\n",
      "WARNING:tensorflow:This model was compiled with a Keras optimizer (<tensorflow.python.keras.optimizers.SGD object at 0x7f72a27d0b70>) but is being saved in TensorFlow format with `save_weights`. The model's weights will be saved, but unlike with TensorFlow optimizers in the TensorFlow format the optimizer's state will not be saved.\n",
      "\n",
      "Consider using a TensorFlow optimizer from `tf.train`.\n"
     ]
    }
   ],
   "source": [
    "elevation_network.save_weights('production/elevation_network.ckpt')\n",
    "plan_network.save_weights('production/plan_network.ckpt')\n",
    "section_network.save_weights('production/section_network.ckpt')\n"
   ]
  },
  {
   "cell_type": "code",
   "execution_count": 17,
   "id": "072a1787",
   "metadata": {},
   "outputs": [
    {
     "data": {
      "text/plain": [
       "0.7676767676767676"
      ]
     },
     "execution_count": 17,
     "metadata": {},
     "output_type": "execute_result"
    }
   ],
   "source": [
    "test_model = define_network(best_elevation)\n",
    "test_model.compile(optimizer='sgd', loss='sparse_categorical_crossentropy', metrics=['acc'])\n",
    "test_model.load_weights('production/elevation_network.ckpt')\n",
    "test_model.evaluate(elevation_features_test, labels_test, verbose=0)[1]"
   ]
  },
  {
   "cell_type": "markdown",
   "id": "b5f23b71",
   "metadata": {},
   "source": [
    "### Compare the accuracies"
   ]
  },
  {
   "cell_type": "code",
   "execution_count": 19,
   "id": "2fb9ddd2",
   "metadata": {},
   "outputs": [
    {
     "data": {
      "image/png": "[encoded data removed]",
      "text/plain": [
       "<Figure size 432x288 with 1 Axes>"
      ]
     },
     "metadata": {
      "needs_background": "light"
     },
     "output_type": "display_data"
    }
   ],
   "source": [
    "plt.barh(['Baseline', 'Elevation', 'Plan', 'Section'], width=[baseline_score, elevation_score, plan_score, section_score])\n",
    "plt.xlabel('Accuracy')\n",
    "plt.ylabel('')\n",
    "plt.title('Accuracy of each network')\n",
    "plt.show();"
   ]
  },
  {
   "cell_type": "code",
   "execution_count": null,
   "id": "06380411",
   "metadata": {},
   "outputs": [],
   "source": []
  }
 ],
 "metadata": {
  "kernelspec": {
   "display_name": "Python 3",
   "language": "python",
   "name": "python3"
  },
  "language_info": {
   "codemirror_mode": {
    "name": "ipython",
    "version": 3
   },
   "file_extension": ".py",
   "mimetype": "text/x-python",
   "name": "python",
   "nbconvert_exporter": "python",
   "pygments_lexer": "ipython3",
   "version": "3.6.13"
  }
 },
 "nbformat": 4,
 "nbformat_minor": 5
}
