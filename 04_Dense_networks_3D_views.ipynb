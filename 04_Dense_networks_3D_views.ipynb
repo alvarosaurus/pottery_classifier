{
 "cells": [
  {
   "cell_type": "markdown",
   "id": "d2597a9b",
   "metadata": {},
   "source": [
    "# Dense networks for 3D images\n",
    "Each object is represented by 3 views (elevation, plan, section) and a texture image. However, not all objects have a texture image. Therefore, __in this notebook__ I will train and evaluate an ensemble of 3 classifiers (fig. 1), one for each 3D-view, using all the data (split in train, validate and test datasets). In the __next__ notebook, I will add a texture classifier and re-train the ensemble using only the objects for which a texture was provided.\n",
    "\n",
    "<img src=\"fig/ML_3D_only.png\">\n",
    "\n",
    "_Figure 1: Overview of the classifier ensemble using only 3D views._\n"
   ]
  },
  {
   "cell_type": "markdown",
   "id": "62eee4d3",
   "metadata": {},
   "source": [
    "## Load feature data\n",
    "Load the feature data extracted from the 3D-views in notebook 3."
   ]
  },
  {
   "cell_type": "code",
   "execution_count": 1,
   "id": "f5bab2ff",
   "metadata": {},
   "outputs": [],
   "source": [
    "import numpy as np\n",
    "import os\n",
    "from sklearn.preprocessing import LabelEncoder\n",
    "\n",
    "PROD_DIR = 'production' # interim production files\n",
    "\n",
    "# Reload extracted features from train dataset\n",
    "with np.load(os.path.join(PROD_DIR, 'features_point_clouds_train.npz'), allow_pickle=True) as data:\n",
    "    data_dict = dict(data.items())\n",
    "    metadata_train = data_dict['metadata']\n",
    "    elevation_features_train = data_dict['elevation_features']\n",
    "    plan_features_train = data_dict['plan_features']\n",
    "    section_features_train = data_dict['section_features']\n",
    "\n",
    "# encode labels as ints\n",
    "labels_train = LabelEncoder().fit_transform(metadata_train[:, 3]) # 'period' is the 3rd column\n",
    "    \n",
    "# Reload extracted features from validate dataset\n",
    "with np.load(os.path.join(PROD_DIR, 'features_point_clouds_validate.npz'), allow_pickle=True) as data:\n",
    "    data_dict = dict(data.items())\n",
    "    metadata_valid = data_dict['metadata']\n",
    "    elevation_features_valid = data_dict['elevation_features']\n",
    "    plan_features_valid = data_dict['plan_features']\n",
    "    section_features_valid = data_dict['section_features']\n",
    "\n",
    "# encode labels as ints\n",
    "labels_valid = LabelEncoder().fit_transform(metadata_valid[:, 3]) # 'period' is the 3rd column\n",
    "\n",
    "# Reload extracted features from test dataset\n",
    "with np.load(os.path.join(PROD_DIR, 'features_point_clouds_test.npz'), allow_pickle=True) as data:\n",
    "    data_dict = dict(data.items())\n",
    "    metadata_test = data_dict['metadata']\n",
    "    elevation_features_test = data_dict['elevation_features']\n",
    "    plan_features_test = data_dict['plan_features']\n",
    "    section_features_test = data_dict['section_features']\n",
    "\n",
    "# encode labels as ints\n",
    "labels_test = LabelEncoder().fit_transform(metadata_test[:, 3]) # 'period' is the 3rd column\n"
   ]
  },
  {
   "cell_type": "markdown",
   "id": "4c076f75",
   "metadata": {},
   "source": [
    "## Baseline\n",
    "Compute the \"most frequent\" baseline based on validation and the test datasets (as the distribution is the same, these are equal)."
   ]
  },
  {
   "cell_type": "code",
   "execution_count": 2,
   "id": "b90c123d",
   "metadata": {
    "jupyter": {
     "source_hidden": true
    }
   },
   "outputs": [
    {
     "name": "stdout",
     "output_type": "stream",
     "text": [
      "The accuracy of the most frequent baseline for the validation dataset is 0.34, for the test dataset 0.34.\n"
     ]
    }
   ],
   "source": [
    "from sklearn.dummy import DummyClassifier\n",
    "\n",
    "dummy = DummyClassifier(strategy='most_frequent')\n",
    "dummy.fit(elevation_features_train, labels_train)\n",
    "baseline_score_valid = dummy.score(elevation_features_valid, labels_valid)\n",
    "baseline_score_test = dummy.score(elevation_features_test, labels_test)\n",
    "print('The accuracy of the most frequent baseline for the validation dataset is {:.2f}, for the test dataset {:.2f}.'.format(baseline_score_valid, baseline_score_test))"
   ]
  },
  {
   "cell_type": "markdown",
   "id": "5f2d0659",
   "metadata": {},
   "source": [
    "## Define dense networks\n",
    "\n",
    "For each of the 3D-views, I implemented a dense network with multiple layers:\n",
    "\n",
    "* The input data for the network are 2048 high-level features extracted from each of the 3d-views in the previous notebook.\n",
    "* The data is not linearly separable (notebook 3), therefore this network needs at least one hidden layer. After some experimenting, I added two hidden layers. Chosing the number of nodes in the hidden layer is a problem for which [some heristics](http://www.faqs.org/faqs/ai-faq/neural-nets/part3/section-10.html) exist, but no definitive answer, therefore I optimize the number of nodes in the hidden layers using grid search. In this network, the second hidden layer has half the nodes of the first hidden layer.\n",
    "* I added dropout layers with a dropout rate between 0.5 and 0.6, to prevent overfitting. This range [seems to cover reasonable values](https://www.machinecurve.com/index.php/2019/12/16/what-is-dropout-reduce-overfitting-in-your-neural-networks/).\n",
    "* The images are in 6 classes ('Bronze Age', 'Iron Age', etc.), therefore the network requires 6 outputs.\n",
    "\n",
    "I chose to implement the network using Keras."
   ]
  },
  {
   "cell_type": "code",
   "execution_count": 3,
   "id": "fda76414",
   "metadata": {
    "jupyter": {
     "source_hidden": true
    }
   },
   "outputs": [],
   "source": [
    "import warnings\n",
    "warnings.simplefilter(action='ignore', category=FutureWarning)\n",
    "import tensorflow as tf\n",
    "import tensorflow.keras as keras\n",
    "from tensorflow.keras import Sequential\n",
    "from tensorflow.keras.layers import Dense\n",
    "from tensorflow.keras import activations\n",
    "from tensorflow.keras import initializers\n",
    "\n",
    "def define_network(outputs, hidden_nodes, rate):\n",
    "    \"\"\"\n",
    "    Defines a multi-layer dense network with a hidden and a dropout layer.\n",
    "    @param out_nodes: int, number of outputs\n",
    "    @param hidden_nodes: int, number of nodes in the hidden layer\n",
    "    @param rate: float, rate of the dropout layer\n",
    "    \"\"\"\n",
    "    network = Sequential()\n",
    "    # hidden layer 1\n",
    "    network.add(\n",
    "        Dense(\n",
    "            hidden_nodes, \n",
    "            activation='relu', \n",
    "            kernel_initializer=initializers.VarianceScaling(scale=2.0, seed=0)\n",
    "        )\n",
    "    )\n",
    "    # dropout layer\n",
    "    network.add(\n",
    "        keras.layers.Dropout(rate, seed=0)\n",
    "    )\n",
    "    # hidden layer 2\n",
    "    network.add(\n",
    "        Dense(\n",
    "            np.floor(hidden_nodes/2), \n",
    "            activation='relu', \n",
    "            kernel_initializer=initializers.VarianceScaling(scale=2.0, seed=0)\n",
    "        )\n",
    "    )\n",
    "    # dropout layer\n",
    "    network.add(\n",
    "        keras.layers.Dropout(rate, seed=0)\n",
    "    )\n",
    "    # output layer\n",
    "    network.add(\n",
    "        Dense(\n",
    "            outputs, # number of image classes\n",
    "            activation='softmax', # 'softmax' since output layer for classification network\n",
    "            kernel_initializer=initializers.VarianceScaling(scale=1.0, seed=0)\n",
    "        )\n",
    "    )\n",
    "    return network"
   ]
  },
  {
   "cell_type": "markdown",
   "id": "9779ead2",
   "metadata": {},
   "source": [
    "### Grid search\n",
    "The networks for each 3D-view are trained independently from each other. I used grid search to tune the number of nodes in the hidden layer of each network and the optimizer used for compiling the model. I applied class weighting to compensate for imbalanced data."
   ]
  },
  {
   "cell_type": "code",
   "execution_count": 4,
   "id": "841adc8c",
   "metadata": {},
   "outputs": [],
   "source": [
    "import pandas as pd\n",
    "from sklearn.model_selection import ParameterGrid\n",
    "from sklearn.utils import class_weight\n",
    "\n",
    "# create a grid of tunable parameters\n",
    "# the same grid is used for all networks\n",
    "grid = ParameterGrid({\n",
    "    'nw__num_nodes': [2**i for i in range(6, 12)], # between 64 and 2048\n",
    "    'nw__dropout_rate': [0.5, 0.55, 0.6],\n",
    "    'nw__optimizer': ['sgd', 'adam'] # try 2 optimizers: stochastic gradient descent and Adam\n",
    "})\n",
    "\n",
    "# callback for early stopping\n",
    "early_stopping = keras.callbacks.EarlyStopping(monitor='val_loss', patience=12)\n",
    "\n",
    "def fit_network(num_nodes, optimizer, dropout_rate, X_train, y_train, X_valid, y_valid):\n",
    "    \"\"\"\n",
    "    Fit a network as defined in define_network().\n",
    "    @param num_nodes int, number of nodes in the hidden layer\n",
    "    @param optimizer string name of a tf.keras.optimizers.*\n",
    "    @params X_train, y_train, X_valid, y_valid numpy ndarrays\n",
    "    @return fitted tensorflow network ('Sequential' object), tensorflow fit history ('History' object)\n",
    "    \"\"\"\n",
    "    # define and compile the model with given number of nodes, dropout rate and optimizer\n",
    "    outputs = 6\n",
    "    network = define_network(outputs, num_nodes, dropout_rate) \n",
    "    network.compile(optimizer=optimizer, loss='sparse_categorical_crossentropy', metrics=['acc']) # \n",
    "    # combine train and validate datasets, they will be separated using a weighted split\n",
    "    X = np.concatenate([X_train, X_valid])\n",
    "    y = np.concatenate([y_train, y_valid])\n",
    "    # compute class weights, as dataset is imbalanced\n",
    "    class_weights = class_weight.compute_class_weight('balanced', np.unique(y), y)\n",
    "    # fit network on training set, compute accuracy on validation set (from notebook 3)\n",
    "    history = network.fit(\n",
    "        x=X,\n",
    "        y=y,\n",
    "        class_weight=class_weights,\n",
    "        validation_split=0.2, \n",
    "        batch_size=128, # using default batch size\n",
    "        epochs=1000, # combine many epochs with early stopping\n",
    "        callbacks=[early_stopping],\n",
    "        shuffle=True,\n",
    "        verbose=0\n",
    "    )\n",
    "    return network, history\n",
    "\n",
    "def optimize_params(X_train, y_train, X_valid, y_valid):\n",
    "    \"\"\"\n",
    "    Optimize the number of nodes in the hidden layer and the dropout rate of the network defined in define_network().\n",
    "    @params X_train, y_train, X_valid, y_valid numpy ndarrays\n",
    "    @return best_num_nodes int, best_rate float, accuracy Pandas DataFrame\n",
    "    \"\"\"\n",
    "    test_scores = []\n",
    "    for params_dict in grid:\n",
    "        network, history = fit_network(\n",
    "            params_dict['nw__num_nodes'], # keras API is not compatible with ParameterGrid, so read grid parameters by hand \n",
    "            params_dict ['nw__optimizer'],\n",
    "            params_dict['nw__dropout_rate'],\n",
    "            X_train, y_train, X_valid, y_valid)\n",
    "        params_dict['accuracy'] = history.history['val_acc'][-1] # the validation accuracy of the model, last epoch\n",
    "        test_scores.append(params_dict)\n",
    "\n",
    "    accuracy_df = pd.DataFrame(test_scores)\n",
    "    accuracy_df.sort_values(by='accuracy', ascending=False, inplace=True)\n",
    "    best_dropout_rate = accuracy_df.loc[accuracy_df['accuracy'].idxmax(), 'nw__dropout_rate']\n",
    "    best_num_nodes = accuracy_df.loc[accuracy_df['accuracy'].idxmax(), 'nw__num_nodes']\n",
    "    best_optimizer = accuracy_df.loc[accuracy_df['accuracy'].idxmax(), 'nw__optimizer']\n",
    "    return best_dropout_rate, best_num_nodes, best_optimizer, accuracy_df"
   ]
  },
  {
   "cell_type": "markdown",
   "id": "e1fb325c",
   "metadata": {},
   "source": [
    "#### Optimizing parameters for elevation view"
   ]
  },
  {
   "cell_type": "code",
   "execution_count": 5,
   "id": "555942c8",
   "metadata": {},
   "outputs": [
    {
     "name": "stdout",
     "output_type": "stream",
     "text": [
      "    accuracy  nw__dropout_rate  nw__num_nodes nw__optimizer\n",
      "15  0.758621              0.55            128          adam\n",
      "19  0.758621              0.55            512          adam\n",
      "25  0.752874              0.60             64          adam\n",
      "17  0.752874              0.55            256          adam\n",
      "11  0.752874              0.50           2048          adam\n",
      "5   0.747126              0.50            256          adam\n",
      "35  0.747126              0.60           2048          adam\n",
      "31  0.747126              0.60            512          adam\n",
      "23  0.741379              0.55           2048          adam\n",
      "13  0.735632              0.55             64          adam \n",
      "\n",
      "Best parameters for elevation view: dropout rate 0.55, nodes in hidden layer 128, optimizer \"adam\"\n",
      "\n"
     ]
    }
   ],
   "source": [
    "best_dropout_rate_elevation, best_num_nodes_elevation, best_optimizer_elevation, elevation_accuracy = optimize_params(elevation_features_train, labels_train, elevation_features_valid, labels_valid)\n",
    "print(elevation_accuracy.head(10), '\\n')\n",
    "print('Best parameters for elevation view: dropout rate {}, nodes in hidden layer {}, optimizer \"{}\"\\n'.format(best_dropout_rate_elevation, best_num_nodes_elevation, best_optimizer_elevation))"
   ]
  },
  {
   "cell_type": "markdown",
   "id": "1ee0c7fc",
   "metadata": {},
   "source": [
    "#### Optimizing parameters for plan view"
   ]
  },
  {
   "cell_type": "code",
   "execution_count": 6,
   "id": "2b4aa6d0",
   "metadata": {
    "jupyter": {
     "source_hidden": true
    }
   },
   "outputs": [
    {
     "name": "stdout",
     "output_type": "stream",
     "text": [
      "    accuracy  nw__dropout_rate  nw__num_nodes nw__optimizer\n",
      "15  0.724138              0.55            128          adam\n",
      "1   0.724138              0.50             64          adam\n",
      "9   0.706897              0.50           1024          adam\n",
      "32  0.695402              0.60           1024           sgd\n",
      "3   0.689655              0.50            128          adam\n",
      "20  0.689655              0.55           1024           sgd\n",
      "16  0.689655              0.55            256           sgd\n",
      "29  0.683908              0.60            256          adam\n",
      "26  0.683908              0.60            128           sgd\n",
      "19  0.683908              0.55            512          adam \n",
      "\n",
      "Best parameters for plan view: dropout rate 0.55, nodes in hidden layer 128, optimizer \"adam\"\n",
      "\n"
     ]
    }
   ],
   "source": [
    "best_dropout_rate_plan, best_num_nodes_plan, best_optimizer_plan, plan_accuracy = optimize_params(plan_features_train, labels_train, plan_features_valid, labels_valid)\n",
    "print(plan_accuracy.head(10), '\\n')\n",
    "print('Best parameters for plan view: dropout rate {}, nodes in hidden layer {}, optimizer \"{}\"\\n'.format(best_dropout_rate_plan, best_num_nodes_plan, best_optimizer_plan))"
   ]
  },
  {
   "cell_type": "markdown",
   "id": "b2e86082",
   "metadata": {},
   "source": [
    "#### Optimizing parameters for section view"
   ]
  },
  {
   "cell_type": "code",
   "execution_count": 7,
   "id": "d3ac0b18",
   "metadata": {
    "jupyter": {
     "source_hidden": true
    }
   },
   "outputs": [
    {
     "name": "stdout",
     "output_type": "stream",
     "text": [
      "    accuracy  nw__dropout_rate  nw__num_nodes nw__optimizer\n",
      "35  0.798851              0.60           2048          adam\n",
      "1   0.787356              0.50             64          adam\n",
      "33  0.781609              0.60           1024          adam\n",
      "11  0.775862              0.50           2048          adam\n",
      "17  0.770115              0.55            256          adam\n",
      "29  0.770115              0.60            256          adam\n",
      "31  0.764368              0.60            512          adam\n",
      "7   0.758621              0.50            512          adam\n",
      "9   0.758621              0.50           1024          adam\n",
      "25  0.752874              0.60             64          adam \n",
      "\n",
      "Best parameters for section view: dropout rate 0.6, nodes in hidden layer 2048, optimizer \"adam\"\n",
      "\n"
     ]
    }
   ],
   "source": [
    "best_dropout_rate_section, best_num_nodes_section, best_optimizer_section, section_accuracy = optimize_params(section_features_train, labels_train, section_features_valid, labels_valid)\n",
    "print(section_accuracy.head(10), '\\n')\n",
    "print('Best parameters for section view: dropout rate {}, nodes in hidden layer {}, optimizer \"{}\"\\n'.format(best_dropout_rate_section, best_num_nodes_section, best_optimizer_section))"
   ]
  },
  {
   "cell_type": "markdown",
   "id": "41455a9c",
   "metadata": {},
   "source": [
    "### Define and fit each network\n",
    "For each 3D-view, define a network with the optimal number of nodes in the hidden layer as determined in the previous step, fit the network."
   ]
  },
  {
   "cell_type": "code",
   "execution_count": 9,
   "id": "8520e801",
   "metadata": {},
   "outputs": [],
   "source": [
    "# define and fit a network for each 3D-view\n",
    "elevation_network, elevation_history = fit_network(best_num_nodes_elevation, best_optimizer_elevation, best_dropout_rate_elevation, elevation_features_train, labels_train, elevation_features_valid, labels_valid)\n",
    "plan_network, plan_history = fit_network(best_num_nodes_plan, best_optimizer_plan, best_dropout_rate_plan, plan_features_train, labels_train, plan_features_valid, labels_valid)\n",
    "section_network, section_history = fit_network(best_num_nodes_section, best_optimizer_section, best_dropout_rate_section, section_features_train, labels_train, section_features_valid, labels_valid)"
   ]
  },
  {
   "cell_type": "markdown",
   "id": "56afddb7",
   "metadata": {},
   "source": [
    "### Examine the networks' accuracy and loss\n",
    "I plotted the accuracy and loss curves of each network (separately) to determine if the network is overfitting. \n",
    "* __Accuracy__: The training and validation curves reach a plateau as the number of epochs increases. \n",
    "* __Loss__: The validation curves don't show an increased loss as the number of epochs increases, so the models are not overfitting. "
   ]
  },
  {
   "cell_type": "code",
   "execution_count": 10,
   "id": "c31769f5",
   "metadata": {
    "jupyter": {
     "source_hidden": true
    }
   },
   "outputs": [
    {
     "data": {
      "image/png": "[encoded data removed]",
      "text/plain": [
       "<Figure size 1440x864 with 6 Axes>"
      ]
     },
     "metadata": {
      "needs_background": "light"
     },
     "output_type": "display_data"
    }
   ],
   "source": [
    "%matplotlib inline\n",
    "import matplotlib.pyplot as plt\n",
    "import numpy as np\n",
    "\n",
    "def plot_accuracy(ax, history, title):\n",
    "    ax.plot(history.history['acc'], label='train')\n",
    "    ax.plot(history.history['val_acc'], label='validation')\n",
    "    ax.set_xlabel('epoch')\n",
    "    ax.set_ylabel('accuracy')\n",
    "    ax.set_title(title)\n",
    "\n",
    "def plot_loss(ax, history, title):\n",
    "    ax.plot(history.history['loss'], label='train')\n",
    "    ax.plot(history.history['val_loss'], label='validation')\n",
    "    ax.set_xlabel('epoch')\n",
    "    ax.set_ylabel('accuracy')\n",
    "    ax.set_title(title)\n",
    "\n",
    "fig, ax = plt.subplots(2, 3, figsize=(20, 12))\n",
    "plot_accuracy(ax[0, 0], elevation_history, 'Elevation accuracy')\n",
    "plot_accuracy(ax[0, 1], plan_history, 'Plan accuracy')\n",
    "plot_accuracy(ax[0, 2], section_history, 'Section accuracy')\n",
    "plot_loss(ax[1, 0], elevation_history, 'Elevation loss')\n",
    "plot_loss(ax[1, 1], plan_history, 'Plan loss')\n",
    "plot_loss(ax[1, 2], section_history, 'Section loss')\n",
    "plt.legend(loc='upper right', bbox_to_anchor=(1.4, 1))\n",
    "plt.show();"
   ]
  },
  {
   "cell_type": "markdown",
   "id": "101d3ae6",
   "metadata": {},
   "source": [
    "### Accuracy on the test set for each network"
   ]
  },
  {
   "cell_type": "code",
   "execution_count": 11,
   "id": "33bf966a",
   "metadata": {
    "jupyter": {
     "source_hidden": true
    }
   },
   "outputs": [
    {
     "name": "stdout",
     "output_type": "stream",
     "text": [
      "The accuracy for the network trained on the elevation views on the test set is 0.84\n",
      "The accuracy for the network trained on the plan views on the test set is 0.70\n",
      "The accuracy for the network trained on the section views on the test set is 0.82\n"
     ]
    }
   ],
   "source": [
    "elevation_score = elevation_network.evaluate(elevation_features_test, labels_test, verbose=0)[1]\n",
    "print('The accuracy for the network trained on the elevation views on the test set is {:.2f}'.format(elevation_score))\n",
    "plan_score = plan_network.evaluate(plan_features_test, labels_test, verbose=0)[1]\n",
    "print('The accuracy for the network trained on the plan views on the test set is {:.2f}'.format(plan_score))\n",
    "section_score = section_network.evaluate(section_features_test, labels_test, verbose=0)[1]\n",
    "print('The accuracy for the network trained on the section views on the test set is {:.2f}'.format(section_score))"
   ]
  },
  {
   "cell_type": "markdown",
   "id": "2a9702a8",
   "metadata": {},
   "source": [
    "## Combine results\n",
    "The results of the individual classifiers have to be combined into one final result for the ensemble. I tried out 2 methods to achieve this: k-nn and logistic regression."
   ]
  },
  {
   "cell_type": "code",
   "execution_count": 12,
   "id": "2040afa1",
   "metadata": {},
   "outputs": [],
   "source": [
    "# predictions for train set\n",
    "pred_elevation_train = elevation_network.predict(elevation_features_train)\n",
    "pred_plan_train = plan_network.predict(plan_features_train)\n",
    "pred_section_train = section_network.predict(section_features_train)\n",
    "pred_train = [np.concatenate([pred_elevation_train[i], pred_plan_train[i], pred_section_train[i]]) for i,_ in enumerate(labels_train)]\n",
    "\n",
    "# predictions for validation set\n",
    "pred_elevation_valid = elevation_network.predict(elevation_features_valid)\n",
    "pred_plan_valid = plan_network.predict(plan_features_valid)\n",
    "pred_section_valid = section_network.predict(section_features_valid)\n",
    "pred_valid = [np.concatenate([pred_elevation_valid[i], pred_plan_valid[i], pred_section_valid[i]]) for i,_ in enumerate(labels_valid)]\n",
    "\n",
    "# predictions for test set\n",
    "pred_elevation_test = elevation_network.predict(elevation_features_test)\n",
    "pred_plan_test = plan_network.predict(plan_features_test)\n",
    "pred_section_test = section_network.predict(section_features_test)\n",
    "pred_test = [np.concatenate([pred_elevation_test[i], pred_plan_test[i], pred_section_test[i]]) for i,_ in enumerate(labels_test)]\n"
   ]
  },
  {
   "cell_type": "markdown",
   "id": "e1d57144",
   "metadata": {},
   "source": [
    "### Combine using k-NN\n",
    "The output of the 3d-views classifiers are 3 arrays of probabilities. Each array element contains the probabilities associated with an element in the dataset. These probabilities are an array of 6 entries, one for each class.\n",
    "\n",
    "* The input of the final classifier is therefore an array of 18 elements\n",
    "* when using k-NN, the number of neighbors can be tuned using grid search\n",
    "* The output is an array of 6 elements, one for each class\n",
    "\n",
    "Several parameters can be tuned in the scikit-learn implementation of k-NN. According to the [documentation](https://scikit-learn.org/stable/modules/generated/sklearn.neighbors.KNeighborsClassifier.html), these are:\n",
    "* n_neighbors: the number of neighbors\n",
    "* algorithm: the algorithm used to compute the nearest neighbors\n",
    "* metric: the distance metric\n",
    "* p: only used when algorithm is 'minkowski'\n",
    "* weight: the weight of the neighbors according to the distance (not to be confused with class weight)"
   ]
  },
  {
   "cell_type": "code",
   "execution_count": 13,
   "id": "de73565b",
   "metadata": {
    "jupyter": {
     "source_hidden": true
    }
   },
   "outputs": [
    {
     "data": {
      "text/html": [
       "<div>\n",
       "<style scoped>\n",
       "    .dataframe tbody tr th:only-of-type {\n",
       "        vertical-align: middle;\n",
       "    }\n",
       "\n",
       "    .dataframe tbody tr th {\n",
       "        vertical-align: top;\n",
       "    }\n",
       "\n",
       "    .dataframe thead th {\n",
       "        text-align: right;\n",
       "    }\n",
       "</style>\n",
       "<table border=\"1\" class=\"dataframe\">\n",
       "  <thead>\n",
       "    <tr style=\"text-align: right;\">\n",
       "      <th></th>\n",
       "      <th>algorithm</th>\n",
       "      <th>metric</th>\n",
       "      <th>n_neighbors</th>\n",
       "      <th>p</th>\n",
       "      <th>score</th>\n",
       "      <th>weights</th>\n",
       "    </tr>\n",
       "  </thead>\n",
       "  <tbody>\n",
       "    <tr>\n",
       "      <th>435</th>\n",
       "      <td>kd_tree</td>\n",
       "      <td>minkowski</td>\n",
       "      <td>5</td>\n",
       "      <td>1.0</td>\n",
       "      <td>0.864583</td>\n",
       "      <td>distance</td>\n",
       "    </tr>\n",
       "    <tr>\n",
       "      <th>161</th>\n",
       "      <td>kd_tree</td>\n",
       "      <td>manhattan</td>\n",
       "      <td>5</td>\n",
       "      <td>NaN</td>\n",
       "      <td>0.864583</td>\n",
       "      <td>distance</td>\n",
       "    </tr>\n",
       "    <tr>\n",
       "      <th>498</th>\n",
       "      <td>brute</td>\n",
       "      <td>minkowski</td>\n",
       "      <td>2</td>\n",
       "      <td>1.0</td>\n",
       "      <td>0.864583</td>\n",
       "      <td>uniform</td>\n",
       "    </tr>\n",
       "    <tr>\n",
       "      <th>268</th>\n",
       "      <td>brute</td>\n",
       "      <td>manhattan</td>\n",
       "      <td>2</td>\n",
       "      <td>NaN</td>\n",
       "      <td>0.864583</td>\n",
       "      <td>uniform</td>\n",
       "    </tr>\n",
       "    <tr>\n",
       "      <th>154</th>\n",
       "      <td>kd_tree</td>\n",
       "      <td>manhattan</td>\n",
       "      <td>2</td>\n",
       "      <td>NaN</td>\n",
       "      <td>0.864583</td>\n",
       "      <td>uniform</td>\n",
       "    </tr>\n",
       "  </tbody>\n",
       "</table>\n",
       "</div>"
      ],
      "text/plain": [
       "    algorithm     metric  n_neighbors    p     score   weights\n",
       "435   kd_tree  minkowski            5  1.0  0.864583  distance\n",
       "161   kd_tree  manhattan            5  NaN  0.864583  distance\n",
       "498     brute  minkowski            2  1.0  0.864583   uniform\n",
       "268     brute  manhattan            2  NaN  0.864583   uniform\n",
       "154   kd_tree  manhattan            2  NaN  0.864583   uniform"
      ]
     },
     "execution_count": 13,
     "metadata": {},
     "output_type": "execute_result"
    }
   ],
   "source": [
    "import pandas as pd\n",
    "from sklearn.model_selection import ParameterGrid\n",
    "from sklearn.neighbors import KNeighborsClassifier\n",
    "\n",
    "# create a grid of tunable parameters\n",
    "grid_knn = ParameterGrid([\n",
    "    {\n",
    "        'n_neighbors': range(1, 20),\n",
    "        'weights': ['uniform', 'distance'],\n",
    "        'algorithm': ['ball_tree', 'kd_tree', 'brute'],\n",
    "        'metric': ['euclidean', 'manhattan', 'chebyshev']\n",
    "    },\n",
    "    {\n",
    "        'n_neighbors': range(1, 20),\n",
    "        'weights': ['uniform', 'distance'],\n",
    "        'algorithm': ['ball_tree', 'kd_tree', 'brute'],\n",
    "        'p': [1, 2], # L1 or L2\n",
    "        'metric': ['minkowski']\n",
    "    }\n",
    "])\n",
    "\n",
    "gs_results_knn = []\n",
    "for params_dict in grid_knn:\n",
    "    knn = KNeighborsClassifier().set_params(**params_dict) # sklearn API can set parameters directly from grid object\n",
    "    knn.fit(pred_train, labels_train)\n",
    "    params_dict['score'] = knn.score(pred_valid, labels_valid)\n",
    "    gs_results_knn.append(params_dict)\n",
    "    \n",
    "gs_results_knn = pd.DataFrame(gs_results_knn)\n",
    "gs_results_knn.sort_values(by='score', ascending=False).head()"
   ]
  },
  {
   "cell_type": "markdown",
   "id": "bf9e5690",
   "metadata": {},
   "source": [
    "#### Accuracy on the test set of the complete ensemble using k-NN"
   ]
  },
  {
   "cell_type": "code",
   "execution_count": 14,
   "id": "be660c7c",
   "metadata": {},
   "outputs": [
    {
     "name": "stdout",
     "output_type": "stream",
     "text": [
      "The score for the ensemble using k-NN: 0.87\n"
     ]
    }
   ],
   "source": [
    "best_params = grid_knn[gs_results_knn['score'].idxmax()]\n",
    "knn = KNeighborsClassifier().set_params(**best_params).fit(pred_train, labels_train)\n",
    "ensemble_score_knn = knn.score(pred_test, labels_test)\n",
    "print('The score for the ensemble using k-NN: {:.2f}'.format(ensemble_score_knn))"
   ]
  },
  {
   "cell_type": "markdown",
   "id": "d8eab9f8",
   "metadata": {},
   "source": [
    "### Combine using logistic regression\n",
    "Inputs and outputs are the same as for k-NN, [tunable parameters](https://scikit-learn.org/stable/modules/generated/sklearn.linear_model.LogisticRegression.html) are \n",
    "* the inverse regularization C\n",
    "* the solver algorithm. I did not use solvers saga and sag, as these were throwing too many convergence warnings\n",
    "* the penalty, depending on the algorithm used\n",
    "\n",
    "Max iterations is set to a high value, to avoid convergence warnings.\n",
    "\n",
    "The class weight is set to 'balanced', which should adjust weights according to the class frequencies in the input data."
   ]
  },
  {
   "cell_type": "code",
   "execution_count": 15,
   "id": "152bac48",
   "metadata": {
    "jupyter": {
     "source_hidden": true
    }
   },
   "outputs": [
    {
     "data": {
      "text/html": [
       "<div>\n",
       "<style scoped>\n",
       "    .dataframe tbody tr th:only-of-type {\n",
       "        vertical-align: middle;\n",
       "    }\n",
       "\n",
       "    .dataframe tbody tr th {\n",
       "        vertical-align: top;\n",
       "    }\n",
       "\n",
       "    .dataframe thead th {\n",
       "        text-align: right;\n",
       "    }\n",
       "</style>\n",
       "<table border=\"1\" class=\"dataframe\">\n",
       "  <thead>\n",
       "    <tr style=\"text-align: right;\">\n",
       "      <th></th>\n",
       "      <th>C</th>\n",
       "      <th>class_weight</th>\n",
       "      <th>max_iter</th>\n",
       "      <th>penalty</th>\n",
       "      <th>score</th>\n",
       "      <th>solver</th>\n",
       "    </tr>\n",
       "  </thead>\n",
       "  <tbody>\n",
       "    <tr>\n",
       "      <th>21</th>\n",
       "      <td>1.274275</td>\n",
       "      <td>balanced</td>\n",
       "      <td>2000</td>\n",
       "      <td>l2</td>\n",
       "      <td>0.854167</td>\n",
       "      <td>lbfgs</td>\n",
       "    </tr>\n",
       "    <tr>\n",
       "      <th>20</th>\n",
       "      <td>1.274275</td>\n",
       "      <td>balanced</td>\n",
       "      <td>2000</td>\n",
       "      <td>l2</td>\n",
       "      <td>0.854167</td>\n",
       "      <td>newton-cg</td>\n",
       "    </tr>\n",
       "    <tr>\n",
       "      <th>23</th>\n",
       "      <td>2.069138</td>\n",
       "      <td>balanced</td>\n",
       "      <td>2000</td>\n",
       "      <td>l2</td>\n",
       "      <td>0.848958</td>\n",
       "      <td>lbfgs</td>\n",
       "    </tr>\n",
       "    <tr>\n",
       "      <th>25</th>\n",
       "      <td>3.359818</td>\n",
       "      <td>balanced</td>\n",
       "      <td>2000</td>\n",
       "      <td>l2</td>\n",
       "      <td>0.848958</td>\n",
       "      <td>lbfgs</td>\n",
       "    </tr>\n",
       "    <tr>\n",
       "      <th>24</th>\n",
       "      <td>3.359818</td>\n",
       "      <td>balanced</td>\n",
       "      <td>2000</td>\n",
       "      <td>l2</td>\n",
       "      <td>0.848958</td>\n",
       "      <td>newton-cg</td>\n",
       "    </tr>\n",
       "  </tbody>\n",
       "</table>\n",
       "</div>"
      ],
      "text/plain": [
       "           C class_weight  max_iter penalty     score     solver\n",
       "21  1.274275     balanced      2000      l2  0.854167      lbfgs\n",
       "20  1.274275     balanced      2000      l2  0.854167  newton-cg\n",
       "23  2.069138     balanced      2000      l2  0.848958      lbfgs\n",
       "25  3.359818     balanced      2000      l2  0.848958      lbfgs\n",
       "24  3.359818     balanced      2000      l2  0.848958  newton-cg"
      ]
     },
     "execution_count": 15,
     "metadata": {},
     "output_type": "execute_result"
    }
   ],
   "source": [
    "from sklearn.linear_model import LogisticRegression\n",
    "\n",
    "# create a grid of tunable parameters\n",
    "grid_logreg = ParameterGrid([\n",
    "    {\n",
    "        'C': np.logspace(-2, 2, num=20), # inverse regularization\n",
    "        'solver': ['newton-cg', 'lbfgs'],\n",
    "        'penalty': ['l2'], # these solvers no l1\n",
    "        'max_iter': [2000], # avoid 'coefficient did not converge' warnings\n",
    "        'class_weight': ['balanced'] # adjust weights inversely proportional to class frequencies \n",
    "    },\n",
    "    {\n",
    "        'C': np.logspace(-2, 2, num=20), # inverse regularization\n",
    "        'solver': ['liblinear'],\n",
    "        'penalty': ['l1', 'l2'],\n",
    "        'max_iter': [2000], # avoid 'coefficient did not converge' warnings\n",
    "        'class_weight': ['balanced'] # adjust weights inversely proportional to class frequencies \n",
    "    },\n",
    "])\n",
    "\n",
    "gs_results_logreg = []\n",
    "for params_dict in grid_logreg:\n",
    "    logreg = LogisticRegression().set_params(**params_dict) # sklearn API can set parameters directly from grid object\n",
    "    logreg.fit(pred_train, labels_train)\n",
    "    params_dict['score'] = logreg.score(pred_valid, labels_valid)\n",
    "    gs_results_logreg.append(params_dict)\n",
    "    \n",
    "gs_results_logreg = pd.DataFrame(gs_results_logreg)\n",
    "gs_results_logreg.sort_values(by='score', ascending=False).head()\n"
   ]
  },
  {
   "cell_type": "markdown",
   "id": "a648c18e",
   "metadata": {},
   "source": [
    "#### Accuracy on the test set of the complete ensemble using logistic regression"
   ]
  },
  {
   "cell_type": "code",
   "execution_count": 16,
   "id": "cdc1ab0f",
   "metadata": {
    "jupyter": {
     "source_hidden": true
    }
   },
   "outputs": [
    {
     "name": "stdout",
     "output_type": "stream",
     "text": [
      "The score for the ensemble using logistic regression: 0.89\n"
     ]
    }
   ],
   "source": [
    "best_params = grid_logreg[gs_results_logreg['score'].idxmax()]\n",
    "logreg = LogisticRegression().set_params(**best_params).fit(pred_train, labels_train)\n",
    "ensemble_score_logreg = logreg.score(pred_test, labels_test)\n",
    "print('The score for the ensemble using logistic regression: {:.2f}'.format(ensemble_score_logreg))"
   ]
  },
  {
   "cell_type": "markdown",
   "id": "ba4050c6",
   "metadata": {},
   "source": [
    "## Score comparisons"
   ]
  },
  {
   "cell_type": "code",
   "execution_count": 17,
   "id": "4cc2aa42",
   "metadata": {
    "jupyter": {
     "source_hidden": true
    }
   },
   "outputs": [
    {
     "data": {
      "image/png": "[encoded data removed]",
      "text/plain": [
       "<Figure size 432x288 with 1 Axes>"
      ]
     },
     "metadata": {
      "needs_background": "light"
     },
     "output_type": "display_data"
    }
   ],
   "source": [
    "%matplotlib inline\n",
    "import matplotlib.pyplot as plt\n",
    "\n",
    "plt.barh(['Baseline', 'Elevation only', 'Plan only', 'Section only', 'Ensemble k-NN', 'Ensemble logreg'], \n",
    "         width=[baseline_score_test, elevation_score, plan_score, section_score, ensemble_score_knn, ensemble_score_logreg])\n",
    "plt.xlabel('Accuracy')\n",
    "plt.ylabel('')\n",
    "plt.title('Classification accuracy')\n",
    "plt.show();"
   ]
  },
  {
   "cell_type": "code",
   "execution_count": 18,
   "id": "d67dc026",
   "metadata": {
    "jupyter": {
     "source_hidden": true
    }
   },
   "outputs": [],
   "source": [
    "# predictions for test set\n",
    "pred_3d_only_knn = knn.predict(pred_test)\n",
    "pred_3d_only_logreg = logreg.predict(pred_test)\n",
    "\n",
    "# save to compressed file\n",
    "np.savez_compressed(os.path.join('production', 'predictions.npz'),\n",
    "    pred_3d_only_knn = pred_3d_only_knn,\n",
    "    pred_3d_only_logreg = pred_3d_only_logreg\n",
    ")"
   ]
  },
  {
   "cell_type": "markdown",
   "id": "2dd34b48",
   "metadata": {},
   "source": [
    "### Preliminary conclusion\n",
    "The classifier ensemble (using 3D-views data only and 6 output classes) reached comparable accuracy on the test dataset using k-NN or logistic regression as the final classifier. The classifier ensemble reached a better accuracy than any of its components alone. All classifiers performed better than the most-common-baseline."
   ]
  },
  {
   "cell_type": "code",
   "execution_count": null,
   "id": "e90acdb3",
   "metadata": {
    "jupyter": {
     "source_hidden": true
    }
   },
   "outputs": [],
   "source": []
  },
  {
   "cell_type": "markdown",
   "id": "73b965bb",
   "metadata": {},
   "source": [
    "### Save the predictions of the ensemble for later use\n",
    "In the final notebook, I will analyse the predictions of the classifiers in this notebook in depth."
   ]
  }
 ],
 "metadata": {
  "kernelspec": {
   "display_name": "Python 3",
   "language": "python",
   "name": "python3"
  },
  "language_info": {
   "codemirror_mode": {
    "name": "ipython",
    "version": 3
   },
   "file_extension": ".py",
   "mimetype": "text/x-python",
   "name": "python",
   "nbconvert_exporter": "python",
   "pygments_lexer": "ipython3",
   "version": "3.6.13"
  }
 },
 "nbformat": 4,
 "nbformat_minor": 5
}
