{
 "cells": [
  {
   "cell_type": "markdown",
   "id": "4826d667",
   "metadata": {},
   "source": [
    "# Dense networks for 3D images\n",
    "Each object is represented by 3 views (elevation, plan, section) and a texture image. However, not all objects have a texture image. Therefore, __in this notebook__ I will train and evaluate an ensemble of 3 classifiers (fig. 1), one for each 3D-view, using all the data (split in train, validate and test datasets). In the next notebook, I will add a texture classifier and re-train the ensemble using only the objects for which a texture was provided.\n",
    "\n",
    "<img src=\"fig/ML_3D_only.png\">\n",
    "\n",
    "_Figure 1: Overview of the classifier ensemble using only 3D views._\n"
   ]
  },
  {
   "cell_type": "markdown",
   "id": "d8fddb7e",
   "metadata": {},
   "source": [
    "## Load feature data"
   ]
  },
  {
   "cell_type": "code",
   "execution_count": 1,
   "id": "ee459bf6",
   "metadata": {},
   "outputs": [],
   "source": [
    "import numpy as np\n",
    "import os\n",
    "from sklearn.preprocessing import LabelEncoder\n",
    "\n",
    "PROD_DIR = 'production' # interim production files\n",
    "\n",
    "# Reload extracted features from train dataset\n",
    "with np.load(os.path.join(PROD_DIR, 'features_point_clouds_train.npz'), allow_pickle=True) as data:\n",
    "    data_dict = dict(data.items())\n",
    "    metadata_train = data_dict['metadata']\n",
    "    elevation_features_train = data_dict['elevation_features']\n",
    "    plan_features_train = data_dict['plan_features']\n",
    "    section_features_train = data_dict['section_features']\n",
    "\n",
    "# encode labels as ints\n",
    "labels_train = LabelEncoder().fit_transform(metadata_train[:, 3]) # 'period' is the 3rd column\n",
    "    \n",
    "# Reload extracted features from validate dataset\n",
    "with np.load(os.path.join(PROD_DIR, 'features_point_clouds_validate.npz'), allow_pickle=True) as data:\n",
    "    data_dict = dict(data.items())\n",
    "    metadata_valid = data_dict['metadata']\n",
    "    elevation_features_valid = data_dict['elevation_features']\n",
    "    plan_features_valid = data_dict['plan_features']\n",
    "    section_features_valid = data_dict['section_features']\n",
    "\n",
    "# encode labels as ints\n",
    "labels_valid = LabelEncoder().fit_transform(metadata_valid[:, 3]) # 'period' is the 3rd column\n",
    "\n",
    "# Reload extracted features from test dataset\n",
    "with np.load(os.path.join(PROD_DIR, 'features_point_clouds_test.npz'), allow_pickle=True) as data:\n",
    "    data_dict = dict(data.items())\n",
    "    metadata_test = data_dict['metadata']\n",
    "    elevation_features_test = data_dict['elevation_features']\n",
    "    plan_features_test = data_dict['plan_features']\n",
    "    section_features_test = data_dict['section_features']\n",
    "\n",
    "# encode labels as ints\n",
    "labels_test = LabelEncoder().fit_transform(metadata_test[:, 3]) # 'period' is the 3rd column\n"
   ]
  },
  {
   "cell_type": "markdown",
   "id": "842c1678",
   "metadata": {},
   "source": [
    "## Baseline"
   ]
  },
  {
   "cell_type": "code",
   "execution_count": 2,
   "id": "eccd58f6",
   "metadata": {},
   "outputs": [
    {
     "name": "stdout",
     "output_type": "stream",
     "text": [
      "The accuracy of the most frequent baseline is 0.34.\n"
     ]
    }
   ],
   "source": [
    "from sklearn.dummy import DummyClassifier\n",
    "\n",
    "dummy = DummyClassifier(strategy='most_frequent')\n",
    "dummy.fit(elevation_features_train, labels_train)\n",
    "baseline_score = dummy.score(elevation_features_valid, labels_valid)\n",
    "print('The accuracy of the most frequent baseline is {:.2f}.'.format(baseline_score))"
   ]
  },
  {
   "cell_type": "markdown",
   "id": "a96cd1ba",
   "metadata": {},
   "source": [
    "## Define dense networks\n",
    "\n",
    "For each of the 3D-views, I implemented a dense network with multiple layers:\n",
    "\n",
    "* The input data for the network are 2048 high-level features extracted from each of the 3d-views in the previous notebook.\n",
    "* The data is not linearly separable (notebook 3), therfore this network needs a hidden layer. Chosing the number of nodes in the hidden layer is a problem for which [some heristics](http://www.faqs.org/faqs/ai-faq/neural-nets/part3/section-10.html) exist, but no definitive answer. \n",
    "* I added a dropout layer with a dropout rate of 0.5, to prevent overfitting.\n",
    "* The images are in 6 classes ('Bronze Age', 'Iron Age', etc.), therefore the network requires 6 outputs.\n",
    "\n",
    "I chose to implement the network using Keras."
   ]
  },
  {
   "cell_type": "code",
   "execution_count": 3,
   "id": "b2efd674",
   "metadata": {},
   "outputs": [],
   "source": [
    "import warnings\n",
    "warnings.simplefilter(action='ignore', category=FutureWarning)\n",
    "import tensorflow as tf\n",
    "import tensorflow.keras as keras\n",
    "from tensorflow.keras import Sequential\n",
    "from tensorflow.keras.layers import Dense\n",
    "from tensorflow.keras import activations\n",
    "from tensorflow.keras import initializers\n",
    "\n",
    "def define_network(outputs, hidden_nodes, rate):\n",
    "    \"\"\"\n",
    "    Defines a multi-layer dense network with a hidden and a dropout layer.\n",
    "    @param out_nodes: int, number of outputs\n",
    "    @param hidden_nodes: int, number of nodes in the hidden layer\n",
    "    @param rate: float, rate of the dropout layer\n",
    "    \"\"\"\n",
    "    network = Sequential()\n",
    "    # hidden layer\n",
    "    network.add(\n",
    "        Dense(\n",
    "            hidden_nodes, \n",
    "            activation='relu', \n",
    "            kernel_initializer=initializers.VarianceScaling(scale=2.0, seed=0)\n",
    "        )\n",
    "    )\n",
    "    # dropout layer\n",
    "    network.add(\n",
    "        keras.layers.Dropout(rate, seed=0)\n",
    "    )\n",
    "    # output layer\n",
    "    network.add(\n",
    "        Dense(\n",
    "            outputs, # number of image classes\n",
    "            activation='softmax', # 'softmax' since output layer for classification network\n",
    "            kernel_initializer=initializers.VarianceScaling(scale=1.0, seed=0)\n",
    "        )\n",
    "    )\n",
    "    return network"
   ]
  },
  {
   "cell_type": "markdown",
   "id": "af6132ae",
   "metadata": {},
   "source": [
    "### Grid search\n",
    "The networks for each 3D-view are trained independently from each other. I used grid search to tune the number of nodes in the hidden layer (between 8 and 128) and the dropout rate (between 0.4 and 0.7) of each network."
   ]
  },
  {
   "cell_type": "code",
   "execution_count": 4,
   "id": "34736a2e",
   "metadata": {},
   "outputs": [],
   "source": [
    "import pandas as pd\n",
    "from sklearn.model_selection import ParameterGrid\n",
    "\n",
    "# create a grid of tunable parameters\n",
    "# the same grid is used for all networks\n",
    "grid = ParameterGrid({\n",
    "    'nw__num_nodes': [2**i for i in range(3, 12)], # between 8 and 2048\n",
    "    'nw__dropout_rate': [0.5] #  actually, the dropout rate doesn't change the result in this case\n",
    "})\n",
    "\n",
    "# callback for early stopping\n",
    "early_stopping = keras.callbacks.EarlyStopping(monitor='val_loss', patience=6)\n",
    "\n",
    "def fit_network(num_nodes, dropout_rate, X_train, y_train, X_valid, y_valid):\n",
    "    \"\"\"\n",
    "    Fit a network as defined in define_network().\n",
    "    @param best_num_nodes int, number of nodes in the hidden layer\n",
    "    @params X_train, y_train, X_valid, y_valid numpy ndarrays\n",
    "    @return fitted tensorflow network ('Sequential' object), tensorflow fit history ('History' object)\n",
    "    \"\"\"\n",
    "    # define and compile the model with best number of nodes and rate\n",
    "    outputs = 6\n",
    "    network = define_network(outputs, num_nodes, dropout_rate) \n",
    "    network.compile(optimizer='sgd', loss='sparse_categorical_crossentropy', metrics=['acc']) # using defaults\n",
    "    # fit network on training set, compute accuracy on validation set (from notebook 3)\n",
    "    history = network.fit(\n",
    "        x=X_train,\n",
    "        y=y_train,\n",
    "        validation_data=(X_valid, y_valid), # do not use split, feed validation data directly\n",
    "        batch_size=256, # using a batch size larger than the default\n",
    "        epochs=1000, # combine many epochs with early stopping\n",
    "        callbacks=[early_stopping],\n",
    "        shuffle=True,\n",
    "        verbose=0\n",
    "    )\n",
    "    return network, history\n",
    "\n",
    "def optimize_params(X_train, y_train, X_valid, y_valid):\n",
    "    \"\"\"\n",
    "    Optimize the number of nodes in the hidden layer and the dropout rate of the network defined in define_network().\n",
    "    @params X_train, y_train, X_valid, y_valid numpy ndarrays\n",
    "    @return best_num_nodes int, best_rate float, accuracy Pandas DataFrame\n",
    "    \"\"\"\n",
    "    test_scores = []\n",
    "    for params_dict in grid:\n",
    "        # keras API is not compatible with ParameterGrid, so read grid parameters by hand\n",
    "        network, history = fit_network(\n",
    "            params_dict['nw__num_nodes'], \n",
    "            params_dict['nw__dropout_rate'], \n",
    "            X_train, y_train, X_valid, y_valid)\n",
    "        params_dict['accuracy'] = history.history['val_acc'][-1] # the validation accuracy of the model, last epoch\n",
    "        test_scores.append(params_dict)\n",
    "\n",
    "    accuracy_df = pd.DataFrame(test_scores)\n",
    "    accuracy_df.sort_values(by='accuracy', ascending=False, inplace=True)\n",
    "    best_num_nodes = accuracy_df.loc[accuracy_df['accuracy'].idxmax(), 'nw__num_nodes']\n",
    "    best_rate = accuracy_df.loc[accuracy_df['accuracy'].idxmax(), 'nw__dropout_rate']\n",
    "    return best_num_nodes, best_rate, accuracy_df"
   ]
  },
  {
   "cell_type": "markdown",
   "id": "1cb5ad49",
   "metadata": {},
   "source": [
    "#### Optimizing number of nodes in hidden layer for elevation view"
   ]
  },
  {
   "cell_type": "code",
   "execution_count": 5,
   "id": "fdbd34bf",
   "metadata": {},
   "outputs": [
    {
     "name": "stdout",
     "output_type": "stream",
     "text": [
      "   accuracy  nw__dropout_rate  nw__num_nodes\n",
      "8  0.708333               0.5           2048\n",
      "5  0.697917               0.5            256\n",
      "7  0.697917               0.5           1024\n",
      "6  0.687500               0.5            512\n",
      "3  0.682292               0.5             64\n",
      "1  0.677083               0.5             16\n",
      "2  0.677083               0.5             32\n",
      "4  0.677083               0.5            128\n",
      "0  0.666667               0.5              8 \n",
      "\n",
      "Best parameters for elevation view, nodes in hidden layer 2048, dropout rate 0.5\n",
      "\n"
     ]
    }
   ],
   "source": [
    "best_num_nodes_elevation, best_rate_elevation, elevation_accuracy = optimize_params(elevation_features_train, labels_train, elevation_features_valid, labels_valid)\n",
    "print(elevation_accuracy.head(10), '\\n')\n",
    "print('Best parameters for elevation view, nodes in hidden layer {}, dropout rate {}\\n'.format(best_num_nodes_elevation, best_rate_elevation))"
   ]
  },
  {
   "cell_type": "markdown",
   "id": "1186e850",
   "metadata": {},
   "source": [
    "#### Optimizing number of nodes in hidden layer for plan view"
   ]
  },
  {
   "cell_type": "code",
   "execution_count": 6,
   "id": "d4541f5e",
   "metadata": {},
   "outputs": [
    {
     "name": "stdout",
     "output_type": "stream",
     "text": [
      "   accuracy  nw__dropout_rate  nw__num_nodes\n",
      "3  0.692708               0.5             64\n",
      "2  0.677083               0.5             32\n",
      "5  0.677083               0.5            256\n",
      "8  0.671875               0.5           2048\n",
      "1  0.666667               0.5             16\n",
      "7  0.666667               0.5           1024\n",
      "0  0.661458               0.5              8\n",
      "4  0.656250               0.5            128\n",
      "6  0.656250               0.5            512 \n",
      "\n",
      "Best parameters for plan view, nodes in hidden layer 64, dropout rate 0.5\n",
      "\n"
     ]
    }
   ],
   "source": [
    "best_num_nodes_plan, best_rate_plan, plan_accuracy = optimize_params(plan_features_train, labels_train, plan_features_valid, labels_valid)\n",
    "print(plan_accuracy.head(10), '\\n')\n",
    "print('Best parameters for plan view, nodes in hidden layer {}, dropout rate {}\\n'.format(best_num_nodes_plan, best_rate_plan))"
   ]
  },
  {
   "cell_type": "markdown",
   "id": "ba005288",
   "metadata": {},
   "source": [
    "#### Optimizing number of nodes in hidden layer for section view"
   ]
  },
  {
   "cell_type": "code",
   "execution_count": 7,
   "id": "52f46da5",
   "metadata": {},
   "outputs": [
    {
     "name": "stdout",
     "output_type": "stream",
     "text": [
      "   accuracy  nw__dropout_rate  nw__num_nodes\n",
      "8  0.723958               0.5           2048\n",
      "7  0.713542               0.5           1024\n",
      "5  0.708333               0.5            256\n",
      "0  0.703125               0.5              8\n",
      "1  0.697917               0.5             16\n",
      "6  0.687500               0.5            512\n",
      "2  0.682292               0.5             32\n",
      "3  0.682292               0.5             64\n",
      "4  0.682292               0.5            128 \n",
      "\n",
      "Best parameters for section view, nodes in hidden layer 2048, dropout rate 0.5\n",
      "\n"
     ]
    }
   ],
   "source": [
    "best_num_nodes_section, best_rate_section, section_accuracy = optimize_params(section_features_train, labels_train, section_features_valid, labels_valid)\n",
    "print(section_accuracy.head(10), '\\n')\n",
    "print('Best parameters for section view, nodes in hidden layer {}, dropout rate {}\\n'.format(best_num_nodes_section, best_rate_section))"
   ]
  },
  {
   "cell_type": "markdown",
   "id": "23d41fa8",
   "metadata": {},
   "source": [
    "### Define and fit each network\n",
    "For each 3D-view, define a network with the optimal number of nodes in the hidden layer as determined in the previous step, fit the network."
   ]
  },
  {
   "cell_type": "code",
   "execution_count": 8,
   "id": "22ba6264",
   "metadata": {},
   "outputs": [],
   "source": [
    "# define and fit a network for each 3D-view\n",
    "elevation_network, elevation_history = fit_network(best_num_nodes_elevation, best_rate_elevation, elevation_features_train, labels_train, elevation_features_valid, labels_valid)\n",
    "plan_network, plan_history = fit_network(best_num_nodes_plan, best_rate_plan, plan_features_train, labels_train, plan_features_valid, labels_valid)\n",
    "section_network, section_history = fit_network(best_num_nodes_section, best_rate_section, section_features_train, labels_train, section_features_valid, labels_valid)"
   ]
  },
  {
   "cell_type": "markdown",
   "id": "f9e50209",
   "metadata": {},
   "source": [
    "### Plot the networks' accuracy\n",
    "Plot the accuracy of each network separately."
   ]
  },
  {
   "cell_type": "code",
   "execution_count": 15,
   "id": "f4efea58",
   "metadata": {},
   "outputs": [
    {
     "data": {
      "image/png": "[encoded data removed]",
      "text/plain": [
       "<Figure size 1440x360 with 3 Axes>"
      ]
     },
     "metadata": {
      "needs_background": "light"
     },
     "output_type": "display_data"
    }
   ],
   "source": [
    "%matplotlib inline\n",
    "import matplotlib.pyplot as plt\n",
    "import numpy as np\n",
    "\n",
    "def plot_accuracy(ax, history, title):\n",
    "    ax.plot(history.history['acc'], label='train')\n",
    "    ax.plot(history.history['val_acc'], label='validation')\n",
    "    ax.set_xlabel('epoch')\n",
    "    ax.set_ylabel('accuracy')\n",
    "    ax.set_title(title)\n",
    "\n",
    "fig, ax = plt.subplots(1, 3, figsize=(20, 5))\n",
    "plot_accuracy(ax[0], elevation_history, 'Elevation')\n",
    "plot_accuracy(ax[1], plan_history, 'Plan')\n",
    "plot_accuracy(ax[2], section_history, 'Section')\n",
    "plt.legend(loc='upper right', bbox_to_anchor=(1.4, 1))\n",
    "plt.show();"
   ]
  },
  {
   "cell_type": "markdown",
   "id": "3c1f6f4b",
   "metadata": {},
   "source": [
    "### Accuracy on the test set for each network"
   ]
  },
  {
   "cell_type": "code",
   "execution_count": 10,
   "id": "4d64cbf5",
   "metadata": {},
   "outputs": [
    {
     "name": "stdout",
     "output_type": "stream",
     "text": [
      "The accuracy for the network trained on the elevation views on the test set is 0.82\n",
      "The accuracy for the network trained on the plan views on the test set is 0.71\n",
      "The accuracy for the network trained on the section views on the test set is 0.75\n"
     ]
    }
   ],
   "source": [
    "elevation_score = elevation_network.evaluate(elevation_features_test, labels_test, verbose=0)[1]\n",
    "print('The accuracy for the network trained on the elevation views on the test set is {:.2f}'.format(elevation_score))\n",
    "plan_score = plan_network.evaluate(plan_features_test, labels_test, verbose=0)[1]\n",
    "print('The accuracy for the network trained on the plan views on the test set is {:.2f}'.format(plan_score))\n",
    "section_score = section_network.evaluate(section_features_test, labels_test, verbose=0)[1]\n",
    "print('The accuracy for the network trained on the section views on the test set is {:.2f}'.format(section_score))"
   ]
  },
  {
   "cell_type": "markdown",
   "id": "1eea4707",
   "metadata": {},
   "source": [
    "Save the fitted networks for later use"
   ]
  },
  {
   "cell_type": "code",
   "execution_count": 11,
   "id": "d170a86d",
   "metadata": {},
   "outputs": [
    {
     "name": "stdout",
     "output_type": "stream",
     "text": [
      "WARNING:tensorflow:This model was compiled with a Keras optimizer (<tensorflow.python.keras.optimizers.SGD object at 0x7f4cc19d0358>) but is being saved in TensorFlow format with `save_weights`. The model's weights will be saved, but unlike with TensorFlow optimizers in the TensorFlow format the optimizer's state will not be saved.\n",
      "\n",
      "Consider using a TensorFlow optimizer from `tf.train`.\n",
      "WARNING:tensorflow:This model was compiled with a Keras optimizer (<tensorflow.python.keras.optimizers.SGD object at 0x7f4cc1609978>) but is being saved in TensorFlow format with `save_weights`. The model's weights will be saved, but unlike with TensorFlow optimizers in the TensorFlow format the optimizer's state will not be saved.\n",
      "\n",
      "Consider using a TensorFlow optimizer from `tf.train`.\n",
      "WARNING:tensorflow:This model was compiled with a Keras optimizer (<tensorflow.python.keras.optimizers.SGD object at 0x7f4cc129bc88>) but is being saved in TensorFlow format with `save_weights`. The model's weights will be saved, but unlike with TensorFlow optimizers in the TensorFlow format the optimizer's state will not be saved.\n",
      "\n",
      "Consider using a TensorFlow optimizer from `tf.train`.\n"
     ]
    }
   ],
   "source": [
    "elevation_network.save_weights('production/elevation_network.ckpt')\n",
    "plan_network.save_weights('production/plan_network.ckpt')\n",
    "section_network.save_weights('production/section_network.ckpt')\n"
   ]
  },
  {
   "cell_type": "code",
   "execution_count": 3,
   "id": "546c1744",
   "metadata": {},
   "outputs": [
    {
     "ename": "NameError",
     "evalue": "name 'best_elevation' is not defined",
     "output_type": "error",
     "traceback": [
      "\u001b[0;31m---------------------------------------------------------------------------\u001b[0m",
      "\u001b[0;31mNameError\u001b[0m                                 Traceback (most recent call last)",
      "\u001b[0;32m<ipython-input-3-3078eb6bd32f>\u001b[0m in \u001b[0;36m<module>\u001b[0;34m\u001b[0m\n\u001b[0;32m----> 1\u001b[0;31m \u001b[0melevation_network\u001b[0m \u001b[0;34m=\u001b[0m \u001b[0mdefine_network\u001b[0m\u001b[0;34m(\u001b[0m\u001b[0mbest_elevation\u001b[0m\u001b[0;34m)\u001b[0m\u001b[0;34m\u001b[0m\u001b[0;34m\u001b[0m\u001b[0m\n\u001b[0m\u001b[1;32m      2\u001b[0m \u001b[0melevation_network\u001b[0m\u001b[0;34m.\u001b[0m\u001b[0mcompile\u001b[0m\u001b[0;34m(\u001b[0m\u001b[0moptimizer\u001b[0m\u001b[0;34m=\u001b[0m\u001b[0;34m'sgd'\u001b[0m\u001b[0;34m,\u001b[0m \u001b[0mloss\u001b[0m\u001b[0;34m=\u001b[0m\u001b[0;34m'sparse_categorical_crossentropy'\u001b[0m\u001b[0;34m,\u001b[0m \u001b[0mmetrics\u001b[0m\u001b[0;34m=\u001b[0m\u001b[0;34m[\u001b[0m\u001b[0;34m'acc'\u001b[0m\u001b[0;34m]\u001b[0m\u001b[0;34m)\u001b[0m\u001b[0;34m\u001b[0m\u001b[0;34m\u001b[0m\u001b[0m\n\u001b[1;32m      3\u001b[0m \u001b[0melevation_network\u001b[0m\u001b[0;34m.\u001b[0m\u001b[0mload_weights\u001b[0m\u001b[0;34m(\u001b[0m\u001b[0;34m'production/elevation_network.ckpt'\u001b[0m\u001b[0;34m)\u001b[0m\u001b[0;34m\u001b[0m\u001b[0;34m\u001b[0m\u001b[0m\n\u001b[1;32m      4\u001b[0m \u001b[0melevation_network\u001b[0m\u001b[0;34m.\u001b[0m\u001b[0mevaluate\u001b[0m\u001b[0;34m(\u001b[0m\u001b[0melevation_features_test\u001b[0m\u001b[0;34m,\u001b[0m \u001b[0mlabels_test\u001b[0m\u001b[0;34m,\u001b[0m \u001b[0mverbose\u001b[0m\u001b[0;34m=\u001b[0m\u001b[0;36m0\u001b[0m\u001b[0;34m)\u001b[0m\u001b[0;34m[\u001b[0m\u001b[0;36m1\u001b[0m\u001b[0;34m]\u001b[0m\u001b[0;34m\u001b[0m\u001b[0;34m\u001b[0m\u001b[0m\n",
      "\u001b[0;31mNameError\u001b[0m: name 'best_elevation' is not defined"
     ]
    }
   ],
   "source": [
    "elevation_network = define_network(best_elevation)\n",
    "elevation_network.compile(optimizer='sgd', loss='sparse_categorical_crossentropy', metrics=['acc'])\n",
    "elevation_network.load_weights('production/elevation_network.ckpt')\n",
    "elevation_network.evaluate(elevation_features_test, labels_test, verbose=0)[1]"
   ]
  },
  {
   "cell_type": "markdown",
   "id": "b29b5919",
   "metadata": {},
   "source": [
    "## Combine results\n",
    "The results of the individual classifiers have to be combined into one final result for the ensemble."
   ]
  },
  {
   "cell_type": "code",
   "execution_count": null,
   "id": "964dbdfc",
   "metadata": {},
   "outputs": [],
   "source": []
  },
  {
   "cell_type": "markdown",
   "id": "df188fe1",
   "metadata": {},
   "source": [
    "## Compare the accuracies"
   ]
  },
  {
   "cell_type": "code",
   "execution_count": 12,
   "id": "38972ac8",
   "metadata": {},
   "outputs": [
    {
     "data": {
      "image/png": "[encoded data removed]",
      "text/plain": [
       "<Figure size 432x288 with 1 Axes>"
      ]
     },
     "metadata": {
      "needs_background": "light"
     },
     "output_type": "display_data"
    }
   ],
   "source": [
    "plt.barh(['Baseline', 'Elevation', 'Plan', 'Section'], width=[baseline_score, elevation_score, plan_score, section_score])\n",
    "plt.xlabel('Accuracy')\n",
    "plt.ylabel('')\n",
    "plt.title('Accuracy of each network')\n",
    "plt.show();"
   ]
  },
  {
   "cell_type": "markdown",
   "id": "d1ba64fc",
   "metadata": {},
   "source": [
    "# Test"
   ]
  },
  {
   "cell_type": "code",
   "execution_count": 16,
   "id": "24b774a7",
   "metadata": {},
   "outputs": [
    {
     "data": {
      "text/plain": [
       "0.8080808083818416"
      ]
     },
     "execution_count": 16,
     "metadata": {},
     "output_type": "execute_result"
    }
   ],
   "source": [
    "def fit_network(best_num_nodes, X_train, y_train, X_valid, y_valid):\n",
    "    \"\"\"\n",
    "    Fit a network as defined in define_network().\n",
    "    @param best_num_nodes int, number of nodes in the hidden layer\n",
    "    @params X_train, y_train, X_valid, y_valid numpy ndarrays\n",
    "    @return fitted tensorflow network ('Sequential' object), tensorflow fit history ('History' object)\n",
    "    \"\"\"\n",
    "    # define and compile the model with best number of nodes\n",
    "    network = define_network(best_num_nodes) \n",
    "    network.compile(optimizer='sgd', loss='sparse_categorical_crossentropy', metrics=['acc']) # using defaults\n",
    "    # fit\n",
    "    history = network.fit(\n",
    "        x=X_train,\n",
    "        y=y_train,\n",
    "        validation_data=(X_valid, y_valid), # do not use split, feed validation data directly\n",
    "        batch_size=128, # using a batch size larger than the default\n",
    "        epochs=200, # combine many epochs with early stopping\n",
    "        callbacks=[early_stopping],\n",
    "        shuffle=True,\n",
    "        verbose=0\n",
    "    )\n",
    "    return network, history\n",
    "\n",
    "\n",
    "test_network, test_history = fit_network(1022, elevation_features_train, labels_train, elevation_features_valid, labels_valid)\n",
    "test_network.evaluate(elevation_features_test, labels_test, verbose=0)[1]"
   ]
  },
  {
   "cell_type": "code",
   "execution_count": null,
   "id": "73f8eec2",
   "metadata": {},
   "outputs": [],
   "source": []
  }
 ],
 "metadata": {
  "kernelspec": {
   "display_name": "Python 3",
   "language": "python",
   "name": "python3"
  },
  "language_info": {
   "codemirror_mode": {
    "name": "ipython",
    "version": 3
   },
   "file_extension": ".py",
   "mimetype": "text/x-python",
   "name": "python",
   "nbconvert_exporter": "python",
   "pygments_lexer": "ipython3",
   "version": "3.6.13"
  }
 },
 "nbformat": 4,
 "nbformat_minor": 5
}
